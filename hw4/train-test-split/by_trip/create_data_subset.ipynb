{
 "cells": [
  {
   "cell_type": "code",
   "execution_count": 2,
   "metadata": {},
   "outputs": [],
   "source": [
    "import os"
   ]
  },
  {
   "cell_type": "code",
   "execution_count": 30,
   "metadata": {},
   "outputs": [],
   "source": [
    "train_regions = ['JAMSTEC', 'JAMSTEC2', 'NGDC', 'SIO']\n",
    "test_regions = ['US_multi']\n",
    "\n",
    "# use top 'num_tsvs' of dataset from each region\n",
    "train_size = 25\n",
    "validate_size = 5\n",
    "test_size = 100\n",
    "\n",
    "train_file = \"All-train.txt\"\n",
    "validate_file = \"All-validate.txt\"\n",
    "test_file = \"All-test.txt\"\n"
   ]
  },
  {
   "cell_type": "code",
   "execution_count": 31,
   "metadata": {},
   "outputs": [],
   "source": [
    "# train\n",
    "train_data = []\n",
    "for region in train_regions:\n",
    "    filename = region+\"-train.txt\"\n",
    "    with open(filename) as f:\n",
    "        data = f.readlines()\n",
    "        i = 0\n",
    "        for i, line in enumerate(data):            \n",
    "            train_data.append(line.strip('\\n'))\n",
    "            i +=1\n",
    "            if i >= train_size:\n",
    "                break\n",
    "                \n",
    "# print(train_data)\n",
    "\n",
    "with open(train_file,'w') as f:\n",
    "    for d in train_data:\n",
    "#         print(d)\n",
    "        f.write(d+'\\n')"
   ]
  },
  {
   "cell_type": "code",
   "execution_count": 38,
   "metadata": {},
   "outputs": [
    {
     "name": "stdout",
     "output_type": "stream",
     "text": [
      "JAMSTEC-validate.txt\n",
      "JAMSTEC2-validate.txt\n",
      "NGDC-validate.txt\n",
      "SIO-validate.txt\n"
     ]
    }
   ],
   "source": [
    "# validate\n",
    "validate_data = []\n",
    "for region in train_regions:\n",
    "    filename = region+\"-validate.txt\"\n",
    "#     print(filename)\n",
    "    with open(filename) as f:\n",
    "        data = f.readlines()\n",
    "        i = 0\n",
    "        for i, line in enumerate(data):            \n",
    "            validate_data.append(line.strip('\\n'))\n",
    "            i +=1\n",
    "            if i >= validate_size:\n",
    "                break\n",
    "                \n",
    "# print(train_data)\n",
    "\n",
    "with open(validate_file,'w') as f:\n",
    "    for d in validate_data:\n",
    "#         print(d)\n",
    "        f.write(d+'\\n')"
   ]
  },
  {
   "cell_type": "code",
   "execution_count": 33,
   "metadata": {},
   "outputs": [],
   "source": [
    "# validate\n",
    "test_data = []\n",
    "for region in test_regions:\n",
    "    filename = region+\"-test.txt\"\n",
    "    with open(filename) as f:\n",
    "        data = f.readlines()\n",
    "        i = 0\n",
    "        for i, line in enumerate(data):            \n",
    "            test_data.append(line.strip('\\n'))\n",
    "            i +=1\n",
    "            if i > test_size:\n",
    "                break\n",
    "                \n",
    "# print(train_data)\n",
    "\n",
    "with open(test_file,'w') as f:\n",
    "    for d in test_data:\n",
    "#         print(d)\n",
    "        f.write(d+'\\n')"
   ]
  },
  {
   "cell_type": "code",
   "execution_count": 11,
   "metadata": {},
   "outputs": [
    {
     "name": "stdout",
     "output_type": "stream",
     "text": [
      "0\n",
      "0\n",
      "0\n",
      "1\n",
      "1\n",
      "1\n",
      "2\n",
      "2\n",
      "2\n"
     ]
    }
   ],
   "source": []
  },
  {
   "cell_type": "code",
   "execution_count": null,
   "metadata": {},
   "outputs": [],
   "source": []
  }
 ],
 "metadata": {
  "kernelspec": {
   "display_name": "Python 3",
   "language": "python",
   "name": "python3"
  },
  "language_info": {
   "codemirror_mode": {
    "name": "ipython",
    "version": 3
   },
   "file_extension": ".py",
   "mimetype": "text/x-python",
   "name": "python",
   "nbconvert_exporter": "python",
   "pygments_lexer": "ipython3",
   "version": "3.7.7"
  }
 },
 "nbformat": 4,
 "nbformat_minor": 4
}
