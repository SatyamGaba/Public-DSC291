{
 "cells": [
  {
   "cell_type": "code",
   "execution_count": 4,
   "metadata": {},
   "outputs": [],
   "source": [
    "import pickle\n",
    "import numpy as np"
   ]
  },
  {
   "cell_type": "code",
   "execution_count": 2,
   "metadata": {},
   "outputs": [],
   "source": [
    "pickle_filename = \"./runtime_scores/model_SIO_test_SIO_scores.pkl\""
   ]
  },
  {
   "cell_type": "code",
   "execution_count": 29,
   "metadata": {},
   "outputs": [],
   "source": [
    "with open(pickle_filename, \"rb\") as f:\n",
    "  features, label, scores, weights = pickle.load(f)"
   ]
  },
  {
   "cell_type": "code",
   "execution_count": 30,
   "metadata": {},
   "outputs": [
    {
     "name": "stdout",
     "output_type": "stream",
     "text": [
      "(5749943, 4)\n",
      "(5749943,)\n",
      "(5749943,)\n",
      "(5749943,)\n",
      "[ 146.33387  -43.9179  -167.      -163.     ]\n",
      "1\n",
      "0.9853050484204477\n"
     ]
    }
   ],
   "source": [
    "print(features.shape)\n",
    "print(label.shape)\n",
    "print(scores.shape)\n",
    "print(weights.shape)\n",
    "\n",
    "print(features[0])\n",
    "print(label[0])\n",
    "print(scores[0])"
   ]
  },
  {
   "cell_type": "code",
   "execution_count": 31,
   "metadata": {},
   "outputs": [
    {
     "name": "stdout",
     "output_type": "stream",
     "text": [
      "4652993\n"
     ]
    }
   ],
   "source": [
    "print(len(np.where(scores >= 0.75)[0]))"
   ]
  },
  {
   "cell_type": "code",
   "execution_count": null,
   "metadata": {},
   "outputs": [],
   "source": []
  }
 ],
 "metadata": {
  "kernelspec": {
   "display_name": "Python 3",
   "language": "python",
   "name": "python3"
  },
  "language_info": {
   "codemirror_mode": {
    "name": "ipython",
    "version": 3
   },
   "file_extension": ".py",
   "mimetype": "text/x-python",
   "name": "python",
   "nbconvert_exporter": "python",
   "pygments_lexer": "ipython3",
   "version": "3.7.7"
  }
 },
 "nbformat": 4,
 "nbformat_minor": 4
}
