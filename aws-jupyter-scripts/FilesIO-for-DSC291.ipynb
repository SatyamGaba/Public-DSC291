{
 "cells": [
  {
   "cell_type": "markdown",
   "metadata": {},
   "source": [
    "# Local files\n",
    "\n",
    "### Download and Uplaod\n",
    "\n",
    "Download and upload files via the Spark Notebook interface.\n",
    "\n",
    "### Access Local Files\n",
    "\n",
    "The file path to local files requires `file://` prefix."
   ]
  },
  {
   "cell_type": "code",
   "execution_count": 1,
   "metadata": {},
   "outputs": [
    {
     "name": "stdout",
     "output_type": "stream",
     "text": [
      "/etc/passwd\r\n"
     ]
    }
   ],
   "source": [
    "ls /etc/passwd"
   ]
  },
  {
   "cell_type": "markdown",
   "metadata": {},
   "source": [
    "# s3helper\n",
    "\n",
    "The object `s3helper` is a tool to transfer files between local filesystem, HDFS and S3.\n",
    "\n",
    "Run `s3helper.help()` to learn all its methods."
   ]
  },
  {
   "cell_type": "code",
   "execution_count": 2,
   "metadata": {},
   "outputs": [
    {
     "name": "stdout",
     "output_type": "stream",
     "text": [
      "\n",
      "        s3helper is a helper object to move files and directory between\n",
      "        local filesystem, AWS S3 and local HDFS.\n",
      "\n",
      "        Usage:\n",
      "\n",
      "        1. Open a S3 bucket under your account\n",
      "            s3helper.open_bucket(<bucket_name>)\n",
      "        2. List all files under the opened S3 bucket\n",
      "            s3helper.ls() or s3helper.ls_s3()\n",
      "        Or optionally,\n",
      "            s3helper.ls(<file_path>) or s3helper.ls_s3(<file_path>)\n",
      "        3. List all files on HDFS\n",
      "            s3helper.ls_hdfs()\n",
      "        Or optionally,\n",
      "            s3helper.ls_hdfs(<file_path>)\n",
      "        where <file_path> is an absolute path in the opened S3 bucket.\n",
      "\n",
      "        Now you can access your S3 files.\n",
      "\n",
      "        1. Transfer files between S3 and HDFS\n",
      "          a. To download all S3 files under a directory to HDFS, please call\n",
      "                s3helper.s3_to_hdfs(<s3_directory_path>, <HDFS_directory_path>)\n",
      "          b. To upload a directory on HDFS to S3, please call\n",
      "                s3helper.hdfs_to_s3(<HDFS_directory_path>, <s3_directory_path>)\n",
      "\n",
      "        2. Transfer files between S3 and local filesystem (not HDFS)\n",
      "          a. To download one single S3 file to local filesystem, please call\n",
      "                s3helper.s3_to_local(<s3_file_path>, <local_file_path>)\n",
      "          b. To upload a file on local filesystem to S3, please call\n",
      "                s3helper.local_to_s3(<local_file_path>, <s3_directory_path>)\n",
      "\n",
      "        3. Transfer files between local filesystem and HDFS\n",
      "          a. To upload a directory on local filesystem to HDFS, please call\n",
      "                s3helper.local_to_hdfs(<local_dir_path>, <HDFS_dir_path>)\n",
      "\n",
      "        4. Get S3 file paths without data transfer\n",
      "          a. To get the URLs of S3 files under a directory, please call\n",
      "                s3helper.get_path(<s3_directory_path>)\n",
      "          Note this method do nothing on your local HDFS.\n",
      "        \n"
     ]
    }
   ],
   "source": [
    "s3helper.help()"
   ]
  },
  {
   "cell_type": "markdown",
   "metadata": {},
   "source": [
    "## (2) Copy meta information files"
   ]
  },
  {
   "cell_type": "code",
   "execution_count": 3,
   "metadata": {
    "collapsed": true
   },
   "outputs": [],
   "source": [
    "s3helper.open_bucket('mas-dse-open',region='us-west-2')"
   ]
  },
  {
   "cell_type": "code",
   "execution_count": 4,
   "metadata": {
    "collapsed": true,
    "scrolled": true
   },
   "outputs": [],
   "source": [
    "info_files=s3helper.ls('Weather/Info')\n",
    "Without_path=[x[13:] for x in info_files]\n"
   ]
  },
  {
   "cell_type": "code",
   "execution_count": 5,
   "metadata": {
    "collapsed": true,
    "scrolled": true
   },
   "outputs": [],
   "source": [
    "!mkdir /mnt/workspace/WeatherInfo"
   ]
  },
  {
   "cell_type": "code",
   "execution_count": 6,
   "metadata": {
    "scrolled": true
   },
   "outputs": [
    {
     "name": "stdout",
     "output_type": "stream",
     "text": [
      "From Weather/Info/README.md to /mnt/workspace/WeatherInfo/README.md\n",
      "From Weather/Info/US_stations.tsv.gz to /mnt/workspace/WeatherInfo/US_stations.tsv.gz\n",
      "From Weather/Info/all_stations.tsv.gz to /mnt/workspace/WeatherInfo/all_stations.tsv.gz\n",
      "From Weather/Info/data-source.txt to /mnt/workspace/WeatherInfo/data-source.txt\n",
      "From Weather/Info/dist2coast.txt.gz to /mnt/workspace/WeatherInfo/dist2coast.txt.gz\n",
      "From Weather/Info/ghcnd-countries.txt to /mnt/workspace/WeatherInfo/ghcnd-countries.txt\n",
      "From Weather/Info/ghcnd-readme.txt to /mnt/workspace/WeatherInfo/ghcnd-readme.txt\n",
      "From Weather/Info/ghcnd-states.txt to /mnt/workspace/WeatherInfo/ghcnd-states.txt\n",
      "From Weather/Info/ghcnd-stations_buffered.txt to /mnt/workspace/WeatherInfo/ghcnd-stations_buffered.txt\n",
      "From Weather/Info/ghcnd-version.txt to /mnt/workspace/WeatherInfo/ghcnd-version.txt\n",
      "From Weather/Info/stations_projections.pickle to /mnt/workspace/WeatherInfo/stations_projections.pickle\n"
     ]
    }
   ],
   "source": [
    "for i in range(len(info_files)-1):   # Last entry is the directory name\n",
    "    _from=info_files[i]\n",
    "    _to='/mnt/workspace/WeatherInfo/'+Without_path[i]\n",
    "    print('From %s to %s'%(_from,_to))\n",
    "    s3helper.s3_to_local(_from,_to)"
   ]
  },
  {
   "cell_type": "markdown",
   "metadata": {},
   "source": [
    "### Link to original information\n",
    "\n",
    "Looking in README.md, you see that all of the data can be downloaded from the noaa web site."
   ]
  },
  {
   "cell_type": "code",
   "execution_count": null,
   "metadata": {
    "collapsed": true
   },
   "outputs": [],
   "source": [
    "# %load /mnt/workspace/WeatherInfo/README.md"
   ]
  },
  {
   "cell_type": "markdown",
   "metadata": {},
   "source": [
    "## Meta-data for weather data collection\n",
    "\n",
    "### Original info files\n",
    "Downloaded from ftp://ftp.ncdc.noaa.gov/pub/data/ghcn/daily/  \n",
    "\n",
    "* 2016-04-13 13:58:29        270 `ghcnd-version.txt`\n",
    "* 2016-04-13 13:58:26        218 `data-source.txt`\n",
    "* 2016-04-13 13:58:27      22422 `ghcnd-readme.txt`  : Main documentation.\n",
    "* 2016-04-13 13:58:28    7760844 `ghcnd-stations_buffered.txt`\n",
    "\n",
    "### Compliled tables\n",
    "* 2018-03-15 08:52:40    1519539 `all_stations.tsv.gz` : a tab-separated version of `ghcnd-stations_buffered.txt`\n",
    "* 2018-03-15 08:52:16     328590 `US_stations.tsv.gz` : a tab separated list of stations in the US that have a sufficient number of measurement. Includes also distance to shoreline for station.\n"
   ]
  },
  {
   "cell_type": "code",
   "execution_count": 9,
   "metadata": {},
   "outputs": [
    {
     "name": "stdout",
     "output_type": "stream",
     "text": [
      "README FILE FOR DAILY GLOBAL HISTORICAL CLIMATOLOGY NETWORK (GHCN-DAILY) \r\n",
      "Version 3.00\r\n",
      "\r\n",
      "--------------------------------------------------------------------------------\r\n",
      "--------------------------------------------------------------------------------\r\n",
      "\r\n",
      "I. DOWNLOAD QUICK START\r\n",
      "\r\n",
      "Start by downloading \"ghcnd-stations.txt,\" which has metadata for all stations.\r\n",
      "\r\n",
      "Then download one of the following TAR files:\r\n",
      "\r\n",
      "  - \"ghcnd-all.tar.gz\" if you want all of GHCN-Daily, OR\r\n",
      "  - \"ghcnd-gsn.tar.gz\" if you only want the GCOS Surface Network (GSN), OR\r\n",
      "  - \"ghcnd-hcn.tar.gz\" if you only want the U.S. Historical Climatology Network \r\n",
      "    (U.S. HCN).\r\n",
      "\r\n",
      "Then uncompress and untar the contents of the tar file, \r\n",
      "e.g., by using the following Linux command:\r\n",
      "\r\n",
      "tar xzvf ghcnd_xxx.tar.gz\r\n",
      "\r\n",
      "Where \"xxx\" stands for \"all\", \"hcn\", or \"gsn\" as applicable. The files will be \r\n",
      "extracted into a subdirectory under the directory where the command is issued.\r\n",
      "\r\n",
      "ALTERNATIVELY, if you only need data for one station:\r\n",
      "\r\n",
      "  - Find the station's name in \"ghcnd-stations.txt\" and note its station\r\n",
      "    identification code (e.g., PHOENIX AP (Airport) is \"USW00023183\"); and\r\n",
      "  - Download the data file (i.e., \".dly\" file) that corresponds to this code\r\n",
      "    (e.g., \"USW00023183.dly\" has the data for PHOENIX AP).  \r\n",
      "    Note that the \".dly\" file is located in the \"all\" subdirectory.\r\n",
      "\r\n",
      "--------------------------------------------------------------------------------\r\n",
      "--------------------------------------------------------------------------------\r\n",
      "\r\n",
      "II. CONTENTS OF ftp://ftp.ncdc.noaa.gov/pub/data/ghcn/daily\r\n",
      "\r\n",
      "all:                  Directory with \".dly\" files for all of GHCN-Daily\r\n",
      "gsn:                  Directory with \".dly\" files for the GCOS Surface Network \r\n",
      "                     (GSN)\r\n",
      "hcn:                  Directory with \".dly\" files for U.S. HCN\r\n",
      "by_year:              Directory with GHCN Daily files parsed into yearly\r\n",
      "                      subsets with observation times where available.  See the\r\n",
      "\t\t      /by_year/readme.txt and \r\n",
      "\t\t      /by_year/ghcn-daily-by_year-format.rtf \r\n",
      "\t\t      files for further information\r\n",
      "grid:\t              Directory with the GHCN-Daily gridded dataset known \r\n",
      "                      as HadGHCND\r\n",
      "papers:\t\t      Directory with pdf versions of journal articles relevant \r\n",
      "                      to the GHCN-Daily dataset\r\n",
      "figures:\t      Directory containing figures that summarize the inventory \r\n",
      "                      of GHCN-Daily station records\t\t    \r\n",
      "\r\n",
      "ghcnd-all.tar.gz:  TAR file of the GZIP-compressed files in the \"all\" directory\r\n",
      "ghcnd-gsn.tar.gz:  TAR file of the GZIP-compressed \"gsn\" directory\r\n",
      "ghcnd-hcn.tar.gz:  TAR file of the GZIP-compressed \"hcn\" directory\r\n",
      "\r\n",
      "ghcnd-countries.txt:  List of country codes (FIPS) and names\r\n",
      "ghcnd-inventory.txt:  File listing the periods of record for each station and \r\n",
      "                      element\r\n",
      "ghcnd-stations.txt:   List of stations and their metadata (e.g., coordinates)\r\n",
      "ghcnd-states.txt:     List of U.S. state and Canadian Province codes \r\n",
      "                      used in ghcnd-stations.txt\r\n",
      "ghcnd-version.txt:    File that specifies the current version of GHCN Daily\r\n",
      "\r\n",
      "readme.txt:           This file\r\n",
      "status.txt:           Notes on the current status of GHCN-Daily\r\n",
      "\r\n",
      "--------------------------------------------------------------------------------\r\n",
      "--------------------------------------------------------------------------------\r\n",
      "\r\n",
      "III. FORMAT OF DATA FILES (\".dly\" FILES)\r\n",
      "\r\n",
      "Each \".dly\" file contains data for one station.  The name of the file\r\n",
      "corresponds to a station's identification code.  For example, \"USC00026481.dly\"\r\n",
      "contains the data for the station with the identification code USC00026481).\r\n",
      "\r\n",
      "Each record in a file contains one month of daily data.  The variables on each\r\n",
      "line include the following:\r\n",
      "\r\n",
      "------------------------------\r\n",
      "Variable   Columns   Type\r\n",
      "------------------------------\r\n",
      "ID            1-11   Character\r\n",
      "YEAR         12-15   Integer\r\n",
      "MONTH        16-17   Integer\r\n",
      "ELEMENT      18-21   Character\r\n",
      "VALUE1       22-26   Integer\r\n",
      "MFLAG1       27-27   Character\r\n",
      "QFLAG1       28-28   Character\r\n",
      "SFLAG1       29-29   Character\r\n",
      "VALUE2       30-34   Integer\r\n",
      "MFLAG2       35-35   Character\r\n",
      "QFLAG2       36-36   Character\r\n",
      "SFLAG2       37-37   Character\r\n",
      "  .           .          .\r\n",
      "  .           .          .\r\n",
      "  .           .          .\r\n",
      "VALUE31    262-266   Integer\r\n",
      "MFLAG31    267-267   Character\r\n",
      "QFLAG31    268-268   Character\r\n",
      "SFLAG31    269-269   Character\r\n",
      "------------------------------\r\n",
      "\r\n",
      "These variables have the following definitions:\r\n",
      "\r\n",
      "ID         is the station identification code.  Please see \"ghcnd-stations.txt\"\r\n",
      "           for a complete list of stations and their metadata.\r\n",
      "YEAR       is the year of the record.\r\n",
      "\r\n",
      "MONTH      is the month of the record.\r\n",
      "\r\n",
      "ELEMENT    is the element type.   There are five core elements as well as a number\r\n",
      "           of addition elements.  \r\n",
      "\t   \r\n",
      "\t   The five core elements are:\r\n",
      "\r\n",
      "           PRCP = Precipitation (tenths of mm)\r\n",
      "   \t   SNOW = Snowfall (mm)\r\n",
      "\t   SNWD = Snow depth (mm)\r\n",
      "           TMAX = Maximum temperature (tenths of degrees C)\r\n",
      "           TMIN = Minimum temperature (tenths of degrees C)\r\n",
      "\t   \r\n",
      "\t   The other elements are:\r\n",
      "\t   \r\n",
      "\t   ACMC = Average cloudiness midnight to midnight from 30-second \r\n",
      "\t          ceilometer data (percent)\r\n",
      "\t   ACMH = Average cloudiness midnight to midnight from \r\n",
      "\t          manual observations (percent)\r\n",
      "           ACSC = Average cloudiness sunrise to sunset from 30-second \r\n",
      "\t          ceilometer data (percent)\r\n",
      "\t   ACSH = Average cloudiness sunrise to sunset from manual \r\n",
      "\t          observations (percent)\r\n",
      "\t   AWND = Average daily wind speed (tenths of meters per second)\r\n",
      "\t   DAEV = Number of days included in the multiday evaporation\r\n",
      "\t          total (MDEV)\r\n",
      "\t   DAPR = Number of days included in the multiday precipiation \r\n",
      "\t          total (MDPR)\r\n",
      "           DASF = Number of days included in the multiday snowfall \r\n",
      "\t          total (MDSF)\t\t  \r\n",
      "\t   DATN = Number of days included in the multiday minimum temperature \r\n",
      "\t         (MDTN)\r\n",
      "\t   DATX = Number of days included in the multiday maximum temperature \r\n",
      "\t          (MDTX)\r\n",
      "           DAWM = Number of days included in the multiday wind movement\r\n",
      "\t          (MDWM)\r\n",
      "\t   DWPR = Number of days with non-zero precipitation included in \r\n",
      "\t          multiday precipitation total (MDPR)\r\n",
      "\t   EVAP = Evaporation of water from evaporation pan (tenths of mm)\r\n",
      "\t   FMTM = Time of fastest mile or fastest 1-minute wind \r\n",
      "\t          (hours and minutes, i.e., HHMM)\r\n",
      "\t   FRGB = Base of frozen ground layer (cm)\r\n",
      "\t   FRGT = Top of frozen ground layer (cm)\r\n",
      "\t   FRTH = Thickness of frozen ground layer (cm)\r\n",
      "\t   GAHT = Difference between river and gauge height (cm)\r\n",
      "\t   MDEV = Multiday evaporation total (tenths of mm; use with DAEV)\r\n",
      "\t   MDPR = Multiday precipitation total (tenths of mm; use with DAPR and \r\n",
      "\t          DWPR, if available)\r\n",
      "\t   MDSF = Multiday snowfall total \r\n",
      "\t   MDTN = Multiday minimum temperature (tenths of degrees C; use with \r\n",
      "\t          DATN)\r\n",
      "\t   MDTX = Multiday maximum temperature (tenths of degress C; use with \r\n",
      "\t          DATX)\r\n",
      "\t   MDWM = Multiday wind movement (km)\r\n",
      "           MNPN = Daily minimum temperature of water in an evaporation pan \r\n",
      "\t         (tenths of degrees C)\r\n",
      "           MXPN = Daily maximum temperature of water in an evaporation pan \r\n",
      "\t         (tenths of degrees C)\r\n",
      "\t   PGTM = Peak gust time (hours and minutes, i.e., HHMM)\r\n",
      "\t   PSUN = Daily percent of possible sunshine (percent)\r\n",
      "\t   SN*# = Minimum soil temperature (tenths of degrees C)\r\n",
      "\t          where * corresponds to a code\r\n",
      "\t          for ground cover and # corresponds to a code for soil \r\n",
      "\t\t  depth.  \r\n",
      "\t\t  \r\n",
      "\t\t  Ground cover codes include the following:\r\n",
      "\t\t  0 = unknown\r\n",
      "\t\t  1 = grass\r\n",
      "\t\t  2 = fallow\r\n",
      "\t\t  3 = bare ground\r\n",
      "\t\t  4 = brome grass\r\n",
      "\t\t  5 = sod\r\n",
      "\t\t  6 = straw multch\r\n",
      "\t\t  7 = grass muck\r\n",
      "\t\t  8 = bare muck\r\n",
      "\t\t  \r\n",
      "\t\t  Depth codes include the following:\r\n",
      "\t\t  1 = 5 cm\r\n",
      "\t\t  2 = 10 cm\r\n",
      "\t\t  3 = 20 cm\r\n",
      "\t\t  4 = 50 cm\r\n",
      "\t\t  5 = 100 cm\r\n",
      "\t\t  6 = 150 cm\r\n",
      "\t\t  7 = 180 cm\r\n",
      "\t\t  \r\n",
      "\t   SX*# = Maximum soil temperature (tenths of degrees C) \r\n",
      "\t          where * corresponds to a code for ground cover \r\n",
      "\t\t  and # corresponds to a code for soil depth. \r\n",
      "\t\t  See SN*# for ground cover and depth codes. \r\n",
      "\r\n",
      "           THIC = Thickness of ice on water (tenths of mm)\t\r\n",
      " \t   TOBS = Temperature at the time of observation (tenths of degrees C)\r\n",
      "\t   TSUN = Daily total sunshine (minutes)\r\n",
      "\t   WDF1 = Direction of fastest 1-minute wind (degrees)\r\n",
      "\t   WDF2 = Direction of fastest 2-minute wind (degrees)\r\n",
      "\t   WDF5 = Direction of fastest 5-second wind (degrees)\r\n",
      "\t   WDFG = Direction of peak wind gust (degrees)\r\n",
      "\t   WDFI = Direction of highest instantaneous wind (degrees)\r\n",
      "\t   WDFM = Fastest mile wind direction (degrees)\r\n",
      "           WDMV = 24-hour wind movement (km)\t   \r\n",
      "           WESD = Water equivalent of snow on the ground (tenths of mm)\r\n",
      "\t   WESF = Water equivalent of snowfall (tenths of mm)\r\n",
      "\t   WSF1 = Fastest 1-minute wind speed (tenths of meters per second)\r\n",
      "\t   WSF2 = Fastest 2-minute wind speed (tenths of meters per second)\r\n",
      "\t   WSF5 = Fastest 5-second wind speed (tenths of meters per second)\r\n",
      "\t   WSFG = Peak guest wind speed (tenths of meters per second)\r\n",
      "\t   WSFI = Highest instantaneous wind speed (tenths of meters per second)\r\n",
      "\t   WSFM = Fastest mile wind speed (tenths of meters per second)\r\n",
      "\t   WT** = Weather Type where ** has one of the following values:\r\n",
      "\t   \r\n",
      "                  01 = Fog, ice fog, or freezing fog (may include heavy fog)\r\n",
      "                  02 = Heavy fog or heaving freezing fog (not always \r\n",
      "\t\t       distinquished from fog)\r\n",
      "                  03 = Thunder\r\n",
      "                  04 = Ice pellets, sleet, snow pellets, or small hail \r\n",
      "                  05 = Hail (may include small hail)\r\n",
      "                  06 = Glaze or rime \r\n",
      "                  07 = Dust, volcanic ash, blowing dust, blowing sand, or \r\n",
      "\t\t       blowing obstruction\r\n",
      "                  08 = Smoke or haze \r\n",
      "                  09 = Blowing or drifting snow\r\n",
      "                  10 = Tornado, waterspout, or funnel cloud \r\n",
      "                  11 = High or damaging winds\r\n",
      "                  12 = Blowing spray\r\n",
      "                  13 = Mist\r\n",
      "                  14 = Drizzle\r\n",
      "                  15 = Freezing drizzle \r\n",
      "                  16 = Rain (may include freezing rain, drizzle, and\r\n",
      "\t\t       freezing drizzle) \r\n",
      "                  17 = Freezing rain \r\n",
      "                  18 = Snow, snow pellets, snow grains, or ice crystals\r\n",
      "                  19 = Unknown source of precipitation \r\n",
      "                  21 = Ground fog \r\n",
      "                  22 = Ice fog or freezing fog\r\n",
      "\t\t  \r\n",
      "            WV** = Weather in the Vicinity where ** has one of the following \r\n",
      "\t           values:\r\n",
      "\t\t   \r\n",
      "\t\t   01 = Fog, ice fog, or freezing fog (may include heavy fog)\r\n",
      "\t\t   03 = Thunder\r\n",
      "\t\t   07 = Ash, dust, sand, or other blowing obstruction\r\n",
      "\t\t   18 = Snow or ice crystals\r\n",
      "\t\t   20 = Rain or snow shower\r\n",
      "\t\t   \r\n",
      "VALUE1     is the value on the first day of the month (missing = -9999).\r\n",
      "\r\n",
      "MFLAG1     is the measurement flag for the first day of the month.  There are\r\n",
      "           ten possible values:\r\n",
      "\r\n",
      "           Blank = no measurement information applicable\r\n",
      "           B     = precipitation total formed from two 12-hour totals\r\n",
      "           D     = precipitation total formed from four six-hour totals\r\n",
      "\t   H     = represents highest or lowest hourly temperature\r\n",
      "\t   K     = converted from knots \r\n",
      "\t   L     = temperature appears to be lagged with respect to reported\r\n",
      "\t           hour of observation \r\n",
      "           O     = converted from oktas \r\n",
      "\t   P     = identified as \"missing presumed zero\" in DSI 3200 and 3206\r\n",
      "           T     = trace of precipitation, snowfall, or snow depth\r\n",
      "\t   W     = converted from 16-point WBAN code (for wind direction)\r\n",
      "\r\n",
      "QFLAG1     is the quality flag for the first day of the month.  There are \r\n",
      "           fourteen possible values:\r\n",
      "\r\n",
      "           Blank = did not fail any quality assurance check\r\n",
      "           D     = failed duplicate check\r\n",
      "           G     = failed gap check\r\n",
      "           I     = failed internal consistency check\r\n",
      "           K     = failed streak/frequent-value check\r\n",
      "\t   L     = failed check on length of multiday period \r\n",
      "           M     = failed megaconsistency check\r\n",
      "           N     = failed naught check\r\n",
      "           O     = failed climatological outlier check\r\n",
      "           R     = failed lagged range check\r\n",
      "           S     = failed spatial consistency check\r\n",
      "           T     = failed temporal consistency check\r\n",
      "           W     = temperature too warm for snow\r\n",
      "           X     = failed bounds check\r\n",
      "\t   Z     = flagged as a result of an official Datzilla \r\n",
      "\t           investigation\r\n",
      "\r\n",
      "SFLAG1     is the source flag for the first day of the month.  There are \r\n",
      "           twenty seven possible values (including blank, upper and \r\n",
      "\t   lower case letters):\r\n",
      "\r\n",
      "           Blank = No source (i.e., data value missing)\r\n",
      "           0     = U.S. Cooperative Summary of the Day (NCDC DSI-3200)\r\n",
      "           6     = CDMP Cooperative Summary of the Day (NCDC DSI-3206)\r\n",
      "           7     = U.S. Cooperative Summary of the Day -- Transmitted \r\n",
      "\t           via WxCoder3 (NCDC DSI-3207)\r\n",
      "           A     = U.S. Automated Surface Observing System (ASOS) \r\n",
      "                   real-time data (since January 1, 2006)\r\n",
      "\t   a     = Australian data from the Australian Bureau of Meteorology\r\n",
      "           B     = U.S. ASOS data for October 2000-December 2005 (NCDC \r\n",
      "                   DSI-3211)\r\n",
      "\t   b     = Belarus update\r\n",
      "\t   E     = European Climate Assessment and Dataset (Klein Tank \r\n",
      "\t           et al., 2002)\t   \r\n",
      "           F     = U.S. Fort data \r\n",
      "           G     = Official Global Climate Observing System (GCOS) or \r\n",
      "                   other government-supplied data\r\n",
      "           H     = High Plains Regional Climate Center real-time data\r\n",
      "           I     = International collection (non U.S. data received through\r\n",
      "\t           personal contacts)\r\n",
      "           K     = U.S. Cooperative Summary of the Day data digitized from\r\n",
      "\t           paper observer forms (from 2011 to present)\r\n",
      "           M     = Monthly METAR Extract (additional ASOS data)\r\n",
      "\t   N     = Community Collaborative Rain, Hail,and Snow (CoCoRaHS)\r\n",
      "\t   Q     = Data from several African countries that had been \r\n",
      "\t           \"quarantined\", that is, withheld from public release\r\n",
      "\t\t   until permission was granted from the respective \r\n",
      "\t           meteorological services\r\n",
      "           R     = NCDC Reference Network Database (Climate Reference Network\r\n",
      "\t           and Historical Climatology Network-Modernized)\r\n",
      "\t   r     = All-Russian Research Institute of Hydrometeorological \r\n",
      "\t           Information-World Data Center\r\n",
      "           S     = Global Summary of the Day (NCDC DSI-9618)\r\n",
      "                   NOTE: \"S\" values are derived from hourly synoptic reports\r\n",
      "                   exchanged on the Global Telecommunications System (GTS).\r\n",
      "                   Daily values derived in this fashion may differ significantly\r\n",
      "                   from \"true\" daily data, particularly for precipitation\r\n",
      "                   (i.e., use with caution).\r\n",
      "           T     = SNOwpack TELemtry (SNOTEL) data obtained from the Western\r\n",
      "\t           Regional Climate Center\r\n",
      "\t   U     = Remote Automatic Weather Station (RAWS) data obtained\r\n",
      "\t           from the Western Regional Climate Center\t   \r\n",
      "\t   u     = Ukraine update\t   \r\n",
      "\t   W     = WBAN/ASOS Summary of the Day from NCDC's Integrated \r\n",
      "\t           Surface Data (ISD).  \r\n",
      "           X     = U.S. First-Order Summary of the Day (NCDC DSI-3210)\r\n",
      "\t   Z     = Datzilla official additions or replacements \r\n",
      "\t   z     = Uzbekistan update\r\n",
      "\t   \r\n",
      "\t   When data are available for the same time from more than one source,\r\n",
      "\t   the highest priority source is chosen according to the following\r\n",
      "\t   priority order (from highest to lowest):\r\n",
      "\t   Z,R,0,6,X,W,K,7,F,B,M,r,E,z,u,b,a,G,Q,I,A,N,H,S\r\n",
      "\t   \r\n",
      "\t   \r\n",
      "VALUE2     is the value on the second day of the month\r\n",
      "\r\n",
      "MFLAG2     is the measurement flag for the second day of the month.\r\n",
      "\r\n",
      "QFLAG2     is the quality flag for the second day of the month.\r\n",
      "\r\n",
      "SFLAG2     is the source flag for the second day of the month.\r\n",
      "\r\n",
      "... and so on through the 31st day of the month.  Note: If the month has less \r\n",
      "than 31 days, then the remaining variables are set to missing (e.g., for April, \r\n",
      "VALUE31 = -9999, MFLAG31 = blank, QFLAG31 = blank, SFLAG31 = blank).\r\n",
      "\r\n",
      "--------------------------------------------------------------------------------\r\n",
      "--------------------------------------------------------------------------------\r\n",
      "\r\n",
      "IV. FORMAT OF \"ghcnd-stations.txt\"\r\n",
      "\r\n",
      "------------------------------\r\n",
      "Variable   Columns   Type\r\n",
      "------------------------------\r\n",
      "ID            1-11   Character\r\n",
      "LATITUDE     13-20   Real\r\n",
      "LONGITUDE    22-30   Real\r\n",
      "ELEVATION    32-37   Real\r\n",
      "STATE        39-40   Character\r\n",
      "NAME         42-71   Character\r\n",
      "GSNFLAG      73-75   Character\r\n",
      "HCNFLAG      77-79   Character\r\n",
      "WMOID        81-85   Character\r\n",
      "------------------------------\r\n",
      "\r\n",
      "These variables have the following definitions:\r\n",
      "\r\n",
      "ID         is the station identification code.  Note that the first two\r\n",
      "           characters denote the FIPS  country code, the third character \r\n",
      "           is a network code that identifies the station numbering system \r\n",
      "           used, and the remaining eight characters contain the actual \r\n",
      "           station ID. \r\n",
      "\r\n",
      "           See \"ghcnd-countries.txt\" for a complete list of country codes.\r\n",
      "\t   See \"ghcnd-states.txt\" for a list of state/province/territory codes.\r\n",
      "\r\n",
      "           The network code  has the following five values:\r\n",
      "\r\n",
      "           0 = unspecified (station identified by up to eight \r\n",
      "\t       alphanumeric characters)\r\n",
      "\t   1 = Community Collaborative Rain, Hail,and Snow (CoCoRaHS)\r\n",
      "\t       based identification number.  To ensure consistency with\r\n",
      "\t       with GHCN Daily, all numbers in the original CoCoRaHS IDs\r\n",
      "\t       have been left-filled to make them all four digits long. \r\n",
      "\t       In addition, the characters \"-\" and \"_\" have been removed \r\n",
      "\t       to ensure that the IDs do not exceed 11 characters when \r\n",
      "\t       preceded by \"US1\". For example, the CoCoRaHS ID \r\n",
      "\t       \"AZ-MR-156\" becomes \"US1AZMR0156\" in GHCN-Daily\r\n",
      "           C = U.S. Cooperative Network identification number (last six \r\n",
      "               characters of the GHCN-Daily ID)\r\n",
      "\t   E = Identification number used in the ECA&D non-blended\r\n",
      "\t       dataset\r\n",
      "\t   M = World Meteorological Organization ID (last five\r\n",
      "\t       characters of the GHCN-Daily ID)\r\n",
      "\t   N = Identification number used in data supplied by a \r\n",
      "\t       National Meteorological or Hydrological Center\r\n",
      "\t   R = U.S. Interagency Remote Automatic Weather Station (RAWS)\r\n",
      "\t       identifier\r\n",
      "\t   S = U.S. Natural Resources Conservation Service SNOwpack\r\n",
      "\t       TELemtry (SNOTEL) station identifier\r\n",
      "           W = WBAN identification number (last five characters of the \r\n",
      "               GHCN-Daily ID)\r\n",
      "\r\n",
      "LATITUDE   is latitude of the station (in decimal degrees).\r\n",
      "\r\n",
      "LONGITUDE  is the longitude of the station (in decimal degrees).\r\n",
      "\r\n",
      "ELEVATION  is the elevation of the station (in meters, missing = -999.9).\r\n",
      "\r\n",
      "\r\n",
      "STATE      is the U.S. postal code for the state (for U.S. stations only).\r\n",
      "\r\n",
      "NAME       is the name of the station.\r\n",
      "\r\n",
      "GSNFLAG    is a flag that indicates whether the station is part of the GCOS\r\n",
      "           Surface Network (GSN). The flag is assigned by cross-referencing \r\n",
      "           the number in the WMOID field with the official list of GSN \r\n",
      "           stations. There are two possible values:\r\n",
      "\r\n",
      "           Blank = non-GSN station or WMO Station number not available\r\n",
      "           GSN   = GSN station \r\n",
      "\r\n",
      "HCNFLAG    is a flag that indicates whether the station is part of the U.S.\r\n",
      "           Historical Climatology Network (HCN).  There are two possible values:\r\n",
      "\r\n",
      "           Blank = non-HCN station\r\n",
      "           HCN   = HCN station\r\n",
      "\r\n",
      "WMOID      is the World Meteorological Organization (WMO) number for the\r\n",
      "           station.  If the station has no WMO number, then the field is blank.\r\n",
      "\r\n",
      "--------------------------------------------------------------------------------\r\n",
      "--------------------------------------------------------------------------------\r\n",
      "\r\n",
      "V. FORMAT OF \"ghcnd-countries.txt\"\r\n",
      "\r\n",
      "------------------------------\r\n",
      "Variable   Columns   Type\r\n",
      "------------------------------\r\n",
      "CODE          1-2    Character\r\n",
      "NAME         4-50    Character\r\n",
      "------------------------------\r\n",
      "\r\n",
      "These variables have the following definitions:\r\n",
      "\r\n",
      "CODE       is the FIPS country code of the country where the station is \r\n",
      "           located (from FIPS Publication 10-4 at \r\n",
      "           www.cia.gov/cia/publications/factbook/appendix/appendix-d.html).\r\n",
      "\r\n",
      "NAME       is the name of the country.\r\n",
      "\r\n",
      "--------------------------------------------------------------------------------\r\n",
      "--------------------------------------------------------------------------------\r\n",
      "\r\n",
      "VI. FORMAT OF \"ghcnd-states.txt\"\r\n",
      "\r\n",
      "------------------------------\r\n",
      "Variable   Columns   Type\r\n",
      "------------------------------\r\n",
      "CODE          1-2    Character\r\n",
      "NAME         4-50    Character\r\n",
      "------------------------------\r\n",
      "\r\n",
      "These variables have the following definitions:\r\n",
      "\r\n",
      "CODE       is the POSTAL code of the U.S. state/territory or Canadian \r\n",
      "           province where the station is located \r\n",
      "\r\n",
      "NAME       is the name of the state, territory or province.\r\n",
      "\r\n",
      "--------------------------------------------------------------------------------\r\n",
      "--------------------------------------------------------------------------------\r\n",
      "\r\n",
      "VII. FORMAT OF \"ghcnd-inventory.txt\"\r\n",
      "\r\n",
      "------------------------------\r\n",
      "Variable   Columns   Type\r\n",
      "------------------------------\r\n",
      "ID            1-11   Character\r\n",
      "LATITUDE     13-20   Real\r\n",
      "LONGITUDE    22-30   Real\r\n",
      "ELEMENT      32-35   Character\r\n",
      "FIRSTYEAR    37-40   Integer\r\n",
      "LASTYEAR     42-45   Integer\r\n",
      "------------------------------\r\n",
      "\r\n",
      "These variables have the following definitions:\r\n",
      "\r\n",
      "ID         is the station identification code.  Please see \"ghcnd-stations.txt\"\r\n",
      "           for a complete list of stations and their metadata.\r\n",
      "\r\n",
      "LATITUDE   is the latitude of the station (in decimal degrees).\r\n",
      "\r\n",
      "LONGITUDE  is the longitude of the station (in decimal degrees).\r\n",
      "\r\n",
      "ELEMENT    is the element type.  See section III for a definition of elements.\r\n",
      "\r\n",
      "FIRSTYEAR  is the first year of unflagged data for the given element.\r\n",
      "\r\n",
      "LASTYEAR   is the last year of unflagged data for the given element.\r\n",
      "\r\n",
      "--------------------------------------------------------------------------------\r\n",
      "--------------------------------------------------------------------------------\r\n",
      "\r\n",
      "VIII.  REFERENCES\r\n",
      "\r\n",
      "Klein Tank, A.M.G. and Coauthors, 2002. Daily dataset of 20th-century surface\r\n",
      "air temperature and precipitation series for the European Climate Assessment.\r\n",
      "Int. J. of Climatol., 22, 1441-1453.\r\n",
      "Data and metadata available at http://eca.knmi.nl\r\n",
      "\r\n",
      "\r\n",
      "\r\n",
      "For additional information, please send an e-mail to ncdc.ghcnd@noaa.gov.\r\n"
     ]
    }
   ],
   "source": [
    "# !cat /mnt/workspace/WeatherInfo/ghcnd-readme.txt"
   ]
  },
  {
   "cell_type": "markdown",
   "metadata": {},
   "source": [
    "## Open Main data bucket"
   ]
  },
  {
   "cell_type": "code",
   "execution_count": 10,
   "metadata": {},
   "outputs": [
    {
     "data": {
      "text/plain": [
       "[u'.aws',\n",
       " u'.bash_profile',\n",
       " u'.bashrc',\n",
       " u'.conda',\n",
       " u'.ipython',\n",
       " u'.jupyter',\n",
       " u'.local',\n",
       " u'.ssh',\n",
       " u'ALL.csv.gz',\n",
       " u'ALLBootstrap.sh',\n",
       " u'MasterBootstrap.sh',\n",
       " u'NY.parquet',\n",
       " u'PrivateBootstrap.sh',\n",
       " u'RunFromTerminal.sh',\n",
       " u'US_Weather_with_smoothed.parquet',\n",
       " u'US_Weather_with_smoothed.parquet_$folder$',\n",
       " u'US_stations.parquet',\n",
       " u'US_weather.parquet',\n",
       " u'fromLocal',\n",
       " u'info',\n",
       " u's3helper.py',\n",
       " u's3hook.sh',\n",
       " u'weather.parquet']"
      ]
     },
     "execution_count": 10,
     "metadata": {},
     "output_type": "execute_result"
    }
   ],
   "source": [
    "s3helper.open_bucket('dse-weather-west-2', region=\"us-west-2\")\n",
    "s3helper.ls('')"
   ]
  },
  {
   "cell_type": "markdown",
   "metadata": {},
   "source": [
    "## (3) List files in the S3 bucket and HDFS."
   ]
  },
  {
   "cell_type": "code",
   "execution_count": 11,
   "metadata": {},
   "outputs": [
    {
     "name": "stdout",
     "output_type": "stream",
     "text": [
      "list all files in the root directory of the bucket\n",
      ".aws\n",
      ".bash_profile\n",
      ".bashrc\n",
      ".conda\n",
      ".ipython\n",
      ".jupyter\n",
      ".local\n",
      ".ssh\n",
      "ALL.csv.gz\n",
      "ALLBootstrap.sh\n",
      "MasterBootstrap.sh\n",
      "NY.parquet\n",
      "PrivateBootstrap.sh\n",
      "RunFromTerminal.sh\n",
      "US_Weather_with_smoothed.parquet\n",
      "US_Weather_with_smoothed.parquet_$folder$\n",
      "US_stations.parquet\n",
      "US_weather.parquet\n",
      "fromLocal\n",
      "info\n",
      "s3helper.py\n",
      "s3hook.sh\n",
      "weather.parquet\n",
      "\n",
      "List files in directory \"fromHDFS\"\n",
      "[]\n",
      "\n",
      "List files in root of hdfs\n",
      "Found 3 items\n",
      "drwxrwxrwt   - hdfs hadoop          0 2020-05-06 16:49 /tmp\n",
      "drwxr-xr-x   - hdfs hadoop          0 2020-05-06 16:49 /user\n",
      "drwxr-xr-x   - hdfs hadoop          0 2020-05-06 16:49 /var\n",
      "\n",
      "None\n"
     ]
    }
   ],
   "source": [
    "print('list all files in the root directory of the bucket')\n",
    "print(\"\\n\".join(s3helper.ls_s3()))\n",
    "print('\\nList files in directory \"fromHDFS\"')\n",
    "print(s3helper.ls_s3('fromHDFS'))\n",
    "print('\\nList files in root of hdfs')\n",
    "print(s3helper.ls_hdfs());"
   ]
  },
  {
   "cell_type": "markdown",
   "metadata": {},
   "source": [
    "## (4) Move files around local filesystem, HDFS and S3\n",
    "\n",
    "As described in `s3helper.help()`, there are five methods for file transfers:\n",
    "\n",
    "1. `s3helper.s3_to_hdfs(<s3_directory_path>, <HDFS_directory_path>)`\n",
    "2. `s3helper.hdfs_to_s3(<HDFS_directory_path>, <s3_directory_path>)`\n",
    "3. `s3helper.s3_to_local(<s3_file_path>, <local_file_path>)`\n",
    "4. `s3helper.local_to_s3(<local_file_path>, <s3_directory_path>)`\n",
    "5. `s3helper.local_to_hdfs(<local_dir_path>, <HDFS_dir_path>)`"
   ]
  },
  {
   "cell_type": "code",
   "execution_count": 12,
   "metadata": {
    "collapsed": true
   },
   "outputs": [],
   "source": [
    "s3helper.local_to_s3(\"/home/hadoop/s3helper.py\", \"fromLocal/s3helper.py\")"
   ]
  },
  {
   "cell_type": "code",
   "execution_count": 13,
   "metadata": {},
   "outputs": [
    {
     "name": "stdout",
     "output_type": "stream",
     "text": [
      "[u'fromLocal/s3helper.py']\n"
     ]
    }
   ],
   "source": [
    "print(s3helper.ls_s3(\"fromLocal\"))"
   ]
  },
  {
   "cell_type": "markdown",
   "metadata": {},
   "source": [
    "## Move data from S3 to HDFS to Dataframe"
   ]
  },
  {
   "cell_type": "code",
   "execution_count": 14,
   "metadata": {
    "scrolled": true
   },
   "outputs": [
    {
     "name": "stdout",
     "output_type": "stream",
     "text": [
      "20/05/06 18:14:06 INFO s3n.S3NativeFileSystem: Opening 's3n://dse-weather-west-2/weather.parquet/_SUCCESS' for reading\n",
      "20/05/06 18:14:06 INFO s3n.S3NativeFileSystem: Opening 's3n://dse-weather-west-2/weather.parquet/part-00000-6cb19187-62a0-42ad-9516-e03e05ea0c40-c000.snappy.parquet' for reading\n",
      "20/05/06 18:14:07 INFO s3n.S3NativeFileSystem: Opening 's3n://dse-weather-west-2/weather.parquet/part-00001-6cb19187-62a0-42ad-9516-e03e05ea0c40-c000.snappy.parquet' for reading\n",
      "20/05/06 18:14:09 INFO s3n.S3NativeFileSystem: Opening 's3n://dse-weather-west-2/weather.parquet/part-00002-6cb19187-62a0-42ad-9516-e03e05ea0c40-c000.snappy.parquet' for reading\n",
      "20/05/06 18:14:10 INFO s3n.S3NativeFileSystem: Opening 's3n://dse-weather-west-2/weather.parquet/part-00003-6cb19187-62a0-42ad-9516-e03e05ea0c40-c000.snappy.parquet' for reading\n",
      "20/05/06 18:14:11 INFO s3n.S3NativeFileSystem: Opening 's3n://dse-weather-west-2/weather.parquet/part-00004-6cb19187-62a0-42ad-9516-e03e05ea0c40-c000.snappy.parquet' for reading\n",
      "20/05/06 18:14:12 INFO s3n.S3NativeFileSystem: Opening 's3n://dse-weather-west-2/weather.parquet/part-00005-6cb19187-62a0-42ad-9516-e03e05ea0c40-c000.snappy.parquet' for reading\n",
      "20/05/06 18:14:13 INFO s3n.S3NativeFileSystem: Opening 's3n://dse-weather-west-2/weather.parquet/part-00006-6cb19187-62a0-42ad-9516-e03e05ea0c40-c000.snappy.parquet' for reading\n",
      "20/05/06 18:14:14 INFO s3n.S3NativeFileSystem: Opening 's3n://dse-weather-west-2/weather.parquet/part-00007-6cb19187-62a0-42ad-9516-e03e05ea0c40-c000.snappy.parquet' for reading\n",
      "20/05/06 18:14:16 INFO s3n.S3NativeFileSystem: Opening 's3n://dse-weather-west-2/weather.parquet/part-00008-6cb19187-62a0-42ad-9516-e03e05ea0c40-c000.snappy.parquet' for reading\n",
      "20/05/06 18:14:17 INFO s3n.S3NativeFileSystem: Opening 's3n://dse-weather-west-2/weather.parquet/part-00009-6cb19187-62a0-42ad-9516-e03e05ea0c40-c000.snappy.parquet' for reading\n",
      "20/05/06 18:14:18 INFO s3n.S3NativeFileSystem: Opening 's3n://dse-weather-west-2/weather.parquet/part-00010-6cb19187-62a0-42ad-9516-e03e05ea0c40-c000.snappy.parquet' for reading\n",
      "20/05/06 18:14:19 INFO s3n.S3NativeFileSystem: Opening 's3n://dse-weather-west-2/weather.parquet/part-00011-6cb19187-62a0-42ad-9516-e03e05ea0c40-c000.snappy.parquet' for reading\n",
      "20/05/06 18:14:20 INFO s3n.S3NativeFileSystem: Opening 's3n://dse-weather-west-2/weather.parquet/part-00012-6cb19187-62a0-42ad-9516-e03e05ea0c40-c000.snappy.parquet' for reading\n",
      "20/05/06 18:14:22 INFO s3n.S3NativeFileSystem: Opening 's3n://dse-weather-west-2/weather.parquet/part-00013-6cb19187-62a0-42ad-9516-e03e05ea0c40-c000.snappy.parquet' for reading\n",
      "20/05/06 18:14:23 INFO s3n.S3NativeFileSystem: Opening 's3n://dse-weather-west-2/weather.parquet/part-00014-6cb19187-62a0-42ad-9516-e03e05ea0c40-c000.snappy.parquet' for reading\n",
      "20/05/06 18:14:24 INFO s3n.S3NativeFileSystem: Opening 's3n://dse-weather-west-2/weather.parquet/part-00015-6cb19187-62a0-42ad-9516-e03e05ea0c40-c000.snappy.parquet' for reading\n",
      "20/05/06 18:14:25 INFO s3n.S3NativeFileSystem: Opening 's3n://dse-weather-west-2/weather.parquet/part-00016-6cb19187-62a0-42ad-9516-e03e05ea0c40-c000.snappy.parquet' for reading\n",
      "20/05/06 18:14:26 INFO s3n.S3NativeFileSystem: Opening 's3n://dse-weather-west-2/weather.parquet/part-00017-6cb19187-62a0-42ad-9516-e03e05ea0c40-c000.snappy.parquet' for reading\n",
      "20/05/06 18:14:27 INFO s3n.S3NativeFileSystem: Opening 's3n://dse-weather-west-2/weather.parquet/part-00018-6cb19187-62a0-42ad-9516-e03e05ea0c40-c000.snappy.parquet' for reading\n",
      "20/05/06 18:14:28 INFO s3n.S3NativeFileSystem: Opening 's3n://dse-weather-west-2/weather.parquet/part-00019-6cb19187-62a0-42ad-9516-e03e05ea0c40-c000.snappy.parquet' for reading\n",
      "20/05/06 18:14:29 INFO s3n.S3NativeFileSystem: Opening 's3n://dse-weather-west-2/weather.parquet/part-00020-6cb19187-62a0-42ad-9516-e03e05ea0c40-c000.snappy.parquet' for reading\n",
      "20/05/06 18:14:30 INFO s3n.S3NativeFileSystem: Opening 's3n://dse-weather-west-2/weather.parquet/part-00021-6cb19187-62a0-42ad-9516-e03e05ea0c40-c000.snappy.parquet' for reading\n",
      "20/05/06 18:14:31 INFO s3n.S3NativeFileSystem: Opening 's3n://dse-weather-west-2/weather.parquet/part-00022-6cb19187-62a0-42ad-9516-e03e05ea0c40-c000.snappy.parquet' for reading\n",
      "20/05/06 18:14:33 INFO s3n.S3NativeFileSystem: Opening 's3n://dse-weather-west-2/weather.parquet/part-00023-6cb19187-62a0-42ad-9516-e03e05ea0c40-c000.snappy.parquet' for reading\n",
      "20/05/06 18:14:34 INFO s3n.S3NativeFileSystem: Opening 's3n://dse-weather-west-2/weather.parquet/part-00024-6cb19187-62a0-42ad-9516-e03e05ea0c40-c000.snappy.parquet' for reading\n",
      "20/05/06 18:14:35 INFO s3n.S3NativeFileSystem: Opening 's3n://dse-weather-west-2/weather.parquet/part-00025-6cb19187-62a0-42ad-9516-e03e05ea0c40-c000.snappy.parquet' for reading\n",
      "20/05/06 18:14:36 INFO s3n.S3NativeFileSystem: Opening 's3n://dse-weather-west-2/weather.parquet/part-00026-6cb19187-62a0-42ad-9516-e03e05ea0c40-c000.snappy.parquet' for reading\n",
      "20/05/06 18:14:37 INFO s3n.S3NativeFileSystem: Opening 's3n://dse-weather-west-2/weather.parquet/part-00027-6cb19187-62a0-42ad-9516-e03e05ea0c40-c000.snappy.parquet' for reading\n",
      "20/05/06 18:14:38 INFO s3n.S3NativeFileSystem: Opening 's3n://dse-weather-west-2/weather.parquet/part-00028-6cb19187-62a0-42ad-9516-e03e05ea0c40-c000.snappy.parquet' for reading\n",
      "20/05/06 18:14:39 INFO s3n.S3NativeFileSystem: Opening 's3n://dse-weather-west-2/weather.parquet/part-00029-6cb19187-62a0-42ad-9516-e03e05ea0c40-c000.snappy.parquet' for reading\n",
      "20/05/06 18:14:41 INFO s3n.S3NativeFileSystem: Opening 's3n://dse-weather-west-2/weather.parquet/part-00030-6cb19187-62a0-42ad-9516-e03e05ea0c40-c000.snappy.parquet' for reading\n",
      "20/05/06 18:14:42 INFO s3n.S3NativeFileSystem: Opening 's3n://dse-weather-west-2/weather.parquet/part-00031-6cb19187-62a0-42ad-9516-e03e05ea0c40-c000.snappy.parquet' for reading\n",
      "20/05/06 18:14:44 INFO s3n.S3NativeFileSystem: Opening 's3n://dse-weather-west-2/weather.parquet/part-00032-6cb19187-62a0-42ad-9516-e03e05ea0c40-c000.snappy.parquet' for reading\n",
      "20/05/06 18:14:45 INFO s3n.S3NativeFileSystem: Opening 's3n://dse-weather-west-2/weather.parquet/part-00033-6cb19187-62a0-42ad-9516-e03e05ea0c40-c000.snappy.parquet' for reading\n",
      "20/05/06 18:14:46 INFO s3n.S3NativeFileSystem: Opening 's3n://dse-weather-west-2/weather.parquet/part-00034-6cb19187-62a0-42ad-9516-e03e05ea0c40-c000.snappy.parquet' for reading\n",
      "20/05/06 18:14:47 INFO s3n.S3NativeFileSystem: Opening 's3n://dse-weather-west-2/weather.parquet/part-00035-6cb19187-62a0-42ad-9516-e03e05ea0c40-c000.snappy.parquet' for reading\n",
      "20/05/06 18:14:48 INFO s3n.S3NativeFileSystem: Opening 's3n://dse-weather-west-2/weather.parquet/part-00036-6cb19187-62a0-42ad-9516-e03e05ea0c40-c000.snappy.parquet' for reading\n",
      "20/05/06 18:14:49 INFO s3n.S3NativeFileSystem: Opening 's3n://dse-weather-west-2/weather.parquet/part-00037-6cb19187-62a0-42ad-9516-e03e05ea0c40-c000.snappy.parquet' for reading\n",
      "20/05/06 18:14:50 INFO s3n.S3NativeFileSystem: Opening 's3n://dse-weather-west-2/weather.parquet/part-00038-6cb19187-62a0-42ad-9516-e03e05ea0c40-c000.snappy.parquet' for reading\n",
      "20/05/06 18:14:51 INFO s3n.S3NativeFileSystem: Opening 's3n://dse-weather-west-2/weather.parquet/part-00039-6cb19187-62a0-42ad-9516-e03e05ea0c40-c000.snappy.parquet' for reading\n",
      "20/05/06 18:14:52 INFO s3n.S3NativeFileSystem: Opening 's3n://dse-weather-west-2/weather.parquet/part-00040-6cb19187-62a0-42ad-9516-e03e05ea0c40-c000.snappy.parquet' for reading\n",
      "20/05/06 18:14:54 INFO s3n.S3NativeFileSystem: Opening 's3n://dse-weather-west-2/weather.parquet/part-00041-6cb19187-62a0-42ad-9516-e03e05ea0c40-c000.snappy.parquet' for reading\n",
      "20/05/06 18:14:55 INFO s3n.S3NativeFileSystem: Opening 's3n://dse-weather-west-2/weather.parquet/part-00042-6cb19187-62a0-42ad-9516-e03e05ea0c40-c000.snappy.parquet' for reading\n",
      "20/05/06 18:14:56 INFO s3n.S3NativeFileSystem: Opening 's3n://dse-weather-west-2/weather.parquet/part-00043-6cb19187-62a0-42ad-9516-e03e05ea0c40-c000.snappy.parquet' for reading\n",
      "20/05/06 18:14:57 INFO s3n.S3NativeFileSystem: Opening 's3n://dse-weather-west-2/weather.parquet/part-00044-6cb19187-62a0-42ad-9516-e03e05ea0c40-c000.snappy.parquet' for reading\n",
      "20/05/06 18:14:58 INFO s3n.S3NativeFileSystem: Opening 's3n://dse-weather-west-2/weather.parquet/part-00045-6cb19187-62a0-42ad-9516-e03e05ea0c40-c000.snappy.parquet' for reading\n",
      "20/05/06 18:14:59 INFO s3n.S3NativeFileSystem: Opening 's3n://dse-weather-west-2/weather.parquet/part-00046-6cb19187-62a0-42ad-9516-e03e05ea0c40-c000.snappy.parquet' for reading\n",
      "20/05/06 18:15:00 INFO s3n.S3NativeFileSystem: Opening 's3n://dse-weather-west-2/weather.parquet/part-00047-6cb19187-62a0-42ad-9516-e03e05ea0c40-c000.snappy.parquet' for reading\n",
      "20/05/06 18:15:01 INFO s3n.S3NativeFileSystem: Opening 's3n://dse-weather-west-2/weather.parquet/part-00048-6cb19187-62a0-42ad-9516-e03e05ea0c40-c000.snappy.parquet' for reading\n",
      "20/05/06 18:15:02 INFO s3n.S3NativeFileSystem: Opening 's3n://dse-weather-west-2/weather.parquet/part-00049-6cb19187-62a0-42ad-9516-e03e05ea0c40-c000.snappy.parquet' for reading\n",
      "20/05/06 18:15:03 INFO s3n.S3NativeFileSystem: Opening 's3n://dse-weather-west-2/weather.parquet/part-00050-6cb19187-62a0-42ad-9516-e03e05ea0c40-c000.snappy.parquet' for reading\n",
      "20/05/06 18:15:04 INFO s3n.S3NativeFileSystem: Opening 's3n://dse-weather-west-2/weather.parquet/part-00051-6cb19187-62a0-42ad-9516-e03e05ea0c40-c000.snappy.parquet' for reading\n",
      "20/05/06 18:15:05 INFO s3n.S3NativeFileSystem: Opening 's3n://dse-weather-west-2/weather.parquet/part-00052-6cb19187-62a0-42ad-9516-e03e05ea0c40-c000.snappy.parquet' for reading\n",
      "20/05/06 18:15:06 INFO s3n.S3NativeFileSystem: Opening 's3n://dse-weather-west-2/weather.parquet/part-00053-6cb19187-62a0-42ad-9516-e03e05ea0c40-c000.snappy.parquet' for reading\n",
      "20/05/06 18:15:07 INFO s3n.S3NativeFileSystem: Opening 's3n://dse-weather-west-2/weather.parquet/part-00054-6cb19187-62a0-42ad-9516-e03e05ea0c40-c000.snappy.parquet' for reading\n",
      "20/05/06 18:15:08 INFO s3n.S3NativeFileSystem: Opening 's3n://dse-weather-west-2/weather.parquet/part-00055-6cb19187-62a0-42ad-9516-e03e05ea0c40-c000.snappy.parquet' for reading\n",
      "20/05/06 18:15:09 INFO s3n.S3NativeFileSystem: Opening 's3n://dse-weather-west-2/weather.parquet/part-00056-6cb19187-62a0-42ad-9516-e03e05ea0c40-c000.snappy.parquet' for reading\n",
      "20/05/06 18:15:11 INFO s3n.S3NativeFileSystem: Opening 's3n://dse-weather-west-2/weather.parquet/part-00057-6cb19187-62a0-42ad-9516-e03e05ea0c40-c000.snappy.parquet' for reading\n",
      "\n"
     ]
    },
    {
     "name": "stdout",
     "output_type": "stream",
     "text": [
      "Found 59 items\n",
      "-rw-r--r--   1 hadoop hadoop          0 2020-05-06 18:14 /tmp/weather.parquet/_SUCCESS\n",
      "-rw-r--r--   1 hadoop hadoop   40670401 2020-05-06 18:14 /tmp/weather.parquet/part-00000-6cb19187-62a0-42ad-9516-e03e05ea0c40-c000.snappy.parquet\n",
      "-rw-r--r--   1 hadoop hadoop   40307528 2020-05-06 18:14 /tmp/weather.parquet/part-00001-6cb19187-62a0-42ad-9516-e03e05ea0c40-c000.snappy.parquet\n",
      "-rw-r--r--   1 hadoop hadoop   40016618 2020-05-06 18:14 /tmp/weather.parquet/part-00002-6cb19187-62a0-42ad-9516-e03e05ea0c40-c000.snappy.parquet\n",
      "-rw-r--r--   1 hadoop hadoop   40377232 2020-05-06 18:14 /tmp/weather.parquet/part-00003-6cb19187-62a0-42ad-9516-e03e05ea0c40-c000.snappy.parquet\n",
      "-rw-r--r--   1 hadoop hadoop   40119938 2020-05-06 18:14 /tmp/weather.parquet/part-00004-6cb19187-62a0-42ad-9516-e03e05ea0c40-c000.snappy.parquet\n",
      "-rw-r--r--   1 hadoop hadoop   40278884 2020-05-06 18:14 /tmp/weather.parquet/part-00005-6cb19187-62a0-42ad-9516-e03e05ea0c40-c000.snappy.parquet\n",
      "-rw-r--r--   1 hadoop hadoop   40078149 2020-05-06 18:14 /tmp/weather.parquet/part-00006-6cb19187-62a0-42ad-9516-e03e05ea0c40-c000.snappy.parquet\n",
      "-rw-r--r--   1 hadoop hadoop   40838598 2020-05-06 18:14 /tmp/weather.parquet/part-00007-6cb19187-62a0-42ad-9516-e03e05ea0c40-c000.snappy.parquet\n",
      "-rw-r--r--   1 hadoop hadoop   40257133 2020-05-06 18:14 /tmp/weather.parquet/part-00008-6cb19187-62a0-42ad-9516-e03e05ea0c40-c000.snappy.parquet\n",
      "-rw-r--r--   1 hadoop hadoop   40970219 2020-05-06 18:14 /tmp/weather.parquet/part-00009-6cb19187-62a0-42ad-9516-e03e05ea0c40-c000.snappy.parquet\n",
      "-rw-r--r--   1 hadoop hadoop   39737699 2020-05-06 18:14 /tmp/weather.parquet/part-00010-6cb19187-62a0-42ad-9516-e03e05ea0c40-c000.snappy.parquet\n",
      "-rw-r--r--   1 hadoop hadoop   40588195 2020-05-06 18:14 /tmp/weather.parquet/part-00011-6cb19187-62a0-42ad-9516-e03e05ea0c40-c000.snappy.parquet\n",
      "-rw-r--r--   1 hadoop hadoop   39670806 2020-05-06 18:14 /tmp/weather.parquet/part-00012-6cb19187-62a0-42ad-9516-e03e05ea0c40-c000.snappy.parquet\n",
      "-rw-r--r--   1 hadoop hadoop   40265820 2020-05-06 18:14 /tmp/weather.parquet/part-00013-6cb19187-62a0-42ad-9516-e03e05ea0c40-c000.snappy.parquet\n",
      "-rw-r--r--   1 hadoop hadoop   40504283 2020-05-06 18:14 /tmp/weather.parquet/part-00014-6cb19187-62a0-42ad-9516-e03e05ea0c40-c000.snappy.parquet\n",
      "-rw-r--r--   1 hadoop hadoop   39839877 2020-05-06 18:14 /tmp/weather.parquet/part-00015-6cb19187-62a0-42ad-9516-e03e05ea0c40-c000.snappy.parquet\n",
      "-rw-r--r--   1 hadoop hadoop   39666134 2020-05-06 18:14 /tmp/weather.parquet/part-00016-6cb19187-62a0-42ad-9516-e03e05ea0c40-c000.snappy.parquet\n",
      "-rw-r--r--   1 hadoop hadoop   39971356 2020-05-06 18:14 /tmp/weather.parquet/part-00017-6cb19187-62a0-42ad-9516-e03e05ea0c40-c000.snappy.parquet\n",
      "-rw-r--r--   1 hadoop hadoop   40604360 2020-05-06 18:14 /tmp/weather.parquet/part-00018-6cb19187-62a0-42ad-9516-e03e05ea0c40-c000.snappy.parquet\n",
      "-rw-r--r--   1 hadoop hadoop   40758812 2020-05-06 18:14 /tmp/weather.parquet/part-00019-6cb19187-62a0-42ad-9516-e03e05ea0c40-c000.snappy.parquet\n",
      "-rw-r--r--   1 hadoop hadoop   40382015 2020-05-06 18:14 /tmp/weather.parquet/part-00020-6cb19187-62a0-42ad-9516-e03e05ea0c40-c000.snappy.parquet\n",
      "-rw-r--r--   1 hadoop hadoop   40181667 2020-05-06 18:14 /tmp/weather.parquet/part-00021-6cb19187-62a0-42ad-9516-e03e05ea0c40-c000.snappy.parquet\n",
      "-rw-r--r--   1 hadoop hadoop   40236103 2020-05-06 18:14 /tmp/weather.parquet/part-00022-6cb19187-62a0-42ad-9516-e03e05ea0c40-c000.snappy.parquet\n",
      "-rw-r--r--   1 hadoop hadoop   40395446 2020-05-06 18:14 /tmp/weather.parquet/part-00023-6cb19187-62a0-42ad-9516-e03e05ea0c40-c000.snappy.parquet\n",
      "-rw-r--r--   1 hadoop hadoop   39821857 2020-05-06 18:14 /tmp/weather.parquet/part-00024-6cb19187-62a0-42ad-9516-e03e05ea0c40-c000.snappy.parquet\n",
      "-rw-r--r--   1 hadoop hadoop   40418247 2020-05-06 18:14 /tmp/weather.parquet/part-00025-6cb19187-62a0-42ad-9516-e03e05ea0c40-c000.snappy.parquet\n",
      "-rw-r--r--   1 hadoop hadoop   40050460 2020-05-06 18:14 /tmp/weather.parquet/part-00026-6cb19187-62a0-42ad-9516-e03e05ea0c40-c000.snappy.parquet\n",
      "-rw-r--r--   1 hadoop hadoop   40298252 2020-05-06 18:14 /tmp/weather.parquet/part-00027-6cb19187-62a0-42ad-9516-e03e05ea0c40-c000.snappy.parquet\n",
      "-rw-r--r--   1 hadoop hadoop   40702652 2020-05-06 18:14 /tmp/weather.parquet/part-00028-6cb19187-62a0-42ad-9516-e03e05ea0c40-c000.snappy.parquet\n",
      "-rw-r--r--   1 hadoop hadoop   40528929 2020-05-06 18:14 /tmp/weather.parquet/part-00029-6cb19187-62a0-42ad-9516-e03e05ea0c40-c000.snappy.parquet\n",
      "-rw-r--r--   1 hadoop hadoop   40157633 2020-05-06 18:14 /tmp/weather.parquet/part-00030-6cb19187-62a0-42ad-9516-e03e05ea0c40-c000.snappy.parquet\n",
      "-rw-r--r--   1 hadoop hadoop   40437074 2020-05-06 18:14 /tmp/weather.parquet/part-00031-6cb19187-62a0-42ad-9516-e03e05ea0c40-c000.snappy.parquet\n",
      "-rw-r--r--   1 hadoop hadoop   40382705 2020-05-06 18:14 /tmp/weather.parquet/part-00032-6cb19187-62a0-42ad-9516-e03e05ea0c40-c000.snappy.parquet\n",
      "-rw-r--r--   1 hadoop hadoop   39730289 2020-05-06 18:14 /tmp/weather.parquet/part-00033-6cb19187-62a0-42ad-9516-e03e05ea0c40-c000.snappy.parquet\n",
      "-rw-r--r--   1 hadoop hadoop   40013953 2020-05-06 18:14 /tmp/weather.parquet/part-00034-6cb19187-62a0-42ad-9516-e03e05ea0c40-c000.snappy.parquet\n",
      "-rw-r--r--   1 hadoop hadoop   39831970 2020-05-06 18:14 /tmp/weather.parquet/part-00035-6cb19187-62a0-42ad-9516-e03e05ea0c40-c000.snappy.parquet\n",
      "-rw-r--r--   1 hadoop hadoop   40882114 2020-05-06 18:14 /tmp/weather.parquet/part-00036-6cb19187-62a0-42ad-9516-e03e05ea0c40-c000.snappy.parquet\n",
      "-rw-r--r--   1 hadoop hadoop   39763515 2020-05-06 18:14 /tmp/weather.parquet/part-00037-6cb19187-62a0-42ad-9516-e03e05ea0c40-c000.snappy.parquet\n",
      "-rw-r--r--   1 hadoop hadoop   40065826 2020-05-06 18:14 /tmp/weather.parquet/part-00038-6cb19187-62a0-42ad-9516-e03e05ea0c40-c000.snappy.parquet\n",
      "-rw-r--r--   1 hadoop hadoop   40247715 2020-05-06 18:14 /tmp/weather.parquet/part-00039-6cb19187-62a0-42ad-9516-e03e05ea0c40-c000.snappy.parquet\n",
      "-rw-r--r--   1 hadoop hadoop   40742694 2020-05-06 18:14 /tmp/weather.parquet/part-00040-6cb19187-62a0-42ad-9516-e03e05ea0c40-c000.snappy.parquet\n",
      "-rw-r--r--   1 hadoop hadoop   40173691 2020-05-06 18:14 /tmp/weather.parquet/part-00041-6cb19187-62a0-42ad-9516-e03e05ea0c40-c000.snappy.parquet\n",
      "-rw-r--r--   1 hadoop hadoop   40461662 2020-05-06 18:14 /tmp/weather.parquet/part-00042-6cb19187-62a0-42ad-9516-e03e05ea0c40-c000.snappy.parquet\n",
      "-rw-r--r--   1 hadoop hadoop   40953050 2020-05-06 18:14 /tmp/weather.parquet/part-00043-6cb19187-62a0-42ad-9516-e03e05ea0c40-c000.snappy.parquet\n",
      "-rw-r--r--   1 hadoop hadoop   40845591 2020-05-06 18:14 /tmp/weather.parquet/part-00044-6cb19187-62a0-42ad-9516-e03e05ea0c40-c000.snappy.parquet\n",
      "-rw-r--r--   1 hadoop hadoop   40107437 2020-05-06 18:14 /tmp/weather.parquet/part-00045-6cb19187-62a0-42ad-9516-e03e05ea0c40-c000.snappy.parquet\n",
      "-rw-r--r--   1 hadoop hadoop   39649676 2020-05-06 18:15 /tmp/weather.parquet/part-00046-6cb19187-62a0-42ad-9516-e03e05ea0c40-c000.snappy.parquet\n",
      "-rw-r--r--   1 hadoop hadoop   39912209 2020-05-06 18:15 /tmp/weather.parquet/part-00047-6cb19187-62a0-42ad-9516-e03e05ea0c40-c000.snappy.parquet\n",
      "-rw-r--r--   1 hadoop hadoop   41212447 2020-05-06 18:15 /tmp/weather.parquet/part-00048-6cb19187-62a0-42ad-9516-e03e05ea0c40-c000.snappy.parquet\n",
      "-rw-r--r--   1 hadoop hadoop   39871083 2020-05-06 18:15 /tmp/weather.parquet/part-00049-6cb19187-62a0-42ad-9516-e03e05ea0c40-c000.snappy.parquet\n",
      "-rw-r--r--   1 hadoop hadoop   40465828 2020-05-06 18:15 /tmp/weather.parquet/part-00050-6cb19187-62a0-42ad-9516-e03e05ea0c40-c000.snappy.parquet\n",
      "-rw-r--r--   1 hadoop hadoop   40511437 2020-05-06 18:15 /tmp/weather.parquet/part-00051-6cb19187-62a0-42ad-9516-e03e05ea0c40-c000.snappy.parquet\n",
      "-rw-r--r--   1 hadoop hadoop   40578221 2020-05-06 18:15 /tmp/weather.parquet/part-00052-6cb19187-62a0-42ad-9516-e03e05ea0c40-c000.snappy.parquet\n",
      "-rw-r--r--   1 hadoop hadoop   40458876 2020-05-06 18:15 /tmp/weather.parquet/part-00053-6cb19187-62a0-42ad-9516-e03e05ea0c40-c000.snappy.parquet\n",
      "-rw-r--r--   1 hadoop hadoop   40108325 2020-05-06 18:15 /tmp/weather.parquet/part-00054-6cb19187-62a0-42ad-9516-e03e05ea0c40-c000.snappy.parquet\n",
      "-rw-r--r--   1 hadoop hadoop   40518066 2020-05-06 18:15 /tmp/weather.parquet/part-00055-6cb19187-62a0-42ad-9516-e03e05ea0c40-c000.snappy.parquet\n",
      "-rw-r--r--   1 hadoop hadoop   40574923 2020-05-06 18:15 /tmp/weather.parquet/part-00056-6cb19187-62a0-42ad-9516-e03e05ea0c40-c000.snappy.parquet\n",
      "-rw-r--r--   1 hadoop hadoop    5605101 2020-05-06 18:15 /tmp/weather.parquet/part-00057-6cb19187-62a0-42ad-9516-e03e05ea0c40-c000.snappy.parquet\n",
      "\n",
      "CPU times: user 24 ms, sys: 8 ms, total: 32 ms\n",
      "Wall time: 1min 15s\n"
     ]
    }
   ],
   "source": [
    "%%time\n",
    "s3helper.s3_to_hdfs(\"weather.parquet\", \"/tmp/weather.parquet\")"
   ]
  },
  {
   "cell_type": "code",
   "execution_count": 15,
   "metadata": {},
   "outputs": [
    {
     "name": "stdout",
     "output_type": "stream",
     "text": [
      "20/05/06 18:15:44 INFO s3n.S3NativeFileSystem: Opening 's3n://dse-weather-west-2/info/stations.parquet/_SUCCESS' for reading\n",
      "20/05/06 18:15:44 INFO s3n.S3NativeFileSystem: Opening 's3n://dse-weather-west-2/info/stations.parquet/_common_metadata' for reading\n",
      "20/05/06 18:15:44 INFO s3n.S3NativeFileSystem: Opening 's3n://dse-weather-west-2/info/stations.parquet/_metadata' for reading\n",
      "20/05/06 18:15:44 INFO s3n.S3NativeFileSystem: Opening 's3n://dse-weather-west-2/info/stations.parquet/part-r-00000-1fd04699-91d3-4a2a-9b36-e25c9c5f0376.gz.parquet' for reading\n",
      "20/05/06 18:15:45 INFO s3n.S3NativeFileSystem: Opening 's3n://dse-weather-west-2/info/stations.parquet/part-r-00001-1fd04699-91d3-4a2a-9b36-e25c9c5f0376.gz.parquet' for reading\n",
      "\n",
      "Found 5 items\n",
      "-rw-r--r--   1 hadoop hadoop          0 2020-05-06 18:15 /tmp/stations.parquet/_SUCCESS\n",
      "-rw-r--r--   1 hadoop hadoop        894 2020-05-06 18:15 /tmp/stations.parquet/_common_metadata\n",
      "-rw-r--r--   1 hadoop hadoop       3107 2020-05-06 18:15 /tmp/stations.parquet/_metadata\n",
      "-rw-r--r--   1 hadoop hadoop     777171 2020-05-06 18:15 /tmp/stations.parquet/part-r-00000-1fd04699-91d3-4a2a-9b36-e25c9c5f0376.gz.parquet\n",
      "-rw-r--r--   1 hadoop hadoop     860566 2020-05-06 18:15 /tmp/stations.parquet/part-r-00001-1fd04699-91d3-4a2a-9b36-e25c9c5f0376.gz.parquet\n",
      "\n",
      "CPU times: user 16 ms, sys: 4 ms, total: 20 ms\n",
      "Wall time: 8.76 s\n"
     ]
    }
   ],
   "source": [
    "%%time \n",
    "s3helper.s3_to_hdfs(\"info/stations.parquet\", \"/tmp/stations.parquet\")"
   ]
  },
  {
   "cell_type": "code",
   "execution_count": 16,
   "metadata": {
    "scrolled": true
   },
   "outputs": [
    {
     "name": "stdout",
     "output_type": "stream",
     "text": [
      "Found 3 items\n",
      "drwxrwxrwx   - mapred mapred          0 2020-05-06 16:49 /tmp/hadoop-yarn\n",
      "drwxr-xr-x   - hadoop hadoop          0 2020-05-06 18:15 /tmp/stations.parquet\n",
      "drwxr-xr-x   - hadoop hadoop          0 2020-05-06 18:15 /tmp/weather.parquet\n",
      "\n",
      "None\n"
     ]
    }
   ],
   "source": [
    "print(s3helper.ls_hdfs(\"/tmp\"))"
   ]
  },
  {
   "cell_type": "markdown",
   "metadata": {},
   "source": [
    "# Up to here needs to be executed once each time a spark cluster is created.\n",
    "The HDFS files will stay there as long as you keep the cluster on."
   ]
  },
  {
   "cell_type": "markdown",
   "metadata": {},
   "source": [
    "# From here down needs to be executed each time a notebooks is restarted"
   ]
  },
  {
   "cell_type": "code",
   "execution_count": null,
   "metadata": {},
   "outputs": [],
   "source": [
    "sc.stop()"
   ]
  },
  {
   "cell_type": "code",
   "execution_count": 1,
   "metadata": {},
   "outputs": [
    {
     "name": "stdout",
     "output_type": "stream",
     "text": [
      "CPU times: user 188 ms, sys: 24 ms, total: 212 ms\n",
      "Wall time: 13.8 s\n"
     ]
    }
   ],
   "source": [
    "%%time\n",
    "from pyspark import SparkContext\n",
    "\n",
    "sc = SparkContext()\n",
    "\n",
    "from pyspark import SparkContext\n",
    "from pyspark.sql import SQLContext\n",
    "\n",
    "sqlContext = SQLContext(sc)"
   ]
  },
  {
   "cell_type": "markdown",
   "metadata": {},
   "source": [
    "## Get all data"
   ]
  },
  {
   "cell_type": "code",
   "execution_count": 2,
   "metadata": {
    "scrolled": false
   },
   "outputs": [
    {
     "name": "stdout",
     "output_type": "stream",
     "text": [
      "CPU times: user 0 ns, sys: 4 ms, total: 4 ms\n",
      "Wall time: 7.36 s\n"
     ]
    }
   ],
   "source": [
    "%%time\n",
    "df = sqlContext.sql(\"SELECT * FROM parquet.`/tmp/weather.parquet` ORDER BY Year DESC\")"
   ]
  },
  {
   "cell_type": "code",
   "execution_count": 3,
   "metadata": {},
   "outputs": [
    {
     "name": "stdout",
     "output_type": "stream",
     "text": [
      "CPU times: user 0 ns, sys: 0 ns, total: 0 ns\n",
      "Wall time: 193 ms\n"
     ]
    }
   ],
   "source": [
    "%%time\n",
    "stations=sqlContext.sql(\"SELECT * FROM parquet.`/tmp/stations.parquet`\")"
   ]
  },
  {
   "cell_type": "code",
   "execution_count": 15,
   "metadata": {},
   "outputs": [
    {
     "name": "stdout",
     "output_type": "stream",
     "text": [
      "+-----------+-----------+----+--------------------+\n",
      "|    Station|Measurement|Year|              Values|\n",
      "+-----------+-----------+----+--------------------+\n",
      "|USC00126164|       SNOW|2013|[C0 50 00 00 00 0...|\n",
      "|USC00502642|       TMAX|2013|[00 7E 00 53 80 5...|\n",
      "|USC00126164|       SNWD|2013|[90 59 C0 58 60 5...|\n",
      "|CA001038332|       SNOW|2013|[00 00 00 00 00 0...|\n",
      "|USC00126164|       TMAX|2013|[00 46 80 CD 40 D...|\n",
      "|CA001038332|       TMAX|2013|[E0 52 60 54 00 5...|\n",
      "|USC00126164|       TMIN|2013|[00 CF B0 D8 60 D...|\n",
      "|CA001038332|       TMIN|2013|[00 C5 80 4B 00 C...|\n",
      "|USC00126164|       TOBS|2013|[00 CF B0 D8 28 D...|\n",
      "|USW00013899|       SNOW|2013|[00 00 00 00 00 0...|\n",
      "|US1MNMR0004|       PRCP|2013|[00 00 00 00 00 4...|\n",
      "|USW00013899|       TMAX|2013|[48 5B 08 59 30 5...|\n",
      "|US1MNMR0004|       SNOW|2013|[00 00 00 00 00 4...|\n",
      "|US1CODG0132|       PRCP|2013|[00 00 00 00 00 0...|\n",
      "|US1CODG0132|       SNOW|2013|[00 00 00 00 00 0...|\n",
      "|CA001038332|       PRCP|2013|[00 00 00 00 00 5...|\n",
      "|US1CODG0132|       SNWD|2013|[40 4E 40 4E 40 4...|\n",
      "|USW00013899|       PRCP|2013|[00 42 00 00 60 5...|\n",
      "|US1COAR0085|       PRCP|2013|[00 00 00 00 00 0...|\n",
      "|USW00013899|       SNWD|2013|[00 00 00 00 00 0...|\n",
      "+-----------+-----------+----+--------------------+\n",
      "only showing top 20 rows\n",
      "\n"
     ]
    }
   ],
   "source": [
    "df.show()"
   ]
  },
  {
   "cell_type": "code",
   "execution_count": 21,
   "metadata": {},
   "outputs": [
    {
     "name": "stdout",
     "output_type": "stream",
     "text": [
      "+-----------+--------+---------+---------+-----+-------------+-------+-------+-----+\n",
      "|         ID|latitude|longitude|elevation|state|         name|GSNFLAG|HCNFLAG|WMOID|\n",
      "+-----------+--------+---------+---------+-----+-------------+-------+-------+-----+\n",
      "|US1COLR0185|  40.711|-105.1144|   1599.0|   CO|WELLINGTON 5.|       |       |     |\n",
      "|US1COLR0186| 40.8135|-105.0963|   1601.7|   CO|BUCKEYE 0.9 S|       |       |     |\n",
      "|US1COLR0187| 40.7689| -105.064|   1653.8|   CO|WELLINGTON 5.|       |       |     |\n",
      "|US1COLR0189|  40.689|-105.0242|   1594.1|   CO|WELLINGTON 1.|       |       |     |\n",
      "|US1COLR0193| 40.6711|-105.0639|   1584.0|   CO|WELLINGTON 3.|       |       |     |\n",
      "|US1COLR0196|  40.691|-105.0157|   1581.9|   CO|WELLINGTON 0.|       |       |     |\n",
      "|US1COLR0197|  40.625|-105.3403|   2464.0|   CO|    BLV 8.0 W|       |       |     |\n",
      "|US1COLR0200| 40.3345|-105.5127|   2431.1|   CO|ESTES PARK 2.|       |       |     |\n",
      "|US1COLR0201| 40.4701|-105.4493|   2303.1|   CO|GLEN HAVEN 1.|       |       |     |\n",
      "|US1COLR0202| 40.3588|-105.5635|   2389.9|   CO|ESTES PARK 2.|       |       |     |\n",
      "|US1COLR0205| 40.4898|-105.5015|   2567.9|   CO| GLEN HAVEN 4|       |       |     |\n",
      "|US1COLR0206|  40.456|-105.4566|   2243.9|   CO|GLEN HAVEN 0.|       |       |     |\n",
      "|US1COLR0208| 40.8103|-105.9351|   2523.1|   CO|          GLN|       |       |     |\n",
      "|US1COLR0209| 40.3775|-105.5331|   2318.0|   CO|ESTES PARK 0.|       |       |     |\n",
      "|US1COLR0210| 40.4708|-105.4364|   2222.9|   CO|GLEN HAVEN 1.|       |       |     |\n",
      "|US1COLR0211| 40.4703| -105.428|   2250.0|   CO|GLEN HAVEN 1.|       |       |     |\n",
      "|US1COLR0212| 40.3606|-105.5304|   2418.9|   CO|ESTES PARK 1.|       |       |     |\n",
      "|US1COLR0213| 40.3551|-105.4937|   2361.9|   CO|ESTES PARK 1.|       |       |     |\n",
      "|US1COLR0214| 40.3395|-105.5605|   2567.9|   CO|ESTES PARK 3.|       |       |     |\n",
      "|US1COLR0215| 40.3571|-105.5123|   2425.0|   CO|ESTES PARK 1.|       |       |     |\n",
      "+-----------+--------+---------+---------+-----+-------------+-------+-------+-----+\n",
      "only showing top 20 rows\n",
      "\n"
     ]
    }
   ],
   "source": [
    "stations.show()"
   ]
  },
  {
   "cell_type": "markdown",
   "metadata": {},
   "source": [
    "## Get total measurement count by year"
   ]
  },
  {
   "cell_type": "code",
   "execution_count": 4,
   "metadata": {},
   "outputs": [
    {
     "name": "stdout",
     "output_type": "stream",
     "text": [
      "CPU times: user 0 ns, sys: 0 ns, total: 0 ns\n",
      "Wall time: 266 ms\n"
     ]
    }
   ],
   "source": [
    "%%time\n",
    "yearCount = sqlContext.sql(\"SELECT Year, COUNT(*) FROM parquet.`/tmp/weather.parquet` GROUP BY Year ORDER BY Year DESC\")"
   ]
  },
  {
   "cell_type": "code",
   "execution_count": 7,
   "metadata": {},
   "outputs": [
    {
     "name": "stdout",
     "output_type": "stream",
     "text": [
      "+----+--------+\n",
      "|Year|count(1)|\n",
      "+----+--------+\n",
      "|2013|   64353|\n",
      "|2012|  137060|\n",
      "|2011|  150630|\n",
      "|2010|  152006|\n",
      "|2009|  149692|\n",
      "|2008|  148206|\n",
      "|2007|  135951|\n",
      "|2006|  126041|\n",
      "|2005|  127879|\n",
      "|2004|  128189|\n",
      "+----+--------+\n",
      "only showing top 10 rows\n",
      "\n",
      "CPU times: user 4 ms, sys: 0 ns, total: 4 ms\n",
      "Wall time: 27.4 s\n"
     ]
    }
   ],
   "source": [
    "%%time\n",
    "yearCount.show(10)"
   ]
  },
  {
   "cell_type": "code",
   "execution_count": 8,
   "metadata": {},
   "outputs": [],
   "source": [
    "allyears = yearCount.select('Year').collect()\n",
    "allcounts = yearCount.select('Count(1)').collect()"
   ]
  },
  {
   "cell_type": "code",
   "execution_count": 15,
   "metadata": {},
   "outputs": [],
   "source": [
    "from matplotlib import pyplot as plt\n",
    "import numpy as np\n",
    "%matplotlib inline"
   ]
  },
  {
   "cell_type": "code",
   "execution_count": 26,
   "metadata": {},
   "outputs": [
    {
     "data": {
      "text/plain": [
       "Text(0.5,0,'year')"
      ]
     },
     "execution_count": 26,
     "metadata": {},
     "output_type": "execute_result"
    },
    {
     "data": {
      "image/png": "[encoded data removed]",
      "text/plain": [
       "<Figure size 432x288 with 1 Axes>"
      ]
     },
     "metadata": {
      "needs_background": "light"
     },
     "output_type": "display_data"
    }
   ],
   "source": [
    "fig1 = plt.figure()\n",
    "ax1 = fig1.add_axes([0,0,1,1])\n",
    "ax1.plot(allyears, allcounts)\n",
    "ax1.set_title('total measurement numbers by year')\n",
    "ax1.set_ylabel('count')\n",
    "ax1.set_xlabel('year')"
   ]
  },
  {
   "cell_type": "markdown",
   "metadata": {},
   "source": [
    "## Get Measurement count of haze/smog by year"
   ]
  },
  {
   "cell_type": "code",
   "execution_count": 18,
   "metadata": {},
   "outputs": [
    {
     "name": "stdout",
     "output_type": "stream",
     "text": [
      "CPU times: user 4 ms, sys: 0 ns, total: 4 ms\n",
      "Wall time: 6.64 s\n"
     ]
    }
   ],
   "source": [
    "%%time\n",
    "qry = \"SELECT Year, COUNT(*) FROM parquet.`/tmp/weather.parquet` WHERE Measurement='WT08' GROUP BY Year ORDER BY Year DESC\"\n",
    "smogCount = sqlContext.sql(qry)"
   ]
  },
  {
   "cell_type": "code",
   "execution_count": 19,
   "metadata": {},
   "outputs": [
    {
     "name": "stdout",
     "output_type": "stream",
     "text": [
      "+----+--------+\n",
      "|Year|count(1)|\n",
      "+----+--------+\n",
      "|2012|     444|\n",
      "|2011|     910|\n",
      "|2010|     915|\n",
      "|2009|     905|\n",
      "|2008|     901|\n",
      "|2007|     904|\n",
      "|2006|     878|\n",
      "|2005|     573|\n",
      "|2004|     463|\n",
      "|2003|     455|\n",
      "+----+--------+\n",
      "only showing top 10 rows\n",
      "\n",
      "CPU times: user 4 ms, sys: 0 ns, total: 4 ms\n",
      "Wall time: 9.42 s\n"
     ]
    }
   ],
   "source": [
    "%%time\n",
    "smogCount.show(10)"
   ]
  },
  {
   "cell_type": "code",
   "execution_count": 24,
   "metadata": {
    "collapsed": true
   },
   "outputs": [],
   "source": [
    "smogyears = smogCount.select('Year').collect()\n",
    "smogcounts = smogCount.select('Count(1)').collect()"
   ]
  },
  {
   "cell_type": "code",
   "execution_count": 25,
   "metadata": {},
   "outputs": [
    {
     "data": {
      "text/plain": [
       "Text(0.5,0,'year')"
      ]
     },
     "execution_count": 25,
     "metadata": {},
     "output_type": "execute_result"
    },
    {
     "data": {
      "image/png": "[encoded data removed]",
      "text/plain": [
       "<Figure size 432x288 with 1 Axes>"
      ]
     },
     "metadata": {
      "needs_background": "light"
     },
     "output_type": "display_data"
    }
   ],
   "source": [
    "fig2 = plt.figure()\n",
    "ax2 = fig2.add_axes([0,0,1,1])\n",
    "ax2.plot(smogyears,smogcounts)\n",
    "ax2.set_title('smog measurement numbers by year')\n",
    "ax2.set_ylabel('count')\n",
    "ax2.set_xlabel('year')"
   ]
  },
  {
   "cell_type": "code",
   "execution_count": 31,
   "metadata": {},
   "outputs": [
    {
     "name": "stdout",
     "output_type": "stream",
     "text": [
      "\n",
      "SELECT *\n",
      "FROM parquet.`/tmp/weather.parquet`\n",
      "WHERE measurement='WT08'\n",
      "\n",
      "CPU times: user 796 ms, sys: 76 ms, total: 872 ms\n",
      "Wall time: 21.2 s\n"
     ]
    }
   ],
   "source": [
    "%%time\n",
    "query=\"\"\"\n",
    "SELECT *\n",
    "FROM parquet.`/tmp/weather.parquet`\n",
    "WHERE measurement='WT08'\n",
    "\"\"\"\n",
    "print(query)\n",
    "WT08_df=sqlContext.sql(query)\n",
    "WT08_pdf=WT08_df.toPandas()"
   ]
  },
  {
   "cell_type": "code",
   "execution_count": 32,
   "metadata": {},
   "outputs": [
    {
     "data": {
      "text/html": [
       "<div>\n",
       "<style scoped>\n",
       "    .dataframe tbody tr th:only-of-type {\n",
       "        vertical-align: middle;\n",
       "    }\n",
       "\n",
       "    .dataframe tbody tr th {\n",
       "        vertical-align: top;\n",
       "    }\n",
       "\n",
       "    .dataframe thead th {\n",
       "        text-align: right;\n",
       "    }\n",
       "</style>\n",
       "<table border=\"1\" class=\"dataframe\">\n",
       "  <thead>\n",
       "    <tr style=\"text-align: right;\">\n",
       "      <th></th>\n",
       "      <th>Station</th>\n",
       "      <th>Measurement</th>\n",
       "      <th>Year</th>\n",
       "      <th>Values</th>\n",
       "    </tr>\n",
       "  </thead>\n",
       "  <tbody>\n",
       "    <tr>\n",
       "      <th>0</th>\n",
       "      <td>USW00093819</td>\n",
       "      <td>WT08</td>\n",
       "      <td>1948</td>\n",
       "      <td>[0, 60, 0, 60, 0, 60, 0, 60, 0, 60, 0, 126, 0,...</td>\n",
       "    </tr>\n",
       "    <tr>\n",
       "      <th>1</th>\n",
       "      <td>USW00093819</td>\n",
       "      <td>WT08</td>\n",
       "      <td>1949</td>\n",
       "      <td>[0, 126, 0, 60, 0, 60, 0, 60, 0, 126, 0, 126, ...</td>\n",
       "    </tr>\n",
       "    <tr>\n",
       "      <th>2</th>\n",
       "      <td>USW00093819</td>\n",
       "      <td>WT08</td>\n",
       "      <td>1950</td>\n",
       "      <td>[0, 60, 0, 126, 0, 126, 0, 126, 0, 60, 0, 60, ...</td>\n",
       "    </tr>\n",
       "    <tr>\n",
       "      <th>3</th>\n",
       "      <td>USW00093819</td>\n",
       "      <td>WT08</td>\n",
       "      <td>1951</td>\n",
       "      <td>[0, 60, 0, 126, 0, 126, 0, 60, 0, 60, 0, 60, 0...</td>\n",
       "    </tr>\n",
       "    <tr>\n",
       "      <th>4</th>\n",
       "      <td>USW00093819</td>\n",
       "      <td>WT08</td>\n",
       "      <td>1952</td>\n",
       "      <td>[0, 60, 0, 126, 0, 60, 0, 60, 0, 60, 0, 126, 0...</td>\n",
       "    </tr>\n",
       "  </tbody>\n",
       "</table>\n",
       "</div>"
      ],
      "text/plain": [
       "       Station Measurement  Year  \\\n",
       "0  USW00093819        WT08  1948   \n",
       "1  USW00093819        WT08  1949   \n",
       "2  USW00093819        WT08  1950   \n",
       "3  USW00093819        WT08  1951   \n",
       "4  USW00093819        WT08  1952   \n",
       "\n",
       "                                              Values  \n",
       "0  [0, 60, 0, 60, 0, 60, 0, 60, 0, 60, 0, 126, 0,...  \n",
       "1  [0, 126, 0, 60, 0, 60, 0, 60, 0, 126, 0, 126, ...  \n",
       "2  [0, 60, 0, 126, 0, 126, 0, 126, 0, 60, 0, 60, ...  \n",
       "3  [0, 60, 0, 126, 0, 126, 0, 60, 0, 60, 0, 60, 0...  \n",
       "4  [0, 60, 0, 126, 0, 60, 0, 60, 0, 60, 0, 126, 0...  "
      ]
     },
     "execution_count": 32,
     "metadata": {},
     "output_type": "execute_result"
    }
   ],
   "source": [
    "WT08_pdf.head(5)"
   ]
  },
  {
   "cell_type": "code",
   "execution_count": 17,
   "metadata": {},
   "outputs": [
    {
     "name": "stdout",
     "output_type": "stream",
     "text": [
      "CPU times: user 0 ns, sys: 0 ns, total: 0 ns\n",
      "Wall time: 187 ms\n"
     ]
    }
   ],
   "source": [
    "%%time\n",
    "smogData = sqlContext.sql(\"SELECT * FROM parquet.`/tmp/weather.parquet` WHERE Measurement='WT08' ORDER BY Year DESC\")"
   ]
  },
  {
   "cell_type": "code",
   "execution_count": 18,
   "metadata": {},
   "outputs": [
    {
     "name": "stdout",
     "output_type": "stream",
     "text": [
      "+-----------+-----------+----+--------------------+\n",
      "|    Station|Measurement|Year|              Values|\n",
      "+-----------+-----------+----+--------------------+\n",
      "|USW00004751|       WT08|2012|[00 7E 00 7E 00 3...|\n",
      "|USW00014950|       WT08|2012|[00 7E 00 7E 00 7...|\n",
      "|USW00024152|       WT08|2012|[00 7E 00 7E 00 7...|\n",
      "|USW00093026|       WT08|2012|[00 7E 00 7E 00 7...|\n",
      "|USW00023233|       WT08|2012|[00 3C 00 3C 00 7...|\n",
      "|USW00014935|       WT08|2012|[00 7E 00 7E 00 7...|\n",
      "|USW00014732|       WT08|2012|[00 7E 00 7E 00 7...|\n",
      "|USW00003927|       WT08|2012|[00 7E 00 7E 00 7...|\n",
      "|USW00024235|       WT08|2012|[00 7E 00 7E 00 7...|\n",
      "|USW00013899|       WT08|2012|[00 7E 00 7E 00 7...|\n",
      "+-----------+-----------+----+--------------------+\n",
      "only showing top 10 rows\n",
      "\n"
     ]
    }
   ],
   "source": [
    "smogData.show(10)"
   ]
  },
  {
   "cell_type": "markdown",
   "metadata": {},
   "source": [
    "### Example: Counting the number of stations in each country"
   ]
  },
  {
   "cell_type": "code",
   "execution_count": 30,
   "metadata": {
    "scrolled": true
   },
   "outputs": [
    {
     "name": "stdout",
     "output_type": "stream",
     "text": [
      "+-----------+--------+---------+---------+-----+-------------+-------+-------+-----+\n",
      "|         ID|latitude|longitude|elevation|state|         name|GSNFLAG|HCNFLAG|WMOID|\n",
      "+-----------+--------+---------+---------+-----+-------------+-------+-------+-----+\n",
      "|US1COLR0185|  40.711|-105.1144|   1599.0|   CO|WELLINGTON 5.|       |       |     |\n",
      "|US1COLR0186| 40.8135|-105.0963|   1601.7|   CO|BUCKEYE 0.9 S|       |       |     |\n",
      "|US1COLR0187| 40.7689| -105.064|   1653.8|   CO|WELLINGTON 5.|       |       |     |\n",
      "|US1COLR0189|  40.689|-105.0242|   1594.1|   CO|WELLINGTON 1.|       |       |     |\n",
      "|US1COLR0193| 40.6711|-105.0639|   1584.0|   CO|WELLINGTON 3.|       |       |     |\n",
      "|US1COLR0196|  40.691|-105.0157|   1581.9|   CO|WELLINGTON 0.|       |       |     |\n",
      "|US1COLR0197|  40.625|-105.3403|   2464.0|   CO|    BLV 8.0 W|       |       |     |\n",
      "|US1COLR0200| 40.3345|-105.5127|   2431.1|   CO|ESTES PARK 2.|       |       |     |\n",
      "|US1COLR0201| 40.4701|-105.4493|   2303.1|   CO|GLEN HAVEN 1.|       |       |     |\n",
      "|US1COLR0202| 40.3588|-105.5635|   2389.9|   CO|ESTES PARK 2.|       |       |     |\n",
      "|US1COLR0205| 40.4898|-105.5015|   2567.9|   CO| GLEN HAVEN 4|       |       |     |\n",
      "|US1COLR0206|  40.456|-105.4566|   2243.9|   CO|GLEN HAVEN 0.|       |       |     |\n",
      "|US1COLR0208| 40.8103|-105.9351|   2523.1|   CO|          GLN|       |       |     |\n",
      "|US1COLR0209| 40.3775|-105.5331|   2318.0|   CO|ESTES PARK 0.|       |       |     |\n",
      "|US1COLR0210| 40.4708|-105.4364|   2222.9|   CO|GLEN HAVEN 1.|       |       |     |\n",
      "|US1COLR0211| 40.4703| -105.428|   2250.0|   CO|GLEN HAVEN 1.|       |       |     |\n",
      "|US1COLR0212| 40.3606|-105.5304|   2418.9|   CO|ESTES PARK 1.|       |       |     |\n",
      "|US1COLR0213| 40.3551|-105.4937|   2361.9|   CO|ESTES PARK 1.|       |       |     |\n",
      "|US1COLR0214| 40.3395|-105.5605|   2567.9|   CO|ESTES PARK 3.|       |       |     |\n",
      "|US1COLR0215| 40.3571|-105.5123|   2425.0|   CO|ESTES PARK 1.|       |       |     |\n",
      "+-----------+--------+---------+---------+-----+-------------+-------+-------+-----+\n",
      "only showing top 20 rows\n",
      "\n"
     ]
    }
   ],
   "source": [
    "stations.show()"
   ]
  },
  {
   "cell_type": "code",
   "execution_count": null,
   "metadata": {},
   "outputs": [],
   "source": [
    "st_names=stations.select('ID').collect()"
   ]
  },
  {
   "cell_type": "code",
   "execution_count": 32,
   "metadata": {},
   "outputs": [
    {
     "data": {
      "text/plain": [
       "85284"
      ]
     },
     "execution_count": 32,
     "metadata": {},
     "output_type": "execute_result"
    }
   ],
   "source": [
    "len(st_names)"
   ]
  },
  {
   "cell_type": "code",
   "execution_count": 33,
   "metadata": {
    "collapsed": true
   },
   "outputs": [],
   "source": [
    "st_names1=[r.ID for r in st_names]"
   ]
  },
  {
   "cell_type": "code",
   "execution_count": 34,
   "metadata": {},
   "outputs": [
    {
     "data": {
      "text/plain": [
       "[u'US1COLR0171',\n",
       " u'US1COLR0172',\n",
       " u'US1COLR0173',\n",
       " u'US1COLR0181',\n",
       " u'US1COLR0183']"
      ]
     },
     "execution_count": 34,
     "metadata": {},
     "output_type": "execute_result"
    }
   ],
   "source": [
    "st_names1[-5:]"
   ]
  },
  {
   "cell_type": "code",
   "execution_count": 35,
   "metadata": {
    "collapsed": true
   },
   "outputs": [],
   "source": [
    "from collections import Counter"
   ]
  },
  {
   "cell_type": "code",
   "execution_count": 36,
   "metadata": {
    "collapsed": true
   },
   "outputs": [],
   "source": [
    "C=Counter([x[:2] for x in st_names1])"
   ]
  },
  {
   "cell_type": "code",
   "execution_count": 37,
   "metadata": {
    "collapsed": true,
    "scrolled": false
   },
   "outputs": [],
   "source": [
    "sorted_prefix=sorted(C.items(),key=lambda x:x[1],reverse=True)"
   ]
  },
  {
   "cell_type": "code",
   "execution_count": 38,
   "metadata": {},
   "outputs": [
    {
     "data": {
      "text/plain": [
       "180"
      ]
     },
     "execution_count": 38,
     "metadata": {},
     "output_type": "execute_result"
    }
   ],
   "source": [
    "len(sorted_prefix)"
   ]
  },
  {
   "cell_type": "code",
   "execution_count": 39,
   "metadata": {},
   "outputs": [
    {
     "data": {
      "text/plain": [
       "[(u'US', 46051),\n",
       " (u'AS', 17081),\n",
       " (u'BR', 5935),\n",
       " (u'CA', 5286),\n",
       " (u'IN', 3805),\n",
       " (u'SF', 1154),\n",
       " (u'RS', 1099),\n",
       " (u'NO', 419),\n",
       " (u'NL', 359),\n",
       " (u'KZ', 328)]"
      ]
     },
     "execution_count": 39,
     "metadata": {},
     "output_type": "execute_result"
    }
   ],
   "source": [
    "sorted_prefix[:10]"
   ]
  },
  {
   "cell_type": "code",
   "execution_count": 40,
   "metadata": {},
   "outputs": [
    {
     "name": "stdout",
     "output_type": "stream",
     "text": [
      "Populating the interactive namespace from numpy and matplotlib\n"
     ]
    }
   ],
   "source": [
    "%pylab inline"
   ]
  },
  {
   "cell_type": "code",
   "execution_count": 41,
   "metadata": {
    "collapsed": true
   },
   "outputs": [],
   "source": [
    "counts = np.array([x[1] for x in sorted_prefix])"
   ]
  },
  {
   "cell_type": "code",
   "execution_count": 42,
   "metadata": {},
   "outputs": [
    {
     "data": {
      "text/plain": [
       "[<matplotlib.lines.Line2D at 0x7f0c74c6cc50>]"
      ]
     },
     "execution_count": 42,
     "metadata": {},
     "output_type": "execute_result"
    },
    {
     "data": {
      "image/png": "[encoded data removed]",
      "text/plain": [
       "<Figure size 432x288 with 1 Axes>"
      ]
     },
     "metadata": {
      "needs_background": "light"
     },
     "output_type": "display_data"
    }
   ],
   "source": [
    "cumul=np.cumsum(counts)\n",
    "plot(cumul)"
   ]
  },
  {
   "cell_type": "code",
   "execution_count": 43,
   "metadata": {},
   "outputs": [
    {
     "data": {
      "text/plain": [
       "85284"
      ]
     },
     "execution_count": 43,
     "metadata": {},
     "output_type": "execute_result"
    }
   ],
   "source": [
    "cumul[-1]"
   ]
  },
  {
   "cell_type": "code",
   "execution_count": 44,
   "metadata": {},
   "outputs": [
    {
     "data": {
      "text/plain": [
       "numpy.ndarray"
      ]
     },
     "execution_count": 44,
     "metadata": {},
     "output_type": "execute_result"
    }
   ],
   "source": [
    "type(cumul)"
   ]
  },
  {
   "cell_type": "markdown",
   "metadata": {},
   "source": [
    "## Excercises\n",
    "\n",
    "1. Count the total number of yearXstationXmeasurement  Records (YSMRs) for each country.\n",
    "2. Count the number of YSMR's for each measurement.\n",
    "3. Compute the mean P/M std of TOBS for each country and each state."
   ]
  },
  {
   "cell_type": "code",
   "execution_count": null,
   "metadata": {
    "collapsed": true
   },
   "outputs": [],
   "source": []
  }
 ],
 "metadata": {
  "kernelspec": {
   "display_name": "Python 2",
   "language": "python",
   "name": "python2"
  },
  "language_info": {
   "codemirror_mode": {
    "name": "ipython",
    "version": 2
   },
   "file_extension": ".py",
   "mimetype": "text/x-python",
   "name": "python",
   "nbconvert_exporter": "python",
   "pygments_lexer": "ipython2",
   "version": "2.7.16"
  }
 },
 "nbformat": 4,
 "nbformat_minor": 1
}
