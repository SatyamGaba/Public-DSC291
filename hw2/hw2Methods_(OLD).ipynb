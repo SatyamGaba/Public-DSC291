Jupyter Notebook
JakeFirst.ipynb.txt
几秒前
Plain Text
File
Edit
View
Language
1
{
2
 "cells": [
3
  {
4
   "cell_type": "markdown",
5
   "metadata": {
6
    "slideshow": {
7
     "slide_type": "slide"
8
    }
9
   },
10
   "source": [
11
    "# Methods for Homework 2, Team 2\n",
12
    "## DSC291 - Data Science for Scientists and Engineers\n",
13
    "\n",
14
    "This notebook demonstrates how we use aws-jupyter to \n",
15
    "- automatically start EC2 instances of different types\n",
16
    "- run the same timed script on all these instances\n",
17
    "- retrieve the results from all instances\n",
18
    "- and combine all results with pricing data to compare the performance of different instances\n",
19
    "\n",
20
    "While this notebook does not describe our actual experiment (we're submitting another one for that), it is meant as a general desription of how it is possible to use aws-jupyter to run any such experiment. \n",
21
    "\n",
22
    "**Run the last cell to turn this notebook into a presentation!**\n",
23
    "\n",
24
    "*Note: To successfully run this notebook, it's easiest to start it in the conda environment for packages availability.*\n",
25
    "\n",
26
    "    $conda activate\n",
27
    "$jupyter notebook\n"
28
   ]
29
  },
30
  {
31
   "cell_type": "code",
32
   "execution_count": null,
33
   "metadata": {
34
    "slideshow": {
35
     "slide_type": "fragment"
36
    }
37
   },
38
   "outputs": [],
39
   "source": [
40
    "# import stuff\n",
41
    "from os.path import isfile,isdir\n",
42
    "from os import mkdir,chdir,getcwd\n",
43
    "import pickle as pk\n",
44
    "import pandas as pd\n",
45
    "import numpy as np\n",
46
    "import subprocess\n",
47
    "from time import sleep\n",
48
    "import argparse\n",
49
    "\n",
50
    "# enable inline graphics\n",
51
    "%pylab inline  "
52
   ]
