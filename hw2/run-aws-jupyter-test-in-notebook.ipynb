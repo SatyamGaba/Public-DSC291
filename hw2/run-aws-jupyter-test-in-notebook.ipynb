{
 "cells": [
  {
   "cell_type": "markdown",
   "metadata": {
    "slideshow": {
     "slide_type": "slide"
    }
   },
   "source": [
    "# Just playing around here\n",
    "\n",
    "Note to self: Make sure to run this notebook in the conda environment to have packages available. \n",
    "\n",
    "    conda activate\n",
    "    jupyter notebook\n",
    "\n",
    "##### Coolio, let's start by listing instances. "
   ]
  },
  {
   "cell_type": "code",
   "execution_count": 21,
   "metadata": {
    "slideshow": {
     "slide_type": "fragment"
    }
   },
   "outputs": [
    {
     "name": "stdout",
     "output_type": "stream",
     "text": [
      "----------------------------------------------------------------------------------------------------------------------------------\r\n",
      "\u001b[0m\u001b[0m|                                                        DescribeInstances                                                       |\u001b[0m\u001b[0m\r\n",
      "\u001b[0m\u001b[0m+---------------------+---------------------+---------------------------+------------------------+-----------------+-------------+\u001b[0m\u001b[0m\r\n",
      "\u001b[0m\u001b[0m|      Instance       |       KeyName       |        LaunchTime         |         Name           |      State      |    Type     |\u001b[0m\u001b[0m\r\n",
      "\u001b[0m\u001b[0m+---------------------+---------------------+---------------------------+------------------------+-----------------+-------------+\u001b[0m\u001b[0m\r\n",
      "\u001b[0m\u001b[0m|  \u001b[1m\u001b[34mi-06db20077a6e44cad\u001b[0m|  \u001b[1m\u001b[34mPSADSC291KeyPair\u001b[0m   |  \u001b[1m\u001b[34m2020-04-19T04:15:15.000Z\u001b[0m |  \u001b[1m\u001b[34mdsc291hw2arndt\u001b[0m        |  \u001b[1m\u001b[34mshutting-down\u001b[0m  |  \u001b[1m\u001b[34mt2.micro\u001b[0m   |\u001b[0m\u001b[0m\r\n",
      "\u001b[0m\u001b[0m|  \u001b[1m\u001b[34mi-039be9e81693344c6\u001b[0m|  \u001b[1m\u001b[34mPSADSC291KeyPair\u001b[0m   |  \u001b[1m\u001b[34m2020-04-19T08:28:57.000Z\u001b[0m |  \u001b[1m\u001b[34mdsc291hw2anothertest2\u001b[0m |  \u001b[1m\u001b[34mterminated\u001b[0m     |  \u001b[1m\u001b[34mt2.micro\u001b[0m   |\u001b[0m\u001b[0m\r\n",
      "\u001b[0m\u001b[0m|  \u001b[1m\u001b[34mi-0c71d929d331d1a9d\u001b[0m|  \u001b[1m\u001b[34mSGabaDSC291KeyPair\u001b[0m |  \u001b[1m\u001b[34m2020-04-16T18:44:26.000Z\u001b[0m |  \u001b[1m\u001b[34msgaba-test\u001b[0m            |  \u001b[1m\u001b[34mstopped\u001b[0m        |  \u001b[1m\u001b[34mm3.xlarge\u001b[0m  |\u001b[0m\u001b[0m\r\n",
      "\u001b[0m\u001b[0m+---------------------+---------------------+---------------------------+------------------------+-----------------+-------------+\u001b[0m\u001b[0m\r\n",
      "\u001b[0m\u001b[0m"
     ]
    }
   ],
   "source": [
    "!aws ec2 describe-instances \\\n",
    "    --query 'Reservations[*].Instances[*].{Type:InstanceType,\\\n",
    "                                           LaunchTime:LaunchTime,\\\n",
    "                                           Instance:InstanceId,\\\n",
    "                                           KeyName:KeyName,\\\n",
    "                                           State:State.Name,\\\n",
    "                                           Name:Tags[?Key==`cluster-name`]|[0].Value}' \\\n",
    "    --output table"
   ]
  },
  {
   "cell_type": "markdown",
   "metadata": {
    "slideshow": {
     "slide_type": "slide"
    }
   },
   "source": [
    "### a few options for shutting down instances "
   ]
  },
  {
   "cell_type": "code",
   "execution_count": null,
   "metadata": {
    "slideshow": {
     "slide_type": "fragment"
    }
   },
   "outputs": [],
   "source": [
    "# !aws ec2 stop-instances --instance-ids \"i-0105aaca12dbcb0e1\" \"i-0f36f5a941f2fee32\"\n",
    "# !aws ec2 stop-instances --instance-ids \"i-0c71d929d331d1a9d\" --hibernate\n",
    "!aws ec2 terminate-instances --instance-ids \"i-06db20077a6e44cad\"\n"
   ]
  },
  {
   "cell_type": "markdown",
   "metadata": {
    "slideshow": {
     "slide_type": "fragment"
    }
   },
   "source": [
    "### Create an ec2 instance using aws-jupyter package"
   ]
  },
  {
   "cell_type": "code",
   "execution_count": 3,
   "metadata": {
    "slideshow": {
     "slide_type": "fragment"
    }
   },
   "outputs": [],
   "source": [
    "# !aws-jupyter create -c 1 --name dsc291hw2psa --region us-west-2 --type t2.micro\n",
    "# !aws-jupyter check"
   ]
  },
  {
   "cell_type": "code",
   "execution_count": 4,
   "metadata": {
    "slideshow": {
     "slide_type": "slide"
    }
   },
   "outputs": [
    {
     "name": "stdout",
     "output_type": "stream",
     "text": [
      "/home/parndt/DSC291/Public-DSC291/hw2\n",
      "Populating the interactive namespace from numpy and matplotlib\n"
     ]
    }
   ],
   "source": [
    "# just to make sure things work\n",
    "!pwd \n",
    "# !aws-jupyter access  # prints credentials!!\n",
    "\n",
    "# enable inline graphics\n",
    "%pylab inline  "
   ]
  },
  {
   "cell_type": "markdown",
   "metadata": {
    "slideshow": {
     "slide_type": "slide"
    }
   },
   "source": [
    "## Python wrapper for aws-jupyter"
   ]
  },
  {
   "cell_type": "markdown",
   "metadata": {
    "slideshow": {
     "slide_type": "fragment"
    }
   },
   "source": [
    "We could put this in a separate file (as demonstrated in class), but here I wanna understand what's going on..."
   ]
  },
  {
   "cell_type": "code",
   "execution_count": 5,
   "metadata": {
    "slideshow": {
     "slide_type": "fragment"
    }
   },
   "outputs": [],
   "source": [
    "import subprocess\n",
    "from time import sleep\n",
    "import argparse\n",
    "\n",
    "def run_command(command,debug=False):\n",
    "    if debug:\n",
    "        print('running ',command)\n",
    "    p=subprocess.Popen(command.split(), stdout=subprocess.PIPE, stderr=subprocess.PIPE)\n",
    "    out=p.communicate()\n",
    "    stdout=out[0].decode()\n",
    "    stderr=out[1].decode()\n",
    "    outputs={\"stderr\":stderr,\n",
    "             \"stdout\":stdout}\n",
    "    if debug:\n",
    "        print(outputs)\n",
    "    return outputs"
   ]
  },
  {
   "cell_type": "code",
   "execution_count": 6,
   "metadata": {
    "slideshow": {
     "slide_type": "fragment"
    }
   },
   "outputs": [],
   "source": [
    "class aws_jupyter:\n",
    "    \"\"\"\n",
    "    A python wrapper around the script **aws-jupyter**\n",
    "    \"\"\"\n",
    "    \n",
    "    def check(self):\n",
    "        \"\"\"\n",
    "        Check on the status of the ec2 instance\n",
    "        Returns status\n",
    "        -------\n",
    "        0 = No instance running under this name \n",
    "        \n",
    "        1 = instance in the process of starting up\n",
    "        \n",
    "        2 = instance available        \n",
    "        \n",
    "        -1 = Status could not be parsed\n",
    "        \"\"\"\n",
    "        check_cmd = \"aws-jupyter check --name %s\"%self.name\n",
    "        self.decoded=run_command(check_cmd)\n",
    "        stdout=self.decoded['stdout']\n",
    "        if('The Jupyter Notebook is running on the cluster at the address below.' in stdout):\n",
    "            print(stdout)\n",
    "            return 2\n",
    "        elif(\"No instance found in the cluster\" in stdout):\n",
    "            return 0\n",
    "        elif(\"Cluster is not ready. Please check again later.\" in stdout):\n",
    "            return 1\n",
    "        else:\n",
    "            print(\" ...did not recognize check status\")\n",
    "            # print(stdout)\n",
    "            return -1\n",
    "\n",
    "    def run(self,scriptname,files=[],credentials=\"\",waitforoutput=True,printoutput=False): \n",
    "        \"\"\"\n",
    "        Run a local script on the remote instance\n",
    "        Parameters\n",
    "        ----------\n",
    "        scriptname : TYPE\n",
    "            DESCRIPTION.\n",
    "        files : TYPE, optional\n",
    "            DESCRIPTION. The default is [].\n",
    "        credentials : TYPE\n",
    "            DESCRIPTION.\n",
    "        waitforoutput : TYPE, optional\n",
    "            DESCRIPTION. The default is True.\n",
    "        Returns\n",
    "        -------\n",
    "        None.\n",
    "        \"\"\"\n",
    "            \n",
    "        running_cmd = \"aws-jupyter run -s {script}\"\n",
    "        runcmd = running_cmd.format(script=scriptname)\n",
    "        if len(files)>0:\n",
    "            runcmd += \" --files\"\n",
    "            for i in range(len(files)):\n",
    "                runcmd += \" {fn}\".format(fn=files[i])\n",
    "        if waitforoutput:\n",
    "            runcmd += \" --output\"\n",
    "        print(\"running command: {runcmd}\".format(runcmd=runcmd))\n",
    "        out = run_command(runcmd,debug=False)\n",
    "        if printoutput:\n",
    "            print(out['stdout'])\n",
    "            print(out['stderr'])\n",
    "\n",
    "    def retrieve():\n",
    "        \"\"\" call aws-jupyter retrieve\"\"\"\n",
    "        return\n",
    "    \n",
    "    def terminate(self,printoutput=False):\n",
    "        \"\"\" call aws-jupyter terminate\"\"\"\n",
    "        term_cmd = \"yes | aws-jupyter terminate --name %s\" % self.name\n",
    "        print(\"terminate instance: {term_cmd}\".format(term_cmd=term_cmd))\n",
    "        out = run_command(term_cmd)\n",
    "        if printoutput:\n",
    "            print(out['stdout'])\n",
    "            print(out['stderr'])\n",
    "            \n",
    "    def __init__(self,name='instance',count=1,_type='t3.large',spot=0):\n",
    "        \"\"\"\n",
    "        Create a cluster of instances on ec2\n",
    "        Parameters\n",
    "        ----------\n",
    "        name : TYPE, optional\n",
    "            DESCRIPTION. The default is 'instance'.\n",
    "        count : TYPE, optional\n",
    "            DESCRIPTION. The default is 1.\n",
    "        _type : TYPE, optional\n",
    "            DESCRIPTION. The default is 't3.large'.\n",
    "        spot : TYPE, optional\n",
    "            DESCRIPTION. The default is 0.\n",
    "        Returns\n",
    "        -------\n",
    "        None.\n",
    "        \"\"\"\n",
    "        self.name=name\n",
    "        status=self.check()\n",
    "        if status==1:\n",
    "            print(\"cluster %s not ready yet\"%self.name)\n",
    "            return\n",
    "        elif status==2:\n",
    "            print(\"cluster running\")\n",
    "            return\n",
    "\n",
    "        create_cmd = \"aws-jupyter create -c {count} --name {name} --type {_type}\"\n",
    "        command=create_cmd.format(count=count,name=name,_type=_type)\n",
    "        if spot>0:\n",
    "            command.append(\" --spot %4.2f\"%spot)\n",
    "        out=run_command(command)\n",
    "        print(\"initiated instance:\",command)\n",
    " \n",
    "        i=0; wait_period=10\n",
    "        while True:\n",
    "            status=self.check()\n",
    "            if status==2:\n",
    "                # print(stdout)\n",
    "                break\n",
    "            print('\\r check',i*wait_period,end='')\n",
    "            i+=1\n",
    "            sleep(wait_period)"
   ]
  },
  {
   "cell_type": "markdown",
   "metadata": {
    "slideshow": {
     "slide_type": "slide"
    }
   },
   "source": [
    "### Coming up with a dumb script to run on each instance\n",
    "\n",
    "---> this is where we probably wanna do something more interesting haha"
   ]
  },
  {
   "cell_type": "code",
   "execution_count": 11,
   "metadata": {
    "slideshow": {
     "slide_type": "fragment"
    }
   },
   "outputs": [],
   "source": [
    "program_to_run = '''#!/usr/bin/env python3\n",
    "\n",
    "import numpy as np\n",
    "from time import time\n",
    "from os.path import isfile,isdir\n",
    "from os import mkdir,chdir,getcwd\n",
    "import pickle as pk\n",
    "\n",
    "times = []\n",
    "nTrials = 1000\n",
    "nFibonacci = 10**4\n",
    "\n",
    "# a dumb random computational task, on which to compare instances\n",
    "inst_starttime = time()\n",
    "for k in range(nTrials):\n",
    "    starttime = time()\n",
    "    fibonacci_previous = 1\n",
    "    fibonacci_current = 1\n",
    "    for i in range(2,nFibonacci):\n",
    "        fibonacci_next = fibonacci_previous + fibonacci_current\n",
    "        fibonacci_previous = fibonacci_current\n",
    "        fibonacci_current = fibonacci_next\n",
    "    DT = time() - starttime\n",
    "    times.append(DT)\n",
    "print(time() - inst_starttime)\n",
    "    \n",
    "#hist(times,bins=50)\n",
    "exec_dir = getcwd()\n",
    "log_dir = exec_dir + '/measurement_logs/'\n",
    "if not isdir(log_dir):\n",
    "    mkdir(log_dir)\n",
    "fn = log_dir + 'stats.pkl'\n",
    "with open(fn,'wb') as times_pkl:\n",
    "    pk.dump(times,times_pkl,protocol=pk.HIGHEST_PROTOCOL)'''\n",
    "\n",
    "theFile = open('ec2test.py','w') \n",
    "theFile.write(program_to_run) \n",
    "theFile.close() "
   ]
  },
  {
   "cell_type": "code",
   "execution_count": null,
   "metadata": {
    "slideshow": {
     "slide_type": "subslide"
    }
   },
   "outputs": [],
   "source": [
    "!cat ec2test.py"
   ]
  },
  {
   "cell_type": "markdown",
   "metadata": {
    "slideshow": {
     "slide_type": "slide"
    }
   },
   "source": [
    "### Create an EC2 instance thorugh aws-jupyter\n",
    "using t2.micro here for now to test things out, because those are free up to 250hrs/month..."
   ]
  },
  {
   "cell_type": "code",
   "execution_count": null,
   "metadata": {
    "slideshow": {
     "slide_type": "fragment"
    }
   },
   "outputs": [],
   "source": [
    "thisType = \"t2.micro\"\n",
    "thisName = \"dsc291hw2\" + thisType.replace('.','')\n",
    "thisInst = aws_jupyter(name=\"dsc291hw2anothertest2\", count=1, _type=thisType)\n",
    "# thisInst = aws_jupyter(name=\"dsc291hw2arndt3\", count=1, _type=\"m3.xlarge\")"
   ]
  },
  {
   "cell_type": "markdown",
   "metadata": {
    "slideshow": {
     "slide_type": "subslide"
    }
   },
   "source": [
    "### Now run the startup script\n",
    "(still having trouble with the --files argument: when left empty it will use the last used value from the config file, and I can't figure out how to tell aws-jupyter that there's NO input files at all... As a temporary fix, I edited the config file manually.)"
   ]
  },
  {
   "cell_type": "code",
   "execution_count": null,
   "metadata": {
    "slideshow": {
     "slide_type": "fragment"
    }
   },
   "outputs": [],
   "source": [
    "thisInst.run(scriptname='startup.sh',printoutput=True)"
   ]
  },
  {
   "cell_type": "markdown",
   "metadata": {
    "slideshow": {
     "slide_type": "subslide"
    }
   },
   "source": [
    "### and now the test script\n"
   ]
  },
  {
   "cell_type": "code",
   "execution_count": null,
   "metadata": {
    "slideshow": {
     "slide_type": "fragment"
    }
   },
   "outputs": [],
   "source": [
    "thisInst.run(scriptname='ec2test.py',printoutput=True)"
   ]
  },
  {
   "cell_type": "markdown",
   "metadata": {
    "slideshow": {
     "slide_type": "subslide"
    }
   },
   "source": [
    "### Retrieve results\n",
    "...and rename file by instance type!"
   ]
  },
  {
   "cell_type": "code",
   "execution_count": null,
   "metadata": {
    "slideshow": {
     "slide_type": "fragment"
    }
   },
   "outputs": [],
   "source": [
    "!mkdir from_remote\n",
    "!aws-jupyter retrieve --remote /home/ubuntu/workspace/measurement_logs/stats.pkl --local from_remote/\n",
    "new_fn = 'from_remote/stats_' + thisType.replace('.','-') + '.pkl'\n",
    "!mv from_remote/worker-0/stats.pkl $new_fn"
   ]
  },
  {
   "cell_type": "markdown",
   "metadata": {
    "slideshow": {
     "slide_type": "subslide"
    }
   },
   "source": [
    "### Terminate the instance\n",
    "Can't get it to work through the python object here, just call aws-jupyter directly..."
   ]
  },
  {
   "cell_type": "code",
   "execution_count": null,
   "metadata": {
    "slideshow": {
     "slide_type": "fragment"
    }
   },
   "outputs": [],
   "source": [
    "# thisInst.terminate(printoutput=True)  # <--- this doesn't work!\n",
    "!yes | aws-jupyter terminate --name $thisInst.name"
   ]
  },
  {
   "cell_type": "code",
   "execution_count": null,
   "metadata": {
    "slideshow": {
     "slide_type": "slide"
    }
   },
   "outputs": [],
   "source": [
    "# To view this notebook as slides\n",
    "!jupyter nbconvert hw2psa.ipynb --to slides --post serve"
   ]
  }
 ],
 "metadata": {
  "celltoolbar": "Slideshow",
  "kernelspec": {
   "display_name": "Python 3",
   "language": "python",
   "name": "python3"
  },
  "language_info": {
   "codemirror_mode": {
    "name": "ipython",
    "version": 3
   },
   "file_extension": ".py",
   "mimetype": "text/x-python",
   "name": "python",
   "nbconvert_exporter": "python",
   "pygments_lexer": "ipython3",
   "version": "3.7.7"
  }
 },
 "nbformat": 4,
 "nbformat_minor": 4
}
