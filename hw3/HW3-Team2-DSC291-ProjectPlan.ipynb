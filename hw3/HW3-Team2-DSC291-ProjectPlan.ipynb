{
 "cells": [
  {
   "cell_type": "markdown",
   "metadata": {},
   "source": [
    "# Project Plan for Homework 3, Team-2\n",
    "*You should be performing exploratory analysis and writing a plan this week, your plan is due by the end of Friday, May 8.*\n",
    "- Exploratory analysis: slicing and visualizing the data in different ways to identify a research question.\n",
    "- Writing a plan: specifying the background, question and experimental design for the project.\n",
    "\n",
    "## Background\n",
    "**Write this up at the end, when we know what we're doing** And do some background research --> look for articles or papers. *(One paragraph. Describe the context in which the question is being asked. Define any special words used in the question.)*\n",
    "\n",
    "## Research question\n",
    "**come up with one after exploratory analysis** *(1-2 sentences defining the goal of the study.)*\n",
    "\n",
    "## Experimental setup and methods\n",
    "*(Describe data collection, preparation, and cleaning. Provide the high level calls to code. Do not provide lengthy code, lengthy code should be stored in external .py files.)*\n",
    "\n",
    "### Data\n",
    "Weather Station Data / [Global Historical Climatology Network Daily (GHCND)](https://www.ncdc.noaa.gov/data-access/land-based-station-data/land-based-datasets/global-historical-climatology-network-ghcn) from NOAA at ftp://ftp.ncdc.noaa.gov/pub/data/ghcn/daily/\n",
    "\n",
    "### Computing Methods\n",
    "[spark-notebook](https://github.com/mas-dse/spark-notebook) and [aws-jupyter](https://github.com/arapat/aws-jupyter)\n",
    "\n",
    "## Experimental design\n",
    "**will be determined by the team once the research question is formulated** *(Describe experimental choices and explain why these experimental choices are appropriate for answering the question.)*\n",
    "\n",
    "## Timeline \n",
    "- 2020-05-04 Initial meeting with Yoav: Get spark notebook running and look at the data / articles to come up with ideas, then meet again\n",
    "- 2020-05-05 Team Zoom Meeting: Going over the notebook together via screen share, do some initial work, come up with research question, divide up future work amongst members\n",
    "- **more to add**\n",
    "- 2020-05-08 Submission of project plan / exploratory analysis\n",
    "- 2020-05-15 Submission of first project report\n",
    "- 2020-05-22 Submission of final project report"
   ]
  },
  {
   "cell_type": "code",
   "execution_count": null,
   "metadata": {},
   "outputs": [],
   "source": []
  }
 ],
 "metadata": {
  "kernelspec": {
   "display_name": "Python 3",
   "language": "python",
   "name": "python3"
  },
  "language_info": {
   "codemirror_mode": {
    "name": "ipython",
    "version": 3
   },
   "file_extension": ".py",
   "mimetype": "text/x-python",
   "name": "python",
   "nbconvert_exporter": "python",
   "pygments_lexer": "ipython3",
   "version": "3.7.6"
  }
 },
 "nbformat": 4,
 "nbformat_minor": 4
}
