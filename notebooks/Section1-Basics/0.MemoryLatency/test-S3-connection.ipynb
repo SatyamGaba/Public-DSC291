{
 "cells": [
  {
   "cell_type": "markdown",
   "metadata": {},
   "source": [
    "## Using Boto to connect with S3\n",
    "\n",
    "This notebook demonstrates how to use Boto to interact with S3.\n",
    "\n",
    "Here are pointers to the boto documentation:\n",
    "* [API Document](https://boto3.amazonaws.com/v1/documentation/api/latest/reference/services/s3.html)\n",
    "* [Examples](https://boto3.amazonaws.com/v1/documentation/api/latest/guide/s3-examples.html)"
   ]
  },
  {
   "cell_type": "code",
   "execution_count": 11,
   "metadata": {},
   "outputs": [
    {
     "name": "stdout",
     "output_type": "stream",
     "text": [
      "credentials.sh creds.yaml~    newCreds.txt\r\n",
      "creds.yaml     neighbors.txt  newCreds.txt~\r\n"
     ]
    },
    {
     "data": {
      "text/plain": [
       "'/Users/yoavfreund/academic.papers/Courses/BigDataAnalytics/DSC291_2020/BigData-Spark-private/notebooks/Section1-Basics/0.MemoryLatency'"
      ]
     },
     "execution_count": 11,
     "metadata": {},
     "output_type": "execute_result"
    }
   ],
   "source": [
    "!ls ~/VaultDSC291/\n",
    "from time import time\n",
    "%pwd"
   ]
  },
  {
   "cell_type": "code",
   "execution_count": 12,
   "metadata": {},
   "outputs": [
    {
     "data": {
      "text/plain": [
       "dict_keys(['access_key_id', 'secret_access_key', 'email_address', 'key_name', 'ssh_key'])"
      ]
     },
     "execution_count": 12,
     "metadata": {},
     "output_type": "execute_result"
    }
   ],
   "source": [
    "# read credentials from yaml file\n",
    "import yaml\n",
    "#yaml_file='/home/ubuntu/VaultDSC291/creds.yaml'\n",
    "yaml_file='/Users/yoavfreund/VaultDSC291/creds.yaml'\n",
    "with open(yaml_file,'rb') as yml:\n",
    "    creds=yaml.load(yml,Loader=yaml.FullLoader)\n",
    "creds=creds['Yoav-DSC291']\n",
    "\n",
    "creds.keys()"
   ]
  },
  {
   "cell_type": "code",
   "execution_count": 13,
   "metadata": {},
   "outputs": [],
   "source": [
    "import boto3\n",
    "\n",
    "s3 = boto3.resource(\n",
    "    's3',\n",
    "    aws_access_key_id=creds['access_key_id'],\n",
    "    aws_secret_access_key=creds['secret_access_key'],\n",
    ")"
   ]
  },
  {
   "cell_type": "markdown",
   "metadata": {},
   "source": [
    "## List all buckets"
   ]
  },
  {
   "cell_type": "code",
   "execution_count": 14,
   "metadata": {},
   "outputs": [
    {
     "name": "stdout",
     "output_type": "stream",
     "text": [
      "s3.Bucket(name='aws-logs-891063097137-us-west-2')\n",
      "s3.Bucket(name='dsc291-blocks')\n",
      "s3.Bucket(name='yoavfreundtest')\n"
     ]
    }
   ],
   "source": [
    "for bucket in s3.buckets.all():\n",
    "    print(bucket)"
   ]
  },
  {
   "cell_type": "markdown",
   "metadata": {},
   "source": [
    "## List all files in a bucket"
   ]
  },
  {
   "cell_type": "code",
   "execution_count": 15,
   "metadata": {},
   "outputs": [
    {
     "name": "stdout",
     "output_type": "stream",
     "text": [
      "s3.ObjectSummary(bucket_name='yoavfreundtest', key='measurement_logs/BlockData10')\n",
      "s3.ObjectSummary(bucket_name='yoavfreundtest', key='measurement_logs/BlockData1000')\n",
      "s3.ObjectSummary(bucket_name='yoavfreundtest', key='measurement_logs/BlockData1000000')\n",
      "s3.ObjectSummary(bucket_name='yoavfreundtest', key='measurement_logs/stats.pkl')\n",
      "s3.ObjectSummary(bucket_name='yoavfreundtest', key='scratch/measurement_logs/BlockData1000')\n",
      "s3.ObjectSummary(bucket_name='yoavfreundtest', key='scratch/measurement_logs/BlockData1000000')\n",
      "s3.ObjectSummary(bucket_name='yoavfreundtest', key='scratch/measurement_logs/BlockData1000000000')\n",
      "s3.ObjectSummary(bucket_name='yoavfreundtest', key='test_block')\n"
     ]
    },
    {
     "data": {
      "text/plain": [
       "['scratch/measurement_logs/BlockData1000',\n",
       " 'scratch/measurement_logs/BlockData1000000',\n",
       " 'scratch/measurement_logs/BlockData1000000000']"
      ]
     },
     "execution_count": 15,
     "metadata": {},
     "output_type": "execute_result"
    }
   ],
   "source": [
    "bucket_name = \"yoavfreundtest\"\n",
    "bucket = s3.Bucket(bucket_name)\n",
    "keys=[]\n",
    "for file_object in bucket.objects.limit(20):\n",
    "    print(file_object)\n",
    "    key=file_object.key\n",
    "    if 'scratch' in key:\n",
    "        keys.append(key)\n",
    "keys"
   ]
  },
  {
   "cell_type": "code",
   "execution_count": 16,
   "metadata": {},
   "outputs": [
    {
     "data": {
      "text/plain": [
       "[('scratch/measurement_logs/BlockData1000', 2000),\n",
       " ('scratch/measurement_logs/BlockData1000000', 1000006),\n",
       " ('scratch/measurement_logs/BlockData1000000000', 1000000000)]"
      ]
     },
     "execution_count": 16,
     "metadata": {},
     "output_type": "execute_result"
    }
   ],
   "source": [
    "pairs=[('scratch/measurement_logs/BlockData1000', 2000),\n",
    " ('scratch/measurement_logs/BlockData1000000', 1000006),\n",
    " ('scratch/measurement_logs/BlockData1000000000', 1000000000)]\n",
    "pairs"
   ]
  },
  {
   "cell_type": "markdown",
   "metadata": {},
   "source": [
    "## Read an object to memory"
   ]
  },
  {
   "cell_type": "code",
   "execution_count": 23,
   "metadata": {
    "scrolled": true
   },
   "outputs": [
    {
     "name": "stdout",
     "output_type": "stream",
     "text": [
      "scratch/measurement_logs/BlockData1000, len=2000,time=1.14, time per byte=0.000569\n",
      "scratch/measurement_logs/BlockData1000000, len=1000006,time=1.5, time per byte=1.5e-06\n"
     ]
    },
    {
     "data": {
      "text/plain": [
       "[('scratch/measurement_logs/BlockData1000', 2000),\n",
       " ('scratch/measurement_logs/BlockData1000000', 1000006),\n",
       " ('scratch/measurement_logs/BlockData1000000000', 1000000000)]"
      ]
     },
     "execution_count": 23,
     "metadata": {},
     "output_type": "execute_result"
    }
   ],
   "source": [
    "#%%timeit\n",
    "for key,length in pairs[:2]:\n",
    "    t0=time()\n",
    "    obj = s3.Object(bucket_name, key)\n",
    "    obj_in_mem = obj.get()['Body'].read().decode('utf-8')\n",
    "    t1=time()\n",
    "    length=len(obj_in_mem)\n",
    "    print('%s, len=%d,time=%.3g, time per byte=%.3g'%(key,length,t1-t0,(t1-t0)/length))"
   ]
  },
  {
   "cell_type": "code",
   "execution_count": 14,
   "metadata": {},
   "outputs": [
    {
     "data": {
      "text/plain": [
       "4000014"
      ]
     },
     "execution_count": 14,
     "metadata": {},
     "output_type": "execute_result"
    }
   ],
   "source": []
  },
  {
   "cell_type": "markdown",
   "metadata": {},
   "source": [
    "## Download an object to a local file on disk"
   ]
  },
  {
   "cell_type": "code",
   "execution_count": 18,
   "metadata": {},
   "outputs": [],
   "source": [
    "import os"
   ]
  },
  {
   "cell_type": "code",
   "execution_count": 24,
   "metadata": {},
   "outputs": [
    {
     "name": "stdout",
     "output_type": "stream",
     "text": [
      "scratch/measurement_logs/BlockData1000, len=2000,time=0.324, time per byte=0.000162\n",
      "scratch/measurement_logs/BlockData1000000, len=1000006,time=0.441, time per byte=4.41e-07\n"
     ]
    }
   ],
   "source": [
    "#%%timeit\n",
    "for key,length in pairs[:2]:\n",
    "    t0=time()\n",
    "    obj = s3.Object(bucket_name, key)\n",
    "    obj.download_file(os.path.expanduser(\"~/block\"))\n",
    "    t1=time()\n",
    "    print('%s, len=%d,time=%.3g, time per byte=%.3g'%(key,length,t1-t0,(t1-t0)/length))"
   ]
  },
  {
   "cell_type": "code",
   "execution_count": 25,
   "metadata": {},
   "outputs": [
    {
     "name": "stdout",
     "output_type": "stream",
     "text": [
      "-rw-r--r--  1 yoavfreund  staff   977K Apr  7 12:19 /Users/yoavfreund/block\r\n"
     ]
    }
   ],
   "source": [
    "!ls -lh ~/block"
   ]
  },
  {
   "cell_type": "markdown",
   "metadata": {},
   "source": [
    "## Upload file from local disk to bucket"
   ]
  },
  {
   "cell_type": "code",
   "execution_count": 31,
   "metadata": {},
   "outputs": [
    {
     "name": "stdout",
     "output_type": "stream",
     "text": [
      "mkdir: /tmp/measurement_logs/: File exists\r\n"
     ]
    }
   ],
   "source": [
    "!mkdir /tmp/measurement_logs/\n",
    "!ln -s /tmp scratch"
   ]
  },
  {
   "cell_type": "code",
   "execution_count": 32,
   "metadata": {},
   "outputs": [
    {
     "data": {
      "text/plain": [
       "[]"
      ]
     },
     "execution_count": 32,
     "metadata": {},
     "output_type": "execute_result"
    }
   ],
   "source": [
    "filenames=!ls -l scratch/measurement_logs/\n",
    "filenames"
   ]
  },
  {
   "cell_type": "code",
   "execution_count": 31,
   "metadata": {},
   "outputs": [
    {
     "name": "stdout",
     "output_type": "stream",
     "text": [
      "scratch/measurement_logs/BlockData1000000000\n",
      "scratch/measurement_logs/BlockData1000000000 total time=10.217659\n",
      "scratch/measurement_logs/BlockData1000000\n",
      "scratch/measurement_logs/BlockData1000000 total time=0.093103\n",
      "scratch/measurement_logs/BlockData1000\n",
      "scratch/measurement_logs/BlockData1000 total time=0.028431\n",
      "scratch/measurement_logs/BlockData1000000000\n",
      "scratch/measurement_logs/BlockData1000000000 total time=14.292300\n",
      "scratch/measurement_logs/BlockData1000000\n",
      "scratch/measurement_logs/BlockData1000000 total time=0.098198\n",
      "scratch/measurement_logs/BlockData1000\n",
      "scratch/measurement_logs/BlockData1000 total time=0.087480\n",
      "scratch/measurement_logs/BlockData1000000000\n",
      "scratch/measurement_logs/BlockData1000000000 total time=6.865798\n",
      "scratch/measurement_logs/BlockData1000000\n",
      "scratch/measurement_logs/BlockData1000000 total time=0.043784\n",
      "scratch/measurement_logs/BlockData1000\n",
      "scratch/measurement_logs/BlockData1000 total time=0.029240\n",
      "scratch/measurement_logs/BlockData1000000000\n",
      "scratch/measurement_logs/BlockData1000000000 total time=17.620628\n",
      "scratch/measurement_logs/BlockData1000000\n",
      "scratch/measurement_logs/BlockData1000000 total time=0.099948\n",
      "scratch/measurement_logs/BlockData1000\n",
      "scratch/measurement_logs/BlockData1000 total time=0.026320\n",
      "scratch/measurement_logs/BlockData1000000000\n",
      "scratch/measurement_logs/BlockData1000000000 total time=17.584471\n",
      "scratch/measurement_logs/BlockData1000000\n",
      "scratch/measurement_logs/BlockData1000000 total time=0.071437\n",
      "scratch/measurement_logs/BlockData1000\n",
      "scratch/measurement_logs/BlockData1000 total time=0.029780\n",
      "scratch/measurement_logs/BlockData1000000000\n",
      "scratch/measurement_logs/BlockData1000000000 total time=6.154176\n",
      "scratch/measurement_logs/BlockData1000000\n",
      "scratch/measurement_logs/BlockData1000000 total time=0.090310\n",
      "scratch/measurement_logs/BlockData1000\n",
      "scratch/measurement_logs/BlockData1000 total time=0.025039\n",
      "scratch/measurement_logs/BlockData1000000000\n",
      "scratch/measurement_logs/BlockData1000000000 total time=12.083468\n",
      "scratch/measurement_logs/BlockData1000000\n",
      "scratch/measurement_logs/BlockData1000000 total time=0.099896\n",
      "scratch/measurement_logs/BlockData1000\n",
      "scratch/measurement_logs/BlockData1000 total time=0.024460\n",
      "scratch/measurement_logs/BlockData1000000000\n",
      "scratch/measurement_logs/BlockData1000000000 total time=6.231215\n",
      "scratch/measurement_logs/BlockData1000000\n",
      "scratch/measurement_logs/BlockData1000000 total time=0.131331\n",
      "scratch/measurement_logs/BlockData1000\n",
      "scratch/measurement_logs/BlockData1000 total time=0.064174\n",
      "11.7 s ± 4.79 s per loop (mean ± std. dev. of 7 runs, 1 loop each)\n"
     ]
    }
   ],
   "source": [
    "#%%timeit\n",
    "from glob import glob\n",
    "from time import time\n",
    "\n",
    "s3 = boto3.client('s3',\n",
    "    aws_access_key_id=creds['access_key_id'],\n",
    "    aws_secret_access_key=creds['secret_access_key'])\n",
    "\n",
    "for file in glob('scratch/measurement_logs/*'):\n",
    "    print(file)\n",
    "    t0=time()\n",
    "    with open(file, \"rb\") as f:\n",
    "        s3.upload_fileobj(f, bucket_name, file)\n",
    "    t1=time()\n",
    "    print('%s total time=%f'%(file,t1-t0))"
   ]
  },
  {
   "cell_type": "code",
   "execution_count": 18,
   "metadata": {},
   "outputs": [
    {
     "ename": "FileNotFoundError",
     "evalue": "[Errno 2] No such file or directory: '/Users/yoavfreund/block'",
     "output_type": "error",
     "traceback": [
      "\u001b[0;31m---------------------------------------------------------------------------\u001b[0m",
      "\u001b[0;31mFileNotFoundError\u001b[0m                         Traceback (most recent call last)",
      "\u001b[0;32m<ipython-input-18-0f6339e3fe46>\u001b[0m in \u001b[0;36m<module>\u001b[0;34m\u001b[0m\n\u001b[0;32m----> 1\u001b[0;31m \u001b[0mget_ipython\u001b[0m\u001b[0;34m(\u001b[0m\u001b[0;34m)\u001b[0m\u001b[0;34m.\u001b[0m\u001b[0mrun_cell_magic\u001b[0m\u001b[0;34m(\u001b[0m\u001b[0;34m'timeit'\u001b[0m\u001b[0;34m,\u001b[0m \u001b[0;34m''\u001b[0m\u001b[0;34m,\u001b[0m \u001b[0;34m's3 = boto3.client(\\'s3\\',\\n    aws_access_key_id=creds[\\'access_key_id\\'],\\n    aws_secret_access_key=creds[\\'secret_access_key\\'])\\n\\nwith open(\"/Users/yoavfreund/block\", \"rb\") as f:\\n    s3.upload_fileobj(f, bucket_name, \"test_block\")\\n'\u001b[0m\u001b[0;34m)\u001b[0m\u001b[0;34m\u001b[0m\u001b[0;34m\u001b[0m\u001b[0m\n\u001b[0m",
      "\u001b[0;32m/usr/local/lib/python3.6/dist-packages/IPython/core/interactiveshell.py\u001b[0m in \u001b[0;36mrun_cell_magic\u001b[0;34m(self, magic_name, line, cell)\u001b[0m\n\u001b[1;32m   2360\u001b[0m             \u001b[0;32mwith\u001b[0m \u001b[0mself\u001b[0m\u001b[0;34m.\u001b[0m\u001b[0mbuiltin_trap\u001b[0m\u001b[0;34m:\u001b[0m\u001b[0;34m\u001b[0m\u001b[0;34m\u001b[0m\u001b[0m\n\u001b[1;32m   2361\u001b[0m                 \u001b[0margs\u001b[0m \u001b[0;34m=\u001b[0m \u001b[0;34m(\u001b[0m\u001b[0mmagic_arg_s\u001b[0m\u001b[0;34m,\u001b[0m \u001b[0mcell\u001b[0m\u001b[0;34m)\u001b[0m\u001b[0;34m\u001b[0m\u001b[0;34m\u001b[0m\u001b[0m\n\u001b[0;32m-> 2362\u001b[0;31m                 \u001b[0mresult\u001b[0m \u001b[0;34m=\u001b[0m \u001b[0mfn\u001b[0m\u001b[0;34m(\u001b[0m\u001b[0;34m*\u001b[0m\u001b[0margs\u001b[0m\u001b[0;34m,\u001b[0m \u001b[0;34m**\u001b[0m\u001b[0mkwargs\u001b[0m\u001b[0;34m)\u001b[0m\u001b[0;34m\u001b[0m\u001b[0;34m\u001b[0m\u001b[0m\n\u001b[0m\u001b[1;32m   2363\u001b[0m             \u001b[0;32mreturn\u001b[0m \u001b[0mresult\u001b[0m\u001b[0;34m\u001b[0m\u001b[0;34m\u001b[0m\u001b[0m\n\u001b[1;32m   2364\u001b[0m \u001b[0;34m\u001b[0m\u001b[0m\n",
      "\u001b[0;32m<decorator-gen-60>\u001b[0m in \u001b[0;36mtimeit\u001b[0;34m(self, line, cell, local_ns)\u001b[0m\n",
      "\u001b[0;32m/usr/local/lib/python3.6/dist-packages/IPython/core/magic.py\u001b[0m in \u001b[0;36m<lambda>\u001b[0;34m(f, *a, **k)\u001b[0m\n\u001b[1;32m    185\u001b[0m     \u001b[0;31m# but it's overkill for just that one bit of state.\u001b[0m\u001b[0;34m\u001b[0m\u001b[0;34m\u001b[0m\u001b[0;34m\u001b[0m\u001b[0m\n\u001b[1;32m    186\u001b[0m     \u001b[0;32mdef\u001b[0m \u001b[0mmagic_deco\u001b[0m\u001b[0;34m(\u001b[0m\u001b[0marg\u001b[0m\u001b[0;34m)\u001b[0m\u001b[0;34m:\u001b[0m\u001b[0;34m\u001b[0m\u001b[0;34m\u001b[0m\u001b[0m\n\u001b[0;32m--> 187\u001b[0;31m         \u001b[0mcall\u001b[0m \u001b[0;34m=\u001b[0m \u001b[0;32mlambda\u001b[0m \u001b[0mf\u001b[0m\u001b[0;34m,\u001b[0m \u001b[0;34m*\u001b[0m\u001b[0ma\u001b[0m\u001b[0;34m,\u001b[0m \u001b[0;34m**\u001b[0m\u001b[0mk\u001b[0m\u001b[0;34m:\u001b[0m \u001b[0mf\u001b[0m\u001b[0;34m(\u001b[0m\u001b[0;34m*\u001b[0m\u001b[0ma\u001b[0m\u001b[0;34m,\u001b[0m \u001b[0;34m**\u001b[0m\u001b[0mk\u001b[0m\u001b[0;34m)\u001b[0m\u001b[0;34m\u001b[0m\u001b[0;34m\u001b[0m\u001b[0m\n\u001b[0m\u001b[1;32m    188\u001b[0m \u001b[0;34m\u001b[0m\u001b[0m\n\u001b[1;32m    189\u001b[0m         \u001b[0;32mif\u001b[0m \u001b[0mcallable\u001b[0m\u001b[0;34m(\u001b[0m\u001b[0marg\u001b[0m\u001b[0;34m)\u001b[0m\u001b[0;34m:\u001b[0m\u001b[0;34m\u001b[0m\u001b[0;34m\u001b[0m\u001b[0m\n",
      "\u001b[0;32m/usr/local/lib/python3.6/dist-packages/IPython/core/magics/execution.py\u001b[0m in \u001b[0;36mtimeit\u001b[0;34m(self, line, cell, local_ns)\u001b[0m\n\u001b[1;32m   1158\u001b[0m             \u001b[0;32mfor\u001b[0m \u001b[0mindex\u001b[0m \u001b[0;32min\u001b[0m \u001b[0mrange\u001b[0m\u001b[0;34m(\u001b[0m\u001b[0;36m0\u001b[0m\u001b[0;34m,\u001b[0m \u001b[0;36m10\u001b[0m\u001b[0;34m)\u001b[0m\u001b[0;34m:\u001b[0m\u001b[0;34m\u001b[0m\u001b[0;34m\u001b[0m\u001b[0m\n\u001b[1;32m   1159\u001b[0m                 \u001b[0mnumber\u001b[0m \u001b[0;34m=\u001b[0m \u001b[0;36m10\u001b[0m \u001b[0;34m**\u001b[0m \u001b[0mindex\u001b[0m\u001b[0;34m\u001b[0m\u001b[0;34m\u001b[0m\u001b[0m\n\u001b[0;32m-> 1160\u001b[0;31m                 \u001b[0mtime_number\u001b[0m \u001b[0;34m=\u001b[0m \u001b[0mtimer\u001b[0m\u001b[0;34m.\u001b[0m\u001b[0mtimeit\u001b[0m\u001b[0;34m(\u001b[0m\u001b[0mnumber\u001b[0m\u001b[0;34m)\u001b[0m\u001b[0;34m\u001b[0m\u001b[0;34m\u001b[0m\u001b[0m\n\u001b[0m\u001b[1;32m   1161\u001b[0m                 \u001b[0;32mif\u001b[0m \u001b[0mtime_number\u001b[0m \u001b[0;34m>=\u001b[0m \u001b[0;36m0.2\u001b[0m\u001b[0;34m:\u001b[0m\u001b[0;34m\u001b[0m\u001b[0;34m\u001b[0m\u001b[0m\n\u001b[1;32m   1162\u001b[0m                     \u001b[0;32mbreak\u001b[0m\u001b[0;34m\u001b[0m\u001b[0;34m\u001b[0m\u001b[0m\n",
      "\u001b[0;32m/usr/local/lib/python3.6/dist-packages/IPython/core/magics/execution.py\u001b[0m in \u001b[0;36mtimeit\u001b[0;34m(self, number)\u001b[0m\n\u001b[1;32m    167\u001b[0m         \u001b[0mgc\u001b[0m\u001b[0;34m.\u001b[0m\u001b[0mdisable\u001b[0m\u001b[0;34m(\u001b[0m\u001b[0;34m)\u001b[0m\u001b[0;34m\u001b[0m\u001b[0;34m\u001b[0m\u001b[0m\n\u001b[1;32m    168\u001b[0m         \u001b[0;32mtry\u001b[0m\u001b[0;34m:\u001b[0m\u001b[0;34m\u001b[0m\u001b[0;34m\u001b[0m\u001b[0m\n\u001b[0;32m--> 169\u001b[0;31m             \u001b[0mtiming\u001b[0m \u001b[0;34m=\u001b[0m \u001b[0mself\u001b[0m\u001b[0;34m.\u001b[0m\u001b[0minner\u001b[0m\u001b[0;34m(\u001b[0m\u001b[0mit\u001b[0m\u001b[0;34m,\u001b[0m \u001b[0mself\u001b[0m\u001b[0;34m.\u001b[0m\u001b[0mtimer\u001b[0m\u001b[0;34m)\u001b[0m\u001b[0;34m\u001b[0m\u001b[0;34m\u001b[0m\u001b[0m\n\u001b[0m\u001b[1;32m    170\u001b[0m         \u001b[0;32mfinally\u001b[0m\u001b[0;34m:\u001b[0m\u001b[0;34m\u001b[0m\u001b[0;34m\u001b[0m\u001b[0m\n\u001b[1;32m    171\u001b[0m             \u001b[0;32mif\u001b[0m \u001b[0mgcold\u001b[0m\u001b[0;34m:\u001b[0m\u001b[0;34m\u001b[0m\u001b[0;34m\u001b[0m\u001b[0m\n",
      "\u001b[0;32m<magic-timeit>\u001b[0m in \u001b[0;36minner\u001b[0;34m(_it, _timer)\u001b[0m\n",
      "\u001b[0;31mFileNotFoundError\u001b[0m: [Errno 2] No such file or directory: '/Users/yoavfreund/block'"
     ]
    }
   ],
   "source": [
    "3.8 / 9.42"
   ]
  },
  {
   "cell_type": "code",
   "execution_count": null,
   "metadata": {},
   "outputs": [],
   "source": []
  }
 ],
 "metadata": {
  "kernelspec": {
   "display_name": "Python 3",
   "language": "python",
   "name": "python3"
  },
  "language_info": {
   "codemirror_mode": {
    "name": "ipython",
    "version": 3
   },
   "file_extension": ".py",
   "mimetype": "text/x-python",
   "name": "python",
   "nbconvert_exporter": "python",
   "pygments_lexer": "ipython3",
   "version": "3.7.6"
  },
  "toc": {
   "base_numbering": 1,
   "nav_menu": {},
   "number_sections": true,
   "sideBar": true,
   "skip_h1_title": false,
   "title_cell": "Table of Contents",
   "title_sidebar": "Contents",
   "toc_cell": false,
   "toc_position": {},
   "toc_section_display": true,
   "toc_window_display": false
  }
 },
 "nbformat": 4,
 "nbformat_minor": 4
}
