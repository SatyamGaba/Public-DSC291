{
 "cells": [
  {
   "cell_type": "markdown",
   "metadata": {},
   "source": [
    "# Documentation\n",
    "\n",
    "* [API Document](https://boto3.amazonaws.com/v1/documentation/api/latest/reference/services/s3.html)\n",
    "* [Examples](https://boto3.amazonaws.com/v1/documentation/api/latest/guide/s3-examples.html)"
   ]
  },
  {
   "cell_type": "code",
   "execution_count": 54,
   "metadata": {},
   "outputs": [
    {
     "data": {
      "text/plain": [
       "dict_keys(['access_key_id', 'secret_access_key', 'email_address', 'key_name', 'ssh_key'])"
      ]
     },
     "execution_count": 54,
     "metadata": {},
     "output_type": "execute_result"
    }
   ],
   "source": [
    "# read credentials from yaml file\n",
    "import yaml\n",
    "yaml_file='creds.yaml'\n",
    "with open(yaml_file,'rb') as yml:\n",
    "    creds=yaml.load(yml, Loader=yaml.FullLoader)\n",
    "creds=creds['Yoav-DSC291']\n",
    "\n",
    "creds.keys()"
   ]
  },
  {
   "cell_type": "code",
   "execution_count": 55,
   "metadata": {},
   "outputs": [],
   "source": [
    "import boto3\n",
    "\n",
    "s3 = boto3.resource(\n",
    "    's3',\n",
    "    aws_access_key_id=creds['access_key_id'],\n",
    "    aws_secret_access_key=creds['secret_access_key'],\n",
    ")"
   ]
  },
  {
   "cell_type": "markdown",
   "metadata": {},
   "source": [
    "## List all buckets"
   ]
  },
  {
   "cell_type": "code",
   "execution_count": 56,
   "metadata": {},
   "outputs": [
    {
     "name": "stdout",
     "output_type": "stream",
     "text": [
      "s3.Bucket(name='aws-logs-891063097137-us-west-2')\n",
      "s3.Bucket(name='dsc291-blocks')\n",
      "s3.Bucket(name='yoavfreundtest')\n"
     ]
    }
   ],
   "source": [
    "for bucket in s3.buckets.all():\n",
    "    print(bucket)"
   ]
  },
  {
   "cell_type": "markdown",
   "metadata": {},
   "source": [
    "## List all files in a bucket"
   ]
  },
  {
   "cell_type": "code",
   "execution_count": 57,
   "metadata": {},
   "outputs": [
    {
     "name": "stdout",
     "output_type": "stream",
     "text": [
      "s3.ObjectSummary(bucket_name='yoavfreundtest', key='measurement_logs/BlockData10')\n",
      "s3.ObjectSummary(bucket_name='yoavfreundtest', key='measurement_logs/BlockData1000')\n",
      "s3.ObjectSummary(bucket_name='yoavfreundtest', key='measurement_logs/BlockData1000000')\n",
      "s3.ObjectSummary(bucket_name='yoavfreundtest', key='measurement_logs/stats.pkl')\n",
      "s3.ObjectSummary(bucket_name='yoavfreundtest', key='test_block')\n"
     ]
    }
   ],
   "source": [
    "bucket_name = \"yoavfreundtest\"\n",
    "bucket = s3.Bucket(bucket_name)\n",
    "for file_object in bucket.objects.limit(5):\n",
    "    print(file_object)"
   ]
  },
  {
   "cell_type": "markdown",
   "metadata": {},
   "source": [
    "## Read an object to memory"
   ]
  },
  {
   "cell_type": "code",
   "execution_count": 58,
   "metadata": {
    "scrolled": true
   },
   "outputs": [
    {
     "name": "stdout",
     "output_type": "stream",
     "text": [
      "553 ms ± 58.9 ms per loop (mean ± std. dev. of 7 runs, 1 loop each)\n"
     ]
    }
   ],
   "source": [
    "%%timeit\n",
    "key = 'measurement_logs/BlockData1000000'\n",
    "obj = s3.Object(bucket_name, key)\n",
    "obj_in_mem = obj.get()['Body'].read().decode('utf-8')"
   ]
  },
  {
   "cell_type": "code",
   "execution_count": 47,
   "metadata": {},
   "outputs": [
    {
     "data": {
      "text/plain": [
       "4000014"
      ]
     },
     "execution_count": 47,
     "metadata": {},
     "output_type": "execute_result"
    }
   ],
   "source": [
    "len(obj_in_mem)"
   ]
  },
  {
   "cell_type": "markdown",
   "metadata": {},
   "source": [
    "## Download an object to a local file on disk"
   ]
  },
  {
   "cell_type": "code",
   "execution_count": null,
   "metadata": {},
   "outputs": [],
   "source": [
    "import os"
   ]
  },
  {
   "cell_type": "code",
   "execution_count": 59,
   "metadata": {},
   "outputs": [
    {
     "name": "stdout",
     "output_type": "stream",
     "text": [
      "574 ms ± 13.8 ms per loop (mean ± std. dev. of 7 runs, 1 loop each)\n"
     ]
    }
   ],
   "source": [
    "%%timeit\n",
    "obj = s3.Object(bucket_name, key)\n",
    "obj.download_file(os.path.expanduser(\"~/block\"))"
   ]
  },
  {
   "cell_type": "code",
   "execution_count": 49,
   "metadata": {},
   "outputs": [
    {
     "name": "stdout",
     "output_type": "stream",
     "text": [
      "-rw-r--r--  1 yoavfreund  staff   3.8M Apr  2 21:54 /Users/yoavfreund/block\r\n"
     ]
    }
   ],
   "source": [
    "!ls -lh ~/block"
   ]
  },
  {
   "cell_type": "markdown",
   "metadata": {},
   "source": [
    "## Upload file from local disk to bucket"
   ]
  },
  {
   "cell_type": "code",
   "execution_count": 52,
   "metadata": {},
   "outputs": [
    {
     "name": "stdout",
     "output_type": "stream",
     "text": [
      "9.3 s ± 332 ms per loop (mean ± std. dev. of 7 runs, 1 loop each)\n"
     ]
    }
   ],
   "source": [
    "%%timeit\n",
    "s3 = boto3.client('s3',\n",
    "    aws_access_key_id=creds['access_key_id'],\n",
    "    aws_secret_access_key=creds['secret_access_key'])\n",
    "\n",
    "with open(\"/Users/yoavfreund/block\", \"rb\") as f:\n",
    "    s3.upload_fileobj(f, bucket_name, \"test_block\")"
   ]
  },
  {
   "cell_type": "code",
   "execution_count": 51,
   "metadata": {},
   "outputs": [
    {
     "data": {
      "text/plain": [
       "0.44392523364485975"
      ]
     },
     "execution_count": 51,
     "metadata": {},
     "output_type": "execute_result"
    }
   ],
   "source": [
    "3.8 / 9.42"
   ]
  },
  {
   "cell_type": "code",
   "execution_count": null,
   "metadata": {},
   "outputs": [],
   "source": []
  }
 ],
 "metadata": {
  "kernelspec": {
   "display_name": "Python 3",
   "language": "python",
   "name": "python3"
  },
  "language_info": {
   "codemirror_mode": {
    "name": "ipython",
    "version": 3
   },
   "file_extension": ".py",
   "mimetype": "text/x-python",
   "name": "python",
   "nbconvert_exporter": "python",
   "pygments_lexer": "ipython3",
   "version": "3.7.6"
  },
  "toc": {
   "base_numbering": 1,
   "nav_menu": {},
   "number_sections": true,
   "sideBar": true,
   "skip_h1_title": false,
   "title_cell": "Table of Contents",
   "title_sidebar": "Contents",
   "toc_cell": false,
   "toc_position": {},
   "toc_section_display": true,
   "toc_window_display": false
  }
 },
 "nbformat": 4,
 "nbformat_minor": 4
}
