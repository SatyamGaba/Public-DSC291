{
 "cells": [
  {
   "cell_type": "code",
   "execution_count": 1,
   "metadata": {},
   "outputs": [],
   "source": [
    "import sys\n",
    "sys.path.append('/home/fyjj/Public-DSC291/Public-DSC291/notebooks/Section2-PCA/PCA/lib/')\n",
    "\n",
    "import numpy as np\n",
    "from time import time\n",
    "from lib.numpy_pack import packArray,unpackArray\n",
    "from lib.spark_PCA import computeCov\n",
    "from lib.computeStatistics import *\n",
    "from lib.YearPlotter import YearPlotter\n",
    "import pandas as pd\n",
    "\n",
    "import findspark\n",
    "findspark.init()\n",
    "import os\n",
    "import pyspark\n",
    "os.environ['PYSPARK_SUBMIT_ARGS'] = '--packages com.amazonaws:aws-java-sdk-pom:1.10.34,org.apache.hadoop:hadoop-aws:2.7.2 pyspark-shell'\n",
    "from pyspark import SparkContext\n",
    "from pyspark.sql import SQLContext\n",
    "from pyspark import SparkConf\n",
    "from pyspark.sql import SparkSession"
   ]
  },
  {
   "cell_type": "code",
   "execution_count": 2,
   "metadata": {},
   "outputs": [
    {
     "name": "stdout",
     "output_type": "stream",
     "text": [
      "                           PRE GHCND.parquet/\r\n",
      "                           PRE GHCND_WT08_1960_2020_US.parquet/\r\n",
      "                           PRE GHCNDall.parquet/\r\n",
      "                           PRE ghcnblog/\r\n",
      "                           PRE stations_raw/\r\n",
      "2020-05-16 05:26:43          0 GHCND.parquet_$folder$\r\n",
      "2020-05-17 22:44:28          0 GHCND_WT08_1960_2020_US.parquet_$folder$\r\n",
      "2020-05-16 07:03:22          0 GHCNDall.parquet_$folder$\r\n"
     ]
    }
   ],
   "source": [
    "!aws s3 ls s3://philipp-ghcnd"
   ]
  },
  {
   "cell_type": "code",
   "execution_count": 6,
   "metadata": {},
   "outputs": [],
   "source": [
    "# SparkConf().set(\"spark.jars.packages\",\"org.apache.hadoop:hadoop-aws:3.0.0-alpha3\")\n",
    "sc = SparkContext(master=\"local[4]\")\n",
    "sqlContext = SQLContext(sc)\n",
    "df = sqlContext.read.parquet(\"/home/fyjj/weather_data\")"
   ]
  },
  {
   "cell_type": "code",
   "execution_count": 9,
   "metadata": {},
   "outputs": [
    {
     "name": "stdout",
     "output_type": "stream",
     "text": [
      "number of rows 32295\n",
      "+-----------+----+--------------------+\n",
      "|    Station|year|              Values|\n",
      "+-----------+----+--------------------+\n",
      "|USW00014735|1968|[0, 0, 1, 1, 0, 0...|\n",
      "|USW00014735|1969|[0, 0, 0, 0, 0, 1...|\n",
      "|USW00014735|1970|[0, 0, 0, 1, 1, 1...|\n",
      "|USW00014735|1971|[0, 0, 0, 1, 0, 0...|\n",
      "|USW00014735|1972|[0, 0, 0, 1, 0, 0...|\n",
      "+-----------+----+--------------------+\n",
      "only showing top 5 rows\n",
      "\n"
     ]
    }
   ],
   "source": [
    "print('number of rows',df.cache().count())\n",
    "df.show(5)"
   ]
  },
  {
   "cell_type": "code",
   "execution_count": 35,
   "metadata": {},
   "outputs": [
    {
     "name": "stdout",
     "output_type": "stream",
     "text": [
      "+-------+-----------+------------------+--------------------+\n",
      "|summary|    Station|              year|              Values|\n",
      "+-------+-----------+------------------+--------------------+\n",
      "|  count|      32295|             32295|               32295|\n",
      "|   mean|       null|1993.4481498684006|                null|\n",
      "| stddev|       null|19.562831340768035|                null|\n",
      "|    min|USC00012971|              1960|[0, 0, 0, 0, 0, 0...|\n",
      "|    max|USW00094994|              2020|[1, 1, 1, 1, 1, 1...|\n",
      "+-------+-----------+------------------+--------------------+\n",
      "\n"
     ]
    }
   ],
   "source": [
    "df.describe().show()"
   ]
  },
  {
   "cell_type": "code",
   "execution_count": 63,
   "metadata": {},
   "outputs": [],
   "source": [
    "uni_station = df.groupBy('Station').agg({'Station':'count','year':'min'}).toPandas()"
   ]
  },
  {
   "cell_type": "code",
   "execution_count": 64,
   "metadata": {},
   "outputs": [
    {
     "data": {
      "text/html": [
       "<div>\n",
       "<style scoped>\n",
       "    .dataframe tbody tr th:only-of-type {\n",
       "        vertical-align: middle;\n",
       "    }\n",
       "\n",
       "    .dataframe tbody tr th {\n",
       "        vertical-align: top;\n",
       "    }\n",
       "\n",
       "    .dataframe thead th {\n",
       "        text-align: right;\n",
       "    }\n",
       "</style>\n",
       "<table border=\"1\" class=\"dataframe\">\n",
       "  <thead>\n",
       "    <tr style=\"text-align: right;\">\n",
       "      <th></th>\n",
       "      <th>Station</th>\n",
       "      <th>count(Station)</th>\n",
       "      <th>min(year)</th>\n",
       "    </tr>\n",
       "  </thead>\n",
       "  <tbody>\n",
       "    <tr>\n",
       "      <th>0</th>\n",
       "      <td>USC00033466</td>\n",
       "      <td>1</td>\n",
       "      <td>1963</td>\n",
       "    </tr>\n",
       "    <tr>\n",
       "      <th>1</th>\n",
       "      <td>USC00108818</td>\n",
       "      <td>2</td>\n",
       "      <td>1962</td>\n",
       "    </tr>\n",
       "    <tr>\n",
       "      <th>2</th>\n",
       "      <td>USC00124527</td>\n",
       "      <td>1</td>\n",
       "      <td>1963</td>\n",
       "    </tr>\n",
       "    <tr>\n",
       "      <th>3</th>\n",
       "      <td>USC00172878</td>\n",
       "      <td>2</td>\n",
       "      <td>1962</td>\n",
       "    </tr>\n",
       "    <tr>\n",
       "      <th>4</th>\n",
       "      <td>USC00193624</td>\n",
       "      <td>1</td>\n",
       "      <td>1962</td>\n",
       "    </tr>\n",
       "  </tbody>\n",
       "</table>\n",
       "</div>"
      ],
      "text/plain": [
       "       Station  count(Station) min(year)\n",
       "0  USC00033466               1      1963\n",
       "1  USC00108818               2      1962\n",
       "2  USC00124527               1      1963\n",
       "3  USC00172878               2      1962\n",
       "4  USC00193624               1      1962"
      ]
     },
     "execution_count": 64,
     "metadata": {},
     "output_type": "execute_result"
    }
   ],
   "source": [
    "uni_station.head()"
   ]
  },
  {
   "cell_type": "code",
   "execution_count": 67,
   "metadata": {},
   "outputs": [
    {
     "data": {
      "text/plain": [
       "Station           USW00094994\n",
       "count(Station)             61\n",
       "min(year)                2020\n",
       "dtype: object"
      ]
     },
     "execution_count": 67,
     "metadata": {},
     "output_type": "execute_result"
    }
   ],
   "source": [
    "uni_station.max()"
   ]
  },
  {
   "cell_type": "code",
   "execution_count": 76,
   "metadata": {},
   "outputs": [
    {
     "data": {
      "text/plain": [
       "Station           540\n",
       "count(Station)    540\n",
       "min(year)         540\n",
       "dtype: int64"
      ]
     },
     "execution_count": 76,
     "metadata": {},
     "output_type": "execute_result"
    }
   ],
   "source": [
    "uni_station['min(year)']=uni_station['min(year)'].astype(int)\n",
    "uni_station[uni_station['count(Station)']+uni_station['min(year)']>2019].count()"
   ]
  },
  {
   "cell_type": "code",
   "execution_count": 78,
   "metadata": {},
   "outputs": [
    {
     "data": {
      "text/plain": [
       "(10, 15]    301\n",
       "(15, 20]     19\n",
       "(20, 25]     15\n",
       "(45, 50]      3\n",
       "(35, 40]      3\n",
       "(25, 30]      3\n",
       "(30, 35]      1\n",
       "(40, 45]      0\n",
       "(5, 10]       0\n",
       "Name: count(Station), dtype: int64"
      ]
     },
     "execution_count": 78,
     "metadata": {},
     "output_type": "execute_result"
    }
   ],
   "source": [
    "station_eff = uni_station[uni_station['count(Station)']+uni_station['min(year)']>2019]\n",
    "valid_years = station_eff['count(Station)']\n",
    "work_len_cut= [5,10,15,20,25,30,35,40,45,50]\n",
    "cats = pd.cut(valid_years,work_len_cut)\n",
    "pd.value_counts(cats)"
   ]
  },
  {
   "cell_type": "code",
   "execution_count": null,
   "metadata": {},
   "outputs": [],
   "source": []
  }
 ],
 "metadata": {
  "kernelspec": {
   "display_name": "Python 3",
   "language": "python",
   "name": "python3"
  },
  "language_info": {
   "codemirror_mode": {
    "name": "ipython",
    "version": 3
   },
   "file_extension": ".py",
   "mimetype": "text/x-python",
   "name": "python",
   "nbconvert_exporter": "python",
   "pygments_lexer": "ipython3",
   "version": "3.5.5"
  }
 },
 "nbformat": 4,
 "nbformat_minor": 2
}
