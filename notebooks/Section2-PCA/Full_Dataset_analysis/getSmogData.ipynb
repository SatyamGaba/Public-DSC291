{
 "cells": [
  {
   "cell_type": "code",
   "execution_count": 1,
   "metadata": {},
   "outputs": [
    {
     "name": "stdout",
     "output_type": "stream",
     "text": [
      "finished standard imports\n",
      "dict_items([('spark.executor.cores', '1'), ('spark.logConf', 'True'), ('spark.cores.max', '4'), ('spark.app.name', 'Weather_PCA'), ('spark.executor.memory', '3g'), ('spark.default.parallelism', '10')])\n",
      "started SparkContext and SQLContext in 13.04 seconds\n",
      "loaded weather.parquet in 7.59 seconds\n",
      "loaded stations.parquet in 0.22 seconds\n",
      "registered dataframes as tables in 0.19 seconds\n"
     ]
    }
   ],
   "source": [
    "from Startup import *"
   ]
  },
  {
   "cell_type": "code",
   "execution_count": 2,
   "metadata": {},
   "outputs": [
    {
     "name": "stdout",
     "output_type": "stream",
     "text": [
      "CPU times: user 4 ms, sys: 0 ns, total: 4 ms\n",
      "Wall time: 5.93 s\n"
     ]
    }
   ],
   "source": [
    "%%time\n",
    "allData = sqlContext.sql(\"SELECT * FROM parquet.`s3://philipp-ghcnd/GHCNDall.parquet`\")\n",
    "allData.createOrReplaceTempView(\"ghcnd\")"
   ]
  },
  {
   "cell_type": "code",
   "execution_count": 3,
   "metadata": {},
   "outputs": [
    {
     "name": "stdout",
     "output_type": "stream",
     "text": [
      "CPU times: user 0 ns, sys: 4 ms, total: 4 ms\n",
      "Wall time: 197 ms\n"
     ]
    }
   ],
   "source": [
    "%%time\n",
    "qry = \"\"\"\n",
    "SELECT CAST(SUBSTRING(year_date, 1, 4) AS INT) AS year, \n",
    "       COUNT(element) AS count\n",
    "FROM ghcnd\n",
    "WHERE element='WT08' \n",
    "      AND SUBSTRING(year_date, 5, 8)<>'0229' \n",
    "      AND SUBSTRING(id, 1, 2)='US' \n",
    "      AND CAST(SUBSTRING(year_date, 1, 4) AS INT)>1959\n",
    "GROUP BY SUBSTRING(year_date, 1, 4)\n",
    "ORDER BY SUBSTRING(year_date, 1, 4) ASC\"\"\"\n",
    "counts = sqlContext.sql(qry)"
   ]
  },
  {
   "cell_type": "code",
   "execution_count": 4,
   "metadata": {},
   "outputs": [
    {
     "name": "stdout",
     "output_type": "stream",
     "text": [
      "CPU times: user 212 ms, sys: 0 ns, total: 212 ms\n",
      "Wall time: 1min 40s\n"
     ]
    },
    {
     "data": {
      "image/png": "[encoded data removed]",
      "text/plain": [
       "<matplotlib.figure.Figure at 0x7fe8f59e30b8>"
      ]
     },
     "metadata": {},
     "output_type": "display_data"
    }
   ],
   "source": [
    "%%time\n",
    "allyears = counts.select('year').collect()\n",
    "allcounts = counts.select('count').collect()\n",
    "from matplotlib import pyplot as plt\n",
    "%matplotlib inline\n",
    "fig1 = plt.figure()\n",
    "ax1 = fig1.add_axes([0,0,1,1])\n",
    "ax1.plot(allyears, allcounts)\n",
    "ax1.set_title('GHCN-D WT08 measurement count in the US by year')\n",
    "ax1.set_ylabel('count')\n",
    "ax1.set_xlabel('year')"
   ]
  },
  {
   "cell_type": "code",
   "execution_count": 5,
   "metadata": {},
   "outputs": [
    {
     "name": "stdout",
     "output_type": "stream",
     "text": [
      "CPU times: user 0 ns, sys: 0 ns, total: 0 ns\n",
      "Wall time: 19.5 ms\n"
     ]
    }
   ],
   "source": [
    "%%time\n",
    "qry = \"\"\"\n",
    "SELECT *\n",
    "FROM ghcnd\n",
    "WHERE element='WT08'\n",
    "\"\"\"\n",
    "wt08alldata = sqlContext.sql(qry)\n",
    "wt08alldata.createOrReplaceTempView(\"ghcnd_WT08\")"
   ]
  },
  {
   "cell_type": "code",
   "execution_count": 6,
   "metadata": {},
   "outputs": [
    {
     "name": "stdout",
     "output_type": "stream",
     "text": [
      "CPU times: user 0 ns, sys: 0 ns, total: 0 ns\n",
      "Wall time: 82 ms\n"
     ]
    }
   ],
   "source": [
    "%%time\n",
    "qry = \"\"\"\n",
    "SELECT id AS Station,\n",
    "       CAST(SUBSTRING(year_date, 1, 4) AS SMALLINT) AS year,\n",
    "       DAYOFYEAR(TO_DATE(year_date,'yyyyMMdd')) AS day,\n",
    "       TO_DATE(year_date,'yyyyMMdd') AS date,\n",
    "       NOT ISNULL(TO_DATE(CONCAT(SUBSTRING(year_date, 1, 4), '0229'),'yyyyMMdd')) AS isleapyear,\n",
    "       CAST(data_value AS tinyint) AS Value\n",
    "FROM ghcnd_WT08\n",
    "WHERE SUBSTRING(id, 1, 2)='US' \n",
    "      AND CAST(SUBSTRING(year_date, 1, 4) AS SMALLINT)>1959\n",
    "      AND SUBSTRING(year_date, 5, 8)<>'0229'\n",
    "ORDER BY SUBSTRING(year_date, 1, 4) ASC\"\"\"\n",
    "wt08data = sqlContext.sql(qry)"
   ]
  },
  {
   "cell_type": "code",
   "execution_count": 7,
   "metadata": {},
   "outputs": [
    {
     "name": "stdout",
     "output_type": "stream",
     "text": [
      "CPU times: user 16.9 s, sys: 500 ms, total: 17.4 s\n",
      "Wall time: 1min 49s\n"
     ]
    }
   ],
   "source": [
    "%%time\n",
    "WT08_pdf = wt08data.toPandas()"
   ]
  },
  {
   "cell_type": "code",
   "execution_count": 8,
   "metadata": {},
   "outputs": [
    {
     "name": "stdout",
     "output_type": "stream",
     "text": [
      "CPU times: user 6.44 s, sys: 76 ms, total: 6.52 s\n",
      "Wall time: 6.51 s\n"
     ]
    }
   ],
   "source": [
    "%%time\n",
    "def fillVals(row):\n",
    "    days = np.array(row['days']) - 1\n",
    "    if row['isleapyear']:\n",
    "        days[days>59] -= 1\n",
    "    vals = np.zeros(365,dtype = int)\n",
    "    vals[days] = 1\n",
    "    return list(vals)\n",
    "\n",
    "statyrday = (WT08_pdf.groupby(['Station','year','isleapyear'])\n",
    "       .apply(lambda x: list(x.day))\n",
    "       .reset_index(name='days'))\n",
    "statyrday['Values'] = statyrday.apply(fillVals, axis=1)\n",
    "wt08 = statyrday.drop(['days','isleapyear'],1)\n",
    "wt08.head(5)"
   ]
  },
  {
   "cell_type": "code",
   "execution_count": null,
   "metadata": {},
   "outputs": [],
   "source": [
    "%%time\n",
    "df = sqlContext.createDataFrame(wt08.astype(str))\n",
    "df.write.parquet(\"s3://philipp-ghcnd/GHCND_WT08_1960_2020_US.parquet\")"
   ]
  }
 ],
 "metadata": {
  "kernelspec": {
   "display_name": "Python 3",
   "language": "python",
   "name": "python3"
  },
  "language_info": {
   "codemirror_mode": {
    "name": "ipython",
    "version": 3
   },
   "file_extension": ".py",
   "mimetype": "text/x-python",
   "name": "python",
   "nbconvert_exporter": "python",
   "pygments_lexer": "ipython3",
   "version": "3.4.5"
  }
 },
 "nbformat": 4,
 "nbformat_minor": 2
}
