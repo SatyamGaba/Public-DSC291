{
 "cells": [
  {
   "cell_type": "code",
   "execution_count": 1,
   "metadata": {},
   "outputs": [
    {
     "name": "stdout",
     "output_type": "stream",
     "text": [
      "finished standard imports\n",
      "dict_items([('spark.executor.memory', '3g'), ('spark.logConf', 'True'), ('spark.default.parallelism', '10'), ('spark.app.name', 'Weather_PCA'), ('spark.executor.cores', '1'), ('spark.cores.max', '4')])\n",
      "started SparkContext and SQLContext in 13.09 seconds\n",
      "loaded weather.parquet in 6.90 seconds\n",
      "loaded stations.parquet in 0.21 seconds\n",
      "registered dataframes as tables in 0.20 seconds\n"
     ]
    }
   ],
   "source": [
    "from Startup import *"
   ]
  },
  {
   "cell_type": "code",
   "execution_count": 2,
   "metadata": {},
   "outputs": [
    {
     "name": "stdout",
     "output_type": "stream",
     "text": [
      "CPU times: user 24 ms, sys: 4 ms, total: 28 ms\n",
      "Wall time: 8.07 s\n"
     ]
    }
   ],
   "source": [
    "%%time\n",
    "from pyspark.sql.types import *\n",
    "sc.stop()\n",
    "sc = SparkContext(appName=\"CSV2Parquet\")\n",
    "sqlContext = SQLContext(sc)"
   ]
  },
  {
   "cell_type": "code",
   "execution_count": 3,
   "metadata": {},
   "outputs": [
    {
     "name": "stdout",
     "output_type": "stream",
     "text": [
      "CPU times: user 2.24 s, sys: 152 ms, total: 2.39 s\n",
      "Wall time: 9.08 s\n"
     ]
    }
   ],
   "source": [
    "%%time\n",
    "schemaString = \"id year_date element data_value\"\n",
    "schema = StructType([StructField(field_name, StringType(), True) for field_name in schemaString.split()])\n",
    "allYears = np.arange(1763,2021)\n",
    "for yr in allYears:\n",
    "    fn = \"s3://noaa-ghcn-pds/csv/\" + str(yr) + \".csv\"\n",
    "    dt = sc.textFile(fn).map(lambda l: l.split(\",\")).map(lambda p: ([x.strip() for x in p[0:4]]))\n",
    "    schemaDT = sqlContext.createDataFrame(dt, schema)\n",
    "    if yr == allYears[0]:\n",
    "        df = schemaDT\n",
    "    else:\n",
    "        df = df.union(schemaDT)"
   ]
  },
  {
   "cell_type": "code",
   "execution_count": 4,
   "metadata": {},
   "outputs": [
    {
     "name": "stdout",
     "output_type": "stream",
     "text": [
      "CPU times: user 404 ms, sys: 48 ms, total: 452 ms\n",
      "Wall time: 46min 19s\n"
     ]
    }
   ],
   "source": [
    "# %%time\n",
    "# df.write.parquet(\"GHCND.parquet\")"
   ]
  },
  {
   "cell_type": "code",
   "execution_count": 8,
   "metadata": {},
   "outputs": [
    {
     "name": "stdout",
     "output_type": "stream",
     "text": [
      "CPU times: user 656 ms, sys: 60 ms, total: 716 ms\n",
      "Wall time: 1h 36min 38s\n"
     ]
    }
   ],
   "source": [
    "%%time\n",
    "df.write.parquet(\"s3://philipp-ghcnd/GHCND.parquet\")"
   ]
  },
  {
   "cell_type": "code",
   "execution_count": 9,
   "metadata": {
    "collapsed": true
   },
   "outputs": [],
   "source": [
    "# df.coalesce(1).write.parquet(\"s3://philipp-ghcnd/GHCNDall.parquet\")"
   ]
  },
  {
   "cell_type": "code",
   "execution_count": 5,
   "metadata": {},
   "outputs": [
    {
     "name": "stdout",
     "output_type": "stream",
     "text": [
      "CPU times: user 0 ns, sys: 0 ns, total: 0 ns\n",
      "Wall time: 1.24 s\n"
     ]
    }
   ],
   "source": [
    "%%time\n",
    "qry = \"\"\"\n",
    "SELECT SUBSTRING(year_date, 1, 4) AS year, \n",
    "       COUNT(element) AS count\n",
    "FROM parquet.`GHCND.parquet`\n",
    "WHERE SUBSTRING(year_date, 5, 8)<>'0229'\n",
    "GROUP BY SUBSTRING(year_date, 1, 4)\n",
    "ORDER BY SUBSTRING(year_date, 1, 4) ASC\"\"\"\n",
    "results = sqlContext.sql(qry)"
   ]
  },
  {
   "cell_type": "code",
   "execution_count": 6,
   "metadata": {},
   "outputs": [
    {
     "name": "stdout",
     "output_type": "stream",
     "text": [
      "+----+-----+\n",
      "|year|count|\n",
      "+----+-----+\n",
      "|1763|  730|\n",
      "|1764|  730|\n",
      "|1765|  730|\n",
      "|1766|  730|\n",
      "|1767|  730|\n",
      "|1768|  730|\n",
      "|1769|  730|\n",
      "|1770|  730|\n",
      "|1771|  730|\n",
      "|1772|  730|\n",
      "|1773|  730|\n",
      "|1774|  730|\n",
      "|1775| 1460|\n",
      "|1776| 1460|\n",
      "|1777| 1460|\n",
      "|1778| 1460|\n",
      "|1779| 1460|\n",
      "|1780| 1460|\n",
      "|1781| 1825|\n",
      "|1782| 1825|\n",
      "+----+-----+\n",
      "only showing top 20 rows\n",
      "\n",
      "CPU times: user 4 ms, sys: 0 ns, total: 4 ms\n",
      "Wall time: 50.3 s\n"
     ]
    }
   ],
   "source": [
    "%%time\n",
    "results.show()"
   ]
  },
  {
   "cell_type": "code",
   "execution_count": 7,
   "metadata": {},
   "outputs": [
    {
     "name": "stdout",
     "output_type": "stream",
     "text": [
      "CPU times: user 236 ms, sys: 4 ms, total: 240 ms\n",
      "Wall time: 1min 21s\n"
     ]
    },
    {
     "data": {
      "image/png": "[encoded data removed]",
      "text/plain": [
       "<matplotlib.figure.Figure at 0x7f423ce7d160>"
      ]
     },
     "metadata": {},
     "output_type": "display_data"
    }
   ],
   "source": [
    "%%time\n",
    "allyears = results.select('year').collect()\n",
    "allcounts = results.select('count').collect()\n",
    "from matplotlib import pyplot as plt\n",
    "%matplotlib inline\n",
    "fig1 = plt.figure()\n",
    "ax1 = fig1.add_axes([0,0,1,1])\n",
    "ax1.plot(allyears, allcounts)\n",
    "ax1.set_title('total GHCN-D measurement count by year')\n",
    "ax1.set_ylabel('count')\n",
    "ax1.set_xlabel('year')"
   ]
  },
  {
   "cell_type": "code",
   "execution_count": null,
   "metadata": {
    "collapsed": true
   },
   "outputs": [],
   "source": []
  }
 ],
 "metadata": {
  "kernelspec": {
   "display_name": "Python 3",
   "language": "python",
   "name": "python3"
  },
  "language_info": {
   "codemirror_mode": {
    "name": "ipython",
    "version": 3
   },
   "file_extension": ".py",
   "mimetype": "text/x-python",
   "name": "python",
   "nbconvert_exporter": "python",
   "pygments_lexer": "ipython3",
   "version": "3.4.5"
  }
 },
 "nbformat": 4,
 "nbformat_minor": 2
}
