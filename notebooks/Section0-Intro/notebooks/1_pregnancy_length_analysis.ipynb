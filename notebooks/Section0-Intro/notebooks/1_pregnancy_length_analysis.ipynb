{
 "cells": [
  {
   "cell_type": "code",
   "execution_count": 1,
   "metadata": {
    "ExecuteTime": {
     "end_time": "2019-09-19T19:51:55.922213Z",
     "start_time": "2019-09-19T19:51:55.493849Z"
    }
   },
   "outputs": [
    {
     "name": "stdout",
     "output_type": "stream",
     "text": [
      "Populating the interactive namespace from numpy and matplotlib\n"
     ]
    }
   ],
   "source": [
    "# This line loads into iPython the libraries needed to generate \n",
    "# graphics in-line\n",
    "%pylab inline"
   ]
  },
  {
   "cell_type": "markdown",
   "metadata": {},
   "source": [
    "### Birth Statistics Data ###\n",
    "\n",
    "This notebook's goal is to study the question: *Are first-born babies more likely to arrive late?*\n",
    "\n",
    "It is based on the book [Think Stats](http://www.greenteapress.com/thinkstats/)\n",
    "\n",
    "#### Loading the data ####\n",
    "The data we use is originally from NSFG (National Survey of Family Growth) and can also be downloaded from from [the data section of the Think Stats web site](http://www.greenteapress.com/thinkstats/nsfg.html).\n",
    "\n",
    "The file that we use in this notebook is `2002FemPreg.dat`\n",
    "\n",
    "As a first step we extract from the file `survey.py` (which is part of the [Think-Stats code examples zip file](http://www.greenteapress.com/thinkstats/thinkstats.code.zip)) a few lines that define the format of the file `2002FemPreg.dat`."
   ]
  },
  {
   "cell_type": "code",
   "execution_count": 2,
   "metadata": {
    "ExecuteTime": {
     "end_time": "2019-09-19T19:51:57.707684Z",
     "start_time": "2019-09-19T19:51:57.578027Z"
    }
   },
   "outputs": [
    {
     "name": "stdout",
     "output_type": "stream",
     "text": [
      "           1 1     6 1     11093 1084     9 039 9   0  1 813             1093 13837                        1                5                                                                        116610931166 9201093                111             3    1   12  11         5391 110933316108432411211     2995 1212 69544441116122222 2 2224693215    000000000000000000000000000000000000003410.38939935294273869.3496019830486 6448.2711117047512 91231\r\n",
      "           1 2     6 1     11166 1157     9 039 9   0  2 714             1166  6542112  2  05 1 4  5       51               1   41  4  201 20                                                        1166109311661093116611661231        111             3    1   14  11         5391 211663925115738501211 2 432 8701414 69544441116122222 2 2224693215    000000000000000000000000000000000000003410.38939935294273869.3496019830486 6448.2711117047512 91231\r\n"
     ]
    }
   ],
   "source": [
    "!head -2 ../data/ThinkStatsData/2002FemPreg.dat"
   ]
  },
  {
   "cell_type": "markdown",
   "metadata": {},
   "source": [
    "#### record format ###\n",
    "\n",
    "The data consists of records, one record per line, each record corresponds to a single birth. The fields of the record are organized in a **Location specific** format, as defined below.\n",
    "\n",
    "* **field:** The name of the attribute where the field will be stored. Most of the time I use the name from the NSFG codebook, converted to all lower case.\n",
    "* **start:** The index of the starting column for this field. For example, the indices for caseid are 1–12.\n",
    "* **end:** The index of the ending column for this field. Unlike in Python,the end index is inclusive.\n",
    "* **conversion function:** A function that takes a string and converts it to an appropriate type. You can use built-in functions, like int and float, or user-defined functions. If the conversion fails, the attribute gets the string value ’NA’. If you don’t want to convert a field, you can provide an identity function or use str.\n"
   ]
  },
  {
   "cell_type": "code",
   "execution_count": 3,
   "metadata": {
    "ExecuteTime": {
     "end_time": "2019-09-19T19:51:59.493746Z",
     "start_time": "2019-09-19T19:51:59.489038Z"
    }
   },
   "outputs": [],
   "source": [
    "## This list of tuples defines the names and locations of the elements.\n",
    "fields=[\n",
    "    ('caseid', 1, 12, int),\n",
    "    ('nbrnaliv', 22, 22, int),\n",
    "    ('babysex', 56, 56, int),\n",
    "    ('birthwgt_lb', 57, 58, int),\n",
    "    ('birthwgt_oz', 59, 60, int),\n",
    "    ('prglength', 275, 276, int),\n",
    "    ('outcome', 277, 277, int),\n",
    "    ('birthord', 278, 279, int),\n",
    "    ('agepreg', 284, 287, int),\n",
    "    ('finalwgt', 423, 440, float),\n",
    "]"
   ]
  },
  {
   "cell_type": "markdown",
   "metadata": {},
   "source": [
    "#### Description of the fields\n",
    "\n",
    "* **caseid** is the integer ID of the respondent.\n",
    "* **nbrnaliv** number of babies born together (twins, triplets etc.)\n",
    "* **babysex** 1=male, 2=female\n",
    "* **birthwgt_lb** weight of newborn (pounds)\n",
    "* **birthwgt_oz** weight of newborn (ounces)\n",
    "* **prglength** is the integer duration of the pregnancy in weeks.\n",
    "* **outcome** is an integer code for the outcome of the pregnancy. The code 1 indicates a live birth.\n",
    " \n",
    "* **birthord** is the integer birth order of each live birth; for example, the code for a first child is 1. For outcomes other than live birth, this field is blank.\n",
    "* **agepreg** mother's age at pregnancy outcome (devide by 100 to get years)\n",
    "* **finalwgt** is the statistical weight associated with the respondent. It is a floating- point value that indicates the number of people in the U.S. population this respondent represents. Members of oversampled groups have lower weights.\n"
   ]
  },
  {
   "cell_type": "markdown",
   "metadata": {},
   "source": [
    "### read and parse data ###\n",
    "In the next cell we read the file, parse it according to `fields`, and create a dictionary of lists, one for each field."
   ]
  },
  {
   "cell_type": "code",
   "execution_count": 4,
   "metadata": {
    "ExecuteTime": {
     "end_time": "2019-09-19T19:52:45.646852Z",
     "start_time": "2019-09-19T19:52:45.512791Z"
    }
   },
   "outputs": [],
   "source": [
    "# columns is initialized as a dictionary\n",
    "columns={}\n",
    "# an empty list is created for each field\n",
    "for (field, start, end, cast) in fields:\n",
    "    columns[field]=[]\n",
    "    \n",
    "# The data is read from the file and inserted into the table.\n",
    "file=open('../data/ThinkStatsData/2002FemPreg.dat','r')\n",
    "for line in file.readlines():\n",
    "    for (field, start, end, cast) in fields:\n",
    "        try:\n",
    "            s = line[start-1:end]\n",
    "            val = cast(s)\n",
    "        except ValueError:\n",
    "            #print line\n",
    "            #print field, start, end, s\n",
    "            val = None\n",
    "        columns[field].append(val)"
   ]
  },
  {
   "cell_type": "markdown",
   "metadata": {},
   "source": [
    "#### Read into a Pandas Dataframe"
   ]
  },
  {
   "cell_type": "code",
   "execution_count": 5,
   "metadata": {
    "ExecuteTime": {
     "end_time": "2019-09-19T19:52:54.014792Z",
     "start_time": "2019-09-19T19:52:53.432526Z"
    }
   },
   "outputs": [
    {
     "name": "stdout",
     "output_type": "stream",
     "text": [
      "(13593, 10)\n"
     ]
    },
    {
     "data": {
      "text/html": [
       "<div>\n",
       "<style scoped>\n",
       "    .dataframe tbody tr th:only-of-type {\n",
       "        vertical-align: middle;\n",
       "    }\n",
       "\n",
       "    .dataframe tbody tr th {\n",
       "        vertical-align: top;\n",
       "    }\n",
       "\n",
       "    .dataframe thead th {\n",
       "        text-align: right;\n",
       "    }\n",
       "</style>\n",
       "<table border=\"1\" class=\"dataframe\">\n",
       "  <thead>\n",
       "    <tr style=\"text-align: right;\">\n",
       "      <th></th>\n",
       "      <th>caseid</th>\n",
       "      <th>nbrnaliv</th>\n",
       "      <th>babysex</th>\n",
       "      <th>birthwgt_lb</th>\n",
       "      <th>birthwgt_oz</th>\n",
       "      <th>prglength</th>\n",
       "      <th>outcome</th>\n",
       "      <th>birthord</th>\n",
       "      <th>agepreg</th>\n",
       "      <th>finalwgt</th>\n",
       "    </tr>\n",
       "  </thead>\n",
       "  <tbody>\n",
       "    <tr>\n",
       "      <th>0</th>\n",
       "      <td>1</td>\n",
       "      <td>1.0</td>\n",
       "      <td>1.0</td>\n",
       "      <td>8.0</td>\n",
       "      <td>13.0</td>\n",
       "      <td>39</td>\n",
       "      <td>1</td>\n",
       "      <td>1.0</td>\n",
       "      <td>3316.0</td>\n",
       "      <td>6448.271112</td>\n",
       "    </tr>\n",
       "    <tr>\n",
       "      <th>1</th>\n",
       "      <td>1</td>\n",
       "      <td>1.0</td>\n",
       "      <td>2.0</td>\n",
       "      <td>7.0</td>\n",
       "      <td>14.0</td>\n",
       "      <td>39</td>\n",
       "      <td>1</td>\n",
       "      <td>2.0</td>\n",
       "      <td>3925.0</td>\n",
       "      <td>6448.271112</td>\n",
       "    </tr>\n",
       "    <tr>\n",
       "      <th>2</th>\n",
       "      <td>2</td>\n",
       "      <td>3.0</td>\n",
       "      <td>1.0</td>\n",
       "      <td>9.0</td>\n",
       "      <td>2.0</td>\n",
       "      <td>39</td>\n",
       "      <td>1</td>\n",
       "      <td>1.0</td>\n",
       "      <td>1433.0</td>\n",
       "      <td>12999.542264</td>\n",
       "    </tr>\n",
       "    <tr>\n",
       "      <th>3</th>\n",
       "      <td>2</td>\n",
       "      <td>1.0</td>\n",
       "      <td>2.0</td>\n",
       "      <td>7.0</td>\n",
       "      <td>0.0</td>\n",
       "      <td>39</td>\n",
       "      <td>1</td>\n",
       "      <td>2.0</td>\n",
       "      <td>1783.0</td>\n",
       "      <td>12999.542264</td>\n",
       "    </tr>\n",
       "    <tr>\n",
       "      <th>4</th>\n",
       "      <td>2</td>\n",
       "      <td>1.0</td>\n",
       "      <td>2.0</td>\n",
       "      <td>6.0</td>\n",
       "      <td>3.0</td>\n",
       "      <td>39</td>\n",
       "      <td>1</td>\n",
       "      <td>3.0</td>\n",
       "      <td>1833.0</td>\n",
       "      <td>12999.542264</td>\n",
       "    </tr>\n",
       "  </tbody>\n",
       "</table>\n",
       "</div>"
      ],
      "text/plain": [
       "   caseid  nbrnaliv  babysex  birthwgt_lb  birthwgt_oz  prglength  outcome  \\\n",
       "0       1       1.0      1.0          8.0         13.0         39        1   \n",
       "1       1       1.0      2.0          7.0         14.0         39        1   \n",
       "2       2       3.0      1.0          9.0          2.0         39        1   \n",
       "3       2       1.0      2.0          7.0          0.0         39        1   \n",
       "4       2       1.0      2.0          6.0          3.0         39        1   \n",
       "\n",
       "   birthord  agepreg      finalwgt  \n",
       "0       1.0   3316.0   6448.271112  \n",
       "1       2.0   3925.0   6448.271112  \n",
       "2       1.0   1433.0  12999.542264  \n",
       "3       2.0   1783.0  12999.542264  \n",
       "4       3.0   1833.0  12999.542264  "
      ]
     },
     "execution_count": 5,
     "metadata": {},
     "output_type": "execute_result"
    }
   ],
   "source": [
    "import pandas\n",
    "DF=pandas.DataFrame(data=columns)\n",
    "print(DF.shape)\n",
    "DF.head()"
   ]
  },
  {
   "cell_type": "markdown",
   "metadata": {},
   "source": [
    "### Cleaning up the weights field ###"
   ]
  },
  {
   "cell_type": "code",
   "execution_count": 6,
   "metadata": {
    "ExecuteTime": {
     "end_time": "2019-09-19T19:52:59.843582Z",
     "start_time": "2019-09-19T19:52:59.640030Z"
    }
   },
   "outputs": [
    {
     "data": {
      "text/plain": [
       "<matplotlib.axes._subplots.AxesSubplot at 0x112cb75d0>"
      ]
     },
     "execution_count": 6,
     "metadata": {},
     "output_type": "execute_result"
    },
    {
     "data": {
      "image/png": "[encoded data removed]",
      "text/plain": [
       "<Figure size 432x288 with 1 Axes>"
      ]
     },
     "metadata": {
      "needs_background": "light"
     },
     "output_type": "display_data"
    }
   ],
   "source": [
    "DF['birthwgt_lb'].hist()\n",
    "#title('birthwgt_lb')"
   ]
  },
  {
   "cell_type": "markdown",
   "metadata": {},
   "source": [
    "We don't expect to see babies whose birth weight is > 90 Lb. Lets check these records out."
   ]
  },
  {
   "cell_type": "code",
   "execution_count": 7,
   "metadata": {
    "ExecuteTime": {
     "end_time": "2019-09-19T19:53:05.656546Z",
     "start_time": "2019-09-19T19:53:05.640285Z"
    }
   },
   "outputs": [
    {
     "data": {
      "text/html": [
       "<div>\n",
       "<style scoped>\n",
       "    .dataframe tbody tr th:only-of-type {\n",
       "        vertical-align: middle;\n",
       "    }\n",
       "\n",
       "    .dataframe tbody tr th {\n",
       "        vertical-align: top;\n",
       "    }\n",
       "\n",
       "    .dataframe thead th {\n",
       "        text-align: right;\n",
       "    }\n",
       "</style>\n",
       "<table border=\"1\" class=\"dataframe\">\n",
       "  <thead>\n",
       "    <tr style=\"text-align: right;\">\n",
       "      <th></th>\n",
       "      <th>caseid</th>\n",
       "      <th>nbrnaliv</th>\n",
       "      <th>babysex</th>\n",
       "      <th>birthwgt_lb</th>\n",
       "      <th>birthwgt_oz</th>\n",
       "      <th>prglength</th>\n",
       "      <th>outcome</th>\n",
       "      <th>birthord</th>\n",
       "      <th>agepreg</th>\n",
       "      <th>finalwgt</th>\n",
       "    </tr>\n",
       "  </thead>\n",
       "  <tbody>\n",
       "    <tr>\n",
       "      <th>126</th>\n",
       "      <td>145</td>\n",
       "      <td>1.0</td>\n",
       "      <td>1.0</td>\n",
       "      <td>99.0</td>\n",
       "      <td>NaN</td>\n",
       "      <td>39</td>\n",
       "      <td>1</td>\n",
       "      <td>2.0</td>\n",
       "      <td>2275.0</td>\n",
       "      <td>6131.419855</td>\n",
       "    </tr>\n",
       "    <tr>\n",
       "      <th>127</th>\n",
       "      <td>145</td>\n",
       "      <td>1.0</td>\n",
       "      <td>1.0</td>\n",
       "      <td>99.0</td>\n",
       "      <td>NaN</td>\n",
       "      <td>39</td>\n",
       "      <td>1</td>\n",
       "      <td>3.0</td>\n",
       "      <td>2875.0</td>\n",
       "      <td>6131.419855</td>\n",
       "    </tr>\n",
       "    <tr>\n",
       "      <th>129</th>\n",
       "      <td>145</td>\n",
       "      <td>1.0</td>\n",
       "      <td>2.0</td>\n",
       "      <td>99.0</td>\n",
       "      <td>NaN</td>\n",
       "      <td>39</td>\n",
       "      <td>1</td>\n",
       "      <td>4.0</td>\n",
       "      <td>3441.0</td>\n",
       "      <td>6131.419855</td>\n",
       "    </tr>\n",
       "    <tr>\n",
       "      <th>233</th>\n",
       "      <td>252</td>\n",
       "      <td>1.0</td>\n",
       "      <td>1.0</td>\n",
       "      <td>99.0</td>\n",
       "      <td>NaN</td>\n",
       "      <td>40</td>\n",
       "      <td>1</td>\n",
       "      <td>1.0</td>\n",
       "      <td>2658.0</td>\n",
       "      <td>10810.594955</td>\n",
       "    </tr>\n",
       "    <tr>\n",
       "      <th>234</th>\n",
       "      <td>252</td>\n",
       "      <td>1.0</td>\n",
       "      <td>2.0</td>\n",
       "      <td>99.0</td>\n",
       "      <td>NaN</td>\n",
       "      <td>40</td>\n",
       "      <td>1</td>\n",
       "      <td>2.0</td>\n",
       "      <td>2800.0</td>\n",
       "      <td>10810.594955</td>\n",
       "    </tr>\n",
       "  </tbody>\n",
       "</table>\n",
       "</div>"
      ],
      "text/plain": [
       "     caseid  nbrnaliv  babysex  birthwgt_lb  birthwgt_oz  prglength  outcome  \\\n",
       "126     145       1.0      1.0         99.0          NaN         39        1   \n",
       "127     145       1.0      1.0         99.0          NaN         39        1   \n",
       "129     145       1.0      2.0         99.0          NaN         39        1   \n",
       "233     252       1.0      1.0         99.0          NaN         40        1   \n",
       "234     252       1.0      2.0         99.0          NaN         40        1   \n",
       "\n",
       "     birthord  agepreg      finalwgt  \n",
       "126       2.0   2275.0   6131.419855  \n",
       "127       3.0   2875.0   6131.419855  \n",
       "129       4.0   3441.0   6131.419855  \n",
       "233       1.0   2658.0  10810.594955  \n",
       "234       2.0   2800.0  10810.594955  "
      ]
     },
     "execution_count": 7,
     "metadata": {},
     "output_type": "execute_result"
    }
   ],
   "source": [
    "DF[DF['birthwgt_lb']>20].head()"
   ]
  },
  {
   "cell_type": "markdown",
   "metadata": {},
   "source": [
    "Clearly the ones with weight 99 pounds are cases for which the weight is not available.\n",
    "\n",
    "Lets check on weights that are below 99 lb but above 20. It turns out there are only 3 such records, so we can safely ignore them."
   ]
  },
  {
   "cell_type": "code",
   "execution_count": 8,
   "metadata": {
    "ExecuteTime": {
     "end_time": "2019-09-19T19:53:11.365765Z",
     "start_time": "2019-09-19T19:53:11.351936Z"
    }
   },
   "outputs": [
    {
     "data": {
      "text/html": [
       "<div>\n",
       "<style scoped>\n",
       "    .dataframe tbody tr th:only-of-type {\n",
       "        vertical-align: middle;\n",
       "    }\n",
       "\n",
       "    .dataframe tbody tr th {\n",
       "        vertical-align: top;\n",
       "    }\n",
       "\n",
       "    .dataframe thead th {\n",
       "        text-align: right;\n",
       "    }\n",
       "</style>\n",
       "<table border=\"1\" class=\"dataframe\">\n",
       "  <thead>\n",
       "    <tr style=\"text-align: right;\">\n",
       "      <th></th>\n",
       "      <th>caseid</th>\n",
       "      <th>nbrnaliv</th>\n",
       "      <th>babysex</th>\n",
       "      <th>birthwgt_lb</th>\n",
       "      <th>birthwgt_oz</th>\n",
       "      <th>prglength</th>\n",
       "      <th>outcome</th>\n",
       "      <th>birthord</th>\n",
       "      <th>agepreg</th>\n",
       "      <th>finalwgt</th>\n",
       "    </tr>\n",
       "  </thead>\n",
       "  <tbody>\n",
       "    <tr>\n",
       "      <th>5989</th>\n",
       "      <td>5466</td>\n",
       "      <td>1.0</td>\n",
       "      <td>7.0</td>\n",
       "      <td>97.0</td>\n",
       "      <td>97.0</td>\n",
       "      <td>38</td>\n",
       "      <td>1</td>\n",
       "      <td>2.0</td>\n",
       "      <td>1891.0</td>\n",
       "      <td>11139.342669</td>\n",
       "    </tr>\n",
       "    <tr>\n",
       "      <th>6069</th>\n",
       "      <td>5540</td>\n",
       "      <td>1.0</td>\n",
       "      <td>2.0</td>\n",
       "      <td>51.0</td>\n",
       "      <td>6.0</td>\n",
       "      <td>39</td>\n",
       "      <td>1</td>\n",
       "      <td>2.0</td>\n",
       "      <td>1841.0</td>\n",
       "      <td>21369.488468</td>\n",
       "    </tr>\n",
       "    <tr>\n",
       "      <th>12118</th>\n",
       "      <td>11180</td>\n",
       "      <td>1.0</td>\n",
       "      <td>2.0</td>\n",
       "      <td>98.0</td>\n",
       "      <td>98.0</td>\n",
       "      <td>35</td>\n",
       "      <td>1</td>\n",
       "      <td>1.0</td>\n",
       "      <td>2041.0</td>\n",
       "      <td>10663.726931</td>\n",
       "    </tr>\n",
       "  </tbody>\n",
       "</table>\n",
       "</div>"
      ],
      "text/plain": [
       "       caseid  nbrnaliv  babysex  birthwgt_lb  birthwgt_oz  prglength  \\\n",
       "5989     5466       1.0      7.0         97.0         97.0         38   \n",
       "6069     5540       1.0      2.0         51.0          6.0         39   \n",
       "12118   11180       1.0      2.0         98.0         98.0         35   \n",
       "\n",
       "       outcome  birthord  agepreg      finalwgt  \n",
       "5989         1       2.0   1891.0  11139.342669  \n",
       "6069         1       2.0   1841.0  21369.488468  \n",
       "12118        1       1.0   2041.0  10663.726931  "
      ]
     },
     "execution_count": 8,
     "metadata": {},
     "output_type": "execute_result"
    }
   ],
   "source": [
    "selector=(DF['birthwgt_lb']>20) & (DF['birthwgt_lb']<99)\n",
    "DF[selector].head()"
   ]
  },
  {
   "cell_type": "code",
   "execution_count": 9,
   "metadata": {
    "ExecuteTime": {
     "end_time": "2019-09-19T19:53:12.197554Z",
     "start_time": "2019-09-19T19:53:12.191521Z"
    }
   },
   "outputs": [],
   "source": [
    "DF=DF[~selector]"
   ]
  },
  {
   "cell_type": "markdown",
   "metadata": {},
   "source": [
    "It seems that these three cases are mistakes. It is safer to leave them out.\n",
    "\n",
    "We therefor retain only the records with birth weight smaller than 20.\n",
    "We also combine the lb and oz columns into a single weight column."
   ]
  },
  {
   "cell_type": "code",
   "execution_count": 10,
   "metadata": {
    "ExecuteTime": {
     "end_time": "2019-09-19T19:53:15.105887Z",
     "start_time": "2019-09-19T19:53:14.574848Z"
    }
   },
   "outputs": [
    {
     "data": {
      "text/plain": [
       "(13590, 11)"
      ]
     },
     "execution_count": 10,
     "metadata": {},
     "output_type": "execute_result"
    },
    {
     "data": {
      "image/png": "[encoded data removed]",
      "text/plain": [
       "<Figure size 432x288 with 1 Axes>"
      ]
     },
     "metadata": {
      "needs_background": "light"
     },
     "output_type": "display_data"
    }
   ],
   "source": [
    "select=DF['birthwgt_lb']<20\n",
    "DF['weight']=DF[select]['birthwgt_lb']+DF[select]['birthwgt_oz']/16\n",
    "DF['weight'].hist(bins=32)\n",
    "DF.shape"
   ]
  },
  {
   "cell_type": "markdown",
   "metadata": {},
   "source": [
    "Now the distribution of weights looks close to Normal, so we are reasonably confident the these records are legit.\n",
    "\n",
    "### Lets find out which fields tend to be undefined"
   ]
  },
  {
   "cell_type": "code",
   "execution_count": 11,
   "metadata": {
    "ExecuteTime": {
     "end_time": "2019-09-19T19:53:29.123728Z",
     "start_time": "2019-09-19T19:53:29.111272Z"
    }
   },
   "outputs": [
    {
     "name": "stdout",
     "output_type": "stream",
     "text": [
      "(13590, 11) (13590, 11)\n"
     ]
    },
    {
     "data": {
      "text/plain": [
       "caseid            0\n",
       "nbrnaliv       4445\n",
       "babysex        4449\n",
       "birthwgt_lb    4449\n",
       "birthwgt_oz    4506\n",
       "prglength         0\n",
       "outcome           0\n",
       "birthord       4445\n",
       "agepreg         352\n",
       "finalwgt          0\n",
       "weight         4506\n",
       "dtype: int64"
      ]
     },
     "execution_count": 11,
     "metadata": {},
     "output_type": "execute_result"
    }
   ],
   "source": [
    "anomalies=isnan(DF)  # anomalies is true (1) if \n",
    "                     # the corresponding DF entry is nan\n",
    "print(shape(anomalies),shape(DF))\n",
    "sum(anomalies)"
   ]
  },
  {
   "cell_type": "markdown",
   "metadata": {},
   "source": [
    "There seem to be about 4445 cases with about 6 undefined fields.\n",
    "\n",
    "To make sure, lets see what is the outcome of the the pregnancy in those cases where >4 fields are not defined. Remember that outcome=1 indicates live birth, hopefully the normal outcome.\n"
   ]
  },
  {
   "cell_type": "code",
   "execution_count": 12,
   "metadata": {
    "ExecuteTime": {
     "end_time": "2019-09-19T19:54:05.766130Z",
     "start_time": "2019-09-19T19:54:05.756745Z"
    }
   },
   "outputs": [
    {
     "data": {
      "text/plain": [
       "Counter({2: 1862, 4: 1921, 5: 190, 3: 120, 6: 352})"
      ]
     },
     "execution_count": 12,
     "metadata": {},
     "output_type": "execute_result"
    }
   ],
   "source": [
    "from collections import Counter\n",
    "Counter(DF.loc[sum(anomalies,axis=1)>4,:]['outcome'])"
   ]
  },
  {
   "cell_type": "markdown",
   "metadata": {},
   "source": [
    "Here are the codes for the outcome of the pregnancy\n",
    "\n",
    "|  code  |  description  |\n",
    "| ------ | ------------- |\n",
    "| 1\t     |  Live birth |\n",
    "| 2\t     |  Stillbirth |\n",
    "| 3\t     |  Miscarriage |\n",
    "| 4\t     |  Termination of Pregnancy less than 24 weeks |\n",
    "| 5\t     |  Termination of Pregnancy equal to or greater than 24 weeks |\n",
    "| X\t     |  Other including vanishing/papyraceous twin, or ectopic |\n",
    "\n",
    "\n",
    "The records with a large number of undefined fields correspond to outcomes other than 1=live birth. It seems like they correspond to dead newborns of different types. We therefor remove them from the dataset.\n",
    "\n",
    "We therefor keep only records where the outcome was 1=Live birth"
   ]
  },
  {
   "cell_type": "code",
   "execution_count": 13,
   "metadata": {
    "ExecuteTime": {
     "end_time": "2019-09-19T19:54:09.498543Z",
     "start_time": "2019-09-19T19:54:09.493152Z"
    }
   },
   "outputs": [
    {
     "data": {
      "text/plain": [
       "(9145, 11)"
      ]
     },
     "execution_count": 13,
     "metadata": {},
     "output_type": "execute_result"
    }
   ],
   "source": [
    "DF=DF[DF['outcome']==1]\n",
    "DF.shape"
   ]
  },
  {
   "cell_type": "markdown",
   "metadata": {},
   "source": [
    "Finished cleaning the data, now back to the question: \"Are first-born babies born later (after a longer pregnancy) ?\""
   ]
  },
  {
   "cell_type": "code",
   "execution_count": 14,
   "metadata": {
    "ExecuteTime": {
     "end_time": "2019-09-19T19:54:12.952122Z",
     "start_time": "2019-09-19T19:54:12.700285Z"
    },
    "scrolled": true
   },
   "outputs": [
    {
     "data": {
      "image/png": "[encoded data removed]",
      "text/plain": [
       "<Figure size 432x288 with 1 Axes>"
      ]
     },
     "metadata": {
      "needs_background": "light"
     },
     "output_type": "display_data"
    }
   ],
   "source": [
    "scatter(DF['birthord'],DF['prglength']);\n",
    "xlabel('birth order');\n",
    "ylabel('length of pregnancy');"
   ]
  },
  {
   "cell_type": "markdown",
   "metadata": {},
   "source": [
    "From the scatter plot it seems that first borns have a larger variance in the length of pregnancy (both longer and shorter). But that might be an artifact of the fact that the number of instances is largest for the first born and decreasing with increasing birth order.\n",
    "\n",
    "So lets try other visualizations."
   ]
  },
  {
   "cell_type": "code",
   "execution_count": 15,
   "metadata": {
    "ExecuteTime": {
     "end_time": "2019-09-19T19:54:15.093005Z",
     "start_time": "2019-09-19T19:54:14.748977Z"
    }
   },
   "outputs": [
    {
     "data": {
      "text/plain": [
       "<matplotlib.axes._subplots.AxesSubplot at 0x11e4722d0>"
      ]
     },
     "execution_count": 15,
     "metadata": {},
     "output_type": "execute_result"
    },
    {
     "data": {
      "image/png": "[encoded data removed]",
      "text/plain": [
       "<Figure size 432x288 with 1 Axes>"
      ]
     },
     "metadata": {
      "needs_background": "light"
     },
     "output_type": "display_data"
    }
   ],
   "source": [
    "DF.boxplot(column='prglength',by='birthord')"
   ]
  },
  {
   "cell_type": "code",
   "execution_count": 16,
   "metadata": {
    "ExecuteTime": {
     "end_time": "2019-09-19T19:54:16.335590Z",
     "start_time": "2019-09-19T19:54:16.012840Z"
    },
    "scrolled": true
   },
   "outputs": [
    {
     "data": {
      "image/png": "[encoded data removed]",
      "text/plain": [
       "<Figure size 432x288 with 1 Axes>"
      ]
     },
     "metadata": {
      "needs_background": "light"
     },
     "output_type": "display_data"
    }
   ],
   "source": [
    "DF['prglength'].hist(bins=50);\n",
    "DF[DF['birthord']==1]['prglength'].hist(bins=50);"
   ]
  },
  {
   "cell_type": "markdown",
   "metadata": {},
   "source": [
    "It seems hard to make conclusions. In the histogram above the blue corresponds to the overall population, the green corresponds to the first born. There seems to be a slight tendency towards a **shorter** pregnancy for the first borns.\n",
    "\n",
    "## How sure are we? Using statistical tests ##\n",
    "We use the ttest statistic to decide whether the mean pregnancy length for he first-born is lower for the first pregnancy."
   ]
  },
  {
   "cell_type": "code",
   "execution_count": 17,
   "metadata": {
    "ExecuteTime": {
     "end_time": "2019-09-19T19:54:19.135313Z",
     "start_time": "2019-09-19T19:54:18.698491Z"
    }
   },
   "outputs": [
    {
     "data": {
      "text/plain": [
       "Ttest_indResult(statistic=-0.8148729292668899, pvalue=0.4151593664475567)"
      ]
     },
     "execution_count": 17,
     "metadata": {},
     "output_type": "execute_result"
    }
   ],
   "source": [
    "from scipy.stats import ttest_ind\n",
    "\n",
    "D1 = DF['prglength']\n",
    "D2 = DF[DF['birthord']==1]['prglength']\n",
    "ttest_ind(D1,D2)\n"
   ]
  },
  {
   "cell_type": "markdown",
   "metadata": {},
   "source": [
    "A p-value of 0.415 corresponds to no confidence (result could have been generated by chance alone with prob %41.5 ."
   ]
  },
  {
   "cell_type": "markdown",
   "metadata": {},
   "source": [
    "## What did we learn?\n",
    "\n",
    "We saw how to use python and pandas to analyze and clean up the data. We then saw how to use visualizations and statistical tests to answer the query.\n",
    "\n",
    "In this case what we find is that, with this data, we **cannot** draw confident conclutions.\n",
    "\n",
    "From a data-processing point of view this notebook is an example of:\n",
    "1. iPython Notebooks.\n",
    "1. Some simple python data structure and code.\n",
    "1. Markdown.\n",
    "1. Pandas and DataFrames.\n"
   ]
  }
 ],
 "metadata": {
  "celltoolbar": "Raw Cell Format",
  "hide_input": false,
  "kernelspec": {
   "display_name": "Python 3",
   "language": "python",
   "name": "python3"
  },
  "language_info": {
   "codemirror_mode": {
    "name": "ipython",
    "version": 3
   },
   "file_extension": ".py",
   "mimetype": "text/x-python",
   "name": "python",
   "nbconvert_exporter": "python",
   "pygments_lexer": "ipython3",
   "version": "3.6.9"
  },
  "toc": {
   "base_numbering": 1,
   "nav_menu": {},
   "number_sections": true,
   "sideBar": true,
   "skip_h1_title": false,
   "title_cell": "Table of Contents",
   "title_sidebar": "Contents",
   "toc_cell": false,
   "toc_position": {},
   "toc_section_display": true,
   "toc_window_display": false
  }
 },
 "nbformat": 4,
 "nbformat_minor": 1
}
